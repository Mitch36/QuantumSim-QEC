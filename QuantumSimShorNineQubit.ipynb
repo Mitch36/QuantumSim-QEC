{
 "cells": [
  {
   "cell_type": "markdown",
   "metadata": {},
   "source": [
    "<h1> QuantumSim - Shor's Nine Qubit Code </h1>\n",
    "Author: Michel Meulen<br>\n",
    "Date: 13-11-2024<br>\n",
    "<br>\n",
    "In this chapter an introduction is presented to quantum error correction (QEC) with an analysis of Peter Shors nine qubit code circuit. All content presented in this notebook is based of my literature study, which can be found: INSERT LINK. For running this notebook we use two libraries: quantumsim, which you are probably quite familiar with already, and quantumerrorcorrection, which contains circuits to create Shors nine qubit code and custom error gates."
   ]
  },
  {
   "cell_type": "code",
   "execution_count": 1,
   "metadata": {},
   "outputs": [],
   "source": [
    "from quantumsim import *\n",
    "from quantumerrorcorrection import Shors"
   ]
  },
  {
   "cell_type": "markdown",
   "metadata": {},
   "source": [
    "<h1> Quantum logic gates used in this notebook </h1>\n",
    "\n",
    "<h3> NOT gate </h3>\n",
    "<img src=\"./pictures/not_gate_white_background.png\" alt=\"NOT quantum logic gate\" style=\"width:15%;\"/>\n",
    "<p> NOT description </p>\n",
    "\n",
    "\n",
    "<h3> CNOT gate </h3>\n",
    "<img src=\"./pictures/cnot_gate_white_background.png\" alt=\"CNOT quantum logic gate\" style=\"width:15%;\"/>\n",
    "<p> CNOT description </p>\n",
    "\n",
    "<h3> Toffoli gate (CCNOT) </h3>\n",
    "<img src=\"./pictures/toffoli_gate_white_background.png\" alt=\"Toffoli quantum logic gate\" style=\"width:15%;\"/>\n",
    "<p> Toffoli description </p>\n",
    "\n",
    "<h3> Hadamard gate </h3>\n",
    "<img src=\"./pictures/hadamard_gate_white_background.png\" alt=\"Hadamard quantum logic gate\" style=\"width:15%;\"/>\n",
    "\n",
    "<h3> Double Hadamard gate </h3>\n",
    "<img src=\"./pictures/hadamard_gate_white_background.png\" alt=\"Hadamard quantum logic gate\" style=\"width:10%;\"/>\n",
    "<img src=\"./pictures/hadamard_gate_white_background.png\" alt=\"Hadamard quantum logic gate\" style=\"width:10%;\"/>"
   ]
  },
  {
   "cell_type": "markdown",
   "metadata": {},
   "source": [
    "<h1> Bit-flip Correction Code </h1>\n",
    "<img src=\"./pictures/bitflip_correction_circuit_white_background.png\" alt=\"Bit flip correction circuit\" style=\"width:50%;\"/>"
   ]
  },
  {
   "cell_type": "code",
   "execution_count": 2,
   "metadata": {},
   "outputs": [
    {
     "name": "stdout",
     "output_type": "stream",
     "text": [
      "Initial value is |1>\n",
      "X..\tPauli X on qubit 0\n",
      "*X.\tCNOT with control qubit 0 and target qubit 1\n",
      "*.X\tCNOT with control qubit 0 and target qubit 2\n",
      "..X\tBit-flip error (Pauli X) on qubit 2\n",
      "*X.\tCNOT with control qubit 0 and target qubit 1\n",
      "*.X\tCNOT with control qubit 0 and target qubit 2\n",
      "x**\tToffoli with control qubit 1 and CNOT with control qubit 2 and target qubit 0\n",
      "Measured state:\n",
      "|101>\n",
      "|1>\t Measured value of qubit 0\n"
     ]
    }
   ],
   "source": [
    "# Encode the logical qubit state among multiple qubits\n",
    "bitFlipCorrectionCircuit = Circuit(3)\n",
    "bitFlipCorrectionCircuit.pauli_x(0)\n",
    "print(\"Initial value is |1>\")\n",
    "# Make init state: |100>\n",
    "\n",
    "bitFlipCorrectionCircuit.cnot(0, 1)\n",
    "bitFlipCorrectionCircuit.cnot(0, 2)\n",
    "# |111>\n",
    "\n",
    "# Create bitflip error\n",
    "bitFlipCorrectionCircuit.bitflip_error_random()\n",
    "\n",
    "# Decode, mayority check for correction\n",
    "bitFlipCorrectionCircuit.cnot(0, 1)\n",
    "bitFlipCorrectionCircuit.cnot(0, 2)\n",
    "bitFlipCorrectionCircuit.toffoli(1, 2, 0)\n",
    "\n",
    "bitFlipCorrectionCircuit.print_gates_and_descriptions()\n",
    "bitFlipCorrectionCircuit.execute(print_state=False)\n",
    "bitFlipCorrectionCircuit.measure(print_state=True)\n",
    "# Measured answer must always be |1??>\n",
    "print(bitFlipCorrectionCircuit.get_classical_state_of_qubit_as_string(0))\n"
   ]
  },
  {
   "cell_type": "markdown",
   "metadata": {},
   "source": [
    "## Phase-flip Correction Code\n",
    "<img src=\"./pictures/phaseflip_correction_circuit_white_background.png\" alt=\"Phase flip correction circuit\" style=\"width:50%;\"/>"
   ]
  },
  {
   "cell_type": "code",
   "execution_count": 3,
   "metadata": {},
   "outputs": [
    {
     "name": "stdout",
     "output_type": "stream",
     "text": [
      "Initial value is |1>\n",
      "X..\tPauli X on qubit 0\n",
      "*X.\tCNOT with control qubit 0 and target qubit 1\n",
      "*.X\tCNOT with control qubit 0 and target qubit 2\n",
      "H..\tHadamard on qubit 0\n",
      ".H.\tHadamard on qubit 1\n",
      "..H\tHadamard on qubit 2\n",
      "Z..\tPhase-flip error (Pauli Z) on qubit 0\n",
      "H..\tHadamard on qubit 0\n",
      ".H.\tHadamard on qubit 1\n",
      "..H\tHadamard on qubit 2\n",
      "*X.\tCNOT with control qubit 0 and target qubit 1\n",
      "*.X\tCNOT with control qubit 0 and target qubit 2\n",
      "x**\tToffoli with control qubit 1 and CNOT with control qubit 2 and target qubit 0\n",
      "Measured state:\n",
      "|111>\n",
      "|1>\t Measured value of qubit 0\n"
     ]
    }
   ],
   "source": [
    "# Encode the logical qubit state among multiple qubits\n",
    "phaseFlipCorrectionCircuit = Circuit(3)\n",
    "phaseFlipCorrectionCircuit.pauli_x(0)\n",
    "print(\"Initial value is |1>\")\n",
    "# Make init state: |100>\n",
    "\n",
    "phaseFlipCorrectionCircuit.cnot(0, 1)\n",
    "phaseFlipCorrectionCircuit.cnot(0, 2)\n",
    "# |111>\n",
    "\n",
    "phaseFlipCorrectionCircuit.hadamard(0)\n",
    "phaseFlipCorrectionCircuit.hadamard(1)\n",
    "phaseFlipCorrectionCircuit.hadamard(2)\n",
    "\n",
    "# Create Phase-flip error\n",
    "phaseFlipCorrectionCircuit.phaseflip_error_random()\n",
    "\n",
    "phaseFlipCorrectionCircuit.hadamard(0)\n",
    "phaseFlipCorrectionCircuit.hadamard(1)\n",
    "phaseFlipCorrectionCircuit.hadamard(2)\n",
    "\n",
    "# Decode, mayority check for correction\n",
    "phaseFlipCorrectionCircuit.cnot(0, 1)\n",
    "phaseFlipCorrectionCircuit.cnot(0, 2)\n",
    "phaseFlipCorrectionCircuit.toffoli(1, 2, 0)\n",
    "\n",
    "phaseFlipCorrectionCircuit.print_gates_and_descriptions()\n",
    "phaseFlipCorrectionCircuit.execute(print_state=False)\n",
    "phaseFlipCorrectionCircuit.measure(print_state=True)\n",
    "\n",
    "print(phaseFlipCorrectionCircuit.get_classical_state_of_qubit_as_string(0))\n"
   ]
  },
  {
   "cell_type": "markdown",
   "metadata": {},
   "source": [
    "## Shor's Nine Qubit Code\n",
    "<img src=\"./pictures/shors_ninequbit_circuit_white_background.png\" alt=\"Shors nine qubit code\" style=\"width:50%;\"/>"
   ]
  },
  {
   "cell_type": "code",
   "execution_count": 4,
   "metadata": {},
   "outputs": [
    {
     "name": "stdout",
     "output_type": "stream",
     "text": [
      "Initial value is |0>\n",
      "*..X.....\tCNOT with control qubit 0 and target qubit 3\n",
      "*.....X..\tCNOT with control qubit 0 and target qubit 6\n",
      "H........\tHadamard on qubit 0\n",
      "...H.....\tHadamard on qubit 3\n",
      "......H..\tHadamard on qubit 6\n",
      "*X.......\tCNOT with control qubit 0 and target qubit 1\n",
      "*.X......\tCNOT with control qubit 0 and target qubit 2\n",
      "...*X....\tCNOT with control qubit 3 and target qubit 4\n",
      "...*.X...\tCNOT with control qubit 3 and target qubit 5\n",
      "......*X.\tCNOT with control qubit 6 and target qubit 7\n",
      "......*.X\tCNOT with control qubit 6 and target qubit 8\n",
      ".......Z.\tPhase-flip error (Pauli Z) on qubit 7\n",
      "...X.....\tBit-flip error (Pauli X) on qubit 3\n",
      "*X.......\tCNOT with control qubit 0 and target qubit 1\n",
      "*.X......\tCNOT with control qubit 0 and target qubit 2\n",
      "x**......\tToffoli with control qubit 1 and CNOT with control qubit 2 and target qubit 0\n",
      "...*X....\tCNOT with control qubit 3 and target qubit 4\n",
      "...*.X...\tCNOT with control qubit 3 and target qubit 5\n",
      "...x**...\tToffoli with control qubit 4 and CNOT with control qubit 5 and target qubit 3\n",
      "......*X.\tCNOT with control qubit 6 and target qubit 7\n",
      "......*.X\tCNOT with control qubit 6 and target qubit 8\n",
      "......x**\tToffoli with control qubit 7 and CNOT with control qubit 8 and target qubit 6\n",
      "H........\tHadamard on qubit 0\n",
      "...H.....\tHadamard on qubit 3\n",
      "......H..\tHadamard on qubit 6\n",
      "*..X.....\tCNOT with control qubit 0 and target qubit 3\n",
      "*.....X..\tCNOT with control qubit 0 and target qubit 6\n",
      "x..*..*..\tToffoli with control qubit 3 and CNOT with control qubit 6 and target qubit 0\n",
      "Measured state:\n",
      "|000011100>\n",
      "|0>\t Measured value of qubit 0\n"
     ]
    }
   ],
   "source": [
    "# Create the encoder\n",
    "encoder = Shors.GetPhaseEncoderCircuit()\n",
    "encoder.append_circuit(Shors.GetBitEncoderCircuit(0))\n",
    "encoder.append_circuit(Shors.GetBitEncoderCircuit(3))\n",
    "encoder.append_circuit(Shors.GetBitEncoderCircuit(6))\n",
    "\n",
    "# Generate one random bit flip & phase flip error\n",
    "flips = Shors.GetPhaseFlipErrorCircuit(0)\n",
    "flips.append_circuit(Shors.GetBitFlipErrorCircuit(0))\n",
    "\n",
    "# Decode \n",
    "decoder = Shors.GetBitDecoderCircuit(0)\n",
    "decoder.append_circuit(Shors.GetBitDecoderCircuit(3))\n",
    "decoder.append_circuit(Shors.GetBitDecoderCircuit(6))\n",
    "decoder.append_circuit(Shors.GetPhaseDecoderCircuit())\n",
    "\n",
    "# Glue all parts of the circuit together\n",
    "shorsCode = Circuit(9)\n",
    "print(\"Initial value is |0>\")\n",
    "shorsCode.append_circuit(encoder)\n",
    "shorsCode.append_circuit(flips)\n",
    "shorsCode.append_circuit(decoder)\n",
    "\n",
    "# Execute and measure the ShorsCode\n",
    "shorsCode.print_gates_and_descriptions()\n",
    "shorsCode.execute(print_state=False)\n",
    "shorsCode.measure(print_state=True)\n",
    "\n",
    "print(shorsCode.get_classical_state_of_qubit_as_string(0))"
   ]
  }
 ],
 "metadata": {
  "kernelspec": {
   "display_name": ".venv",
   "language": "python",
   "name": "python3"
  },
  "language_info": {
   "codemirror_mode": {
    "name": "ipython",
    "version": 3
   },
   "file_extension": ".py",
   "mimetype": "text/x-python",
   "name": "python",
   "nbconvert_exporter": "python",
   "pygments_lexer": "ipython3",
   "version": "3.12.6"
  }
 },
 "nbformat": 4,
 "nbformat_minor": 2
}
