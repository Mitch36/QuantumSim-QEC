{
 "cells": [
  {
   "cell_type": "markdown",
   "metadata": {},
   "source": [
    "># QuantumSim - Shor's Nine Qubit Code\n",
    "In this chapter an introduction is presented to quantum error correction (QEC) "
   ]
  },
  {
   "cell_type": "code",
   "execution_count": 1,
   "metadata": {},
   "outputs": [],
   "source": [
    "from quantumsim import *"
   ]
  },
  {
   "attachments": {
    "image.png": {
     "image/png": "[encoded data removed]"
    }
   },
   "cell_type": "markdown",
   "metadata": {},
   "source": [
    "## Bit-flip Correction Code\n",
    "![image.png](attachment:image.png)"
   ]
  },
  {
   "cell_type": "code",
   "execution_count": null,
   "metadata": {},
   "outputs": [
    {
     "ename": "ValueError",
     "evalue": "Input matrix is not unitary",
     "output_type": "error",
     "traceback": [
      "\u001b[1;31m---------------------------------------------------------------------------\u001b[0m",
      "\u001b[1;31mValueError\u001b[0m                                Traceback (most recent call last)",
      "Cell \u001b[1;32mIn[2], line 22\u001b[0m\n\u001b[0;32m     15\u001b[0m bitFlipCorrectionCircuit\u001b[38;5;241m.\u001b[39mtoffoli(\u001b[38;5;241m1\u001b[39m, \u001b[38;5;241m2\u001b[39m, \u001b[38;5;241m0\u001b[39m)\n\u001b[0;32m     16\u001b[0m \u001b[38;5;66;03m# expected: |111>, results in: # |011>\u001b[39;00m\n\u001b[0;32m     17\u001b[0m \n\u001b[0;32m     18\u001b[0m \u001b[38;5;66;03m# bitFlipCorrectionCircuit.swap_registers()\u001b[39;00m\n\u001b[0;32m     19\u001b[0m \u001b[38;5;66;03m# bitFlipCorrectionCircuit.toffoli(0,1,2)\u001b[39;00m\n\u001b[0;32m     20\u001b[0m \u001b[38;5;66;03m# bitFlipCorrectionCircuit.swap_registers()\u001b[39;00m\n\u001b[1;32m---> 22\u001b[0m bitFlipCorrectionCircuit\u001b[38;5;241m.\u001b[39mexecute(print_state\u001b[38;5;241m=\u001b[39m\u001b[38;5;28;01mFalse\u001b[39;00m)\n\u001b[0;32m     23\u001b[0m bitFlipCorrectionCircuit\u001b[38;5;241m.\u001b[39mprint_circuit()\n\u001b[0;32m     24\u001b[0m bitFlipCorrectionCircuit\u001b[38;5;241m.\u001b[39mmeasure(print_state\u001b[38;5;241m=\u001b[39m\u001b[38;5;28;01mTrue\u001b[39;00m)\n",
      "File \u001b[1;32mc:\\School_Fontys_Michel_Meulen\\9_Master_of_Applied_IT\\QuantumSim-QEC\\quantumsim.py:764\u001b[0m, in \u001b[0;36mCircuit.execute\u001b[1;34m(self, print_state)\u001b[0m\n\u001b[0;32m    762\u001b[0m     \u001b[38;5;28mself\u001b[39m\u001b[38;5;241m.\u001b[39mstate_vector\u001b[38;5;241m.\u001b[39mprint()\n\u001b[0;32m    763\u001b[0m \u001b[38;5;28;01mfor\u001b[39;00m operation, description \u001b[38;5;129;01min\u001b[39;00m \u001b[38;5;28mzip\u001b[39m(\u001b[38;5;28mself\u001b[39m\u001b[38;5;241m.\u001b[39moperations, \u001b[38;5;28mself\u001b[39m\u001b[38;5;241m.\u001b[39mdescriptions):\n\u001b[1;32m--> 764\u001b[0m     \u001b[38;5;28mself\u001b[39m\u001b[38;5;241m.\u001b[39mstate_vector\u001b[38;5;241m.\u001b[39mapply_unitary_operation(operation)\n\u001b[0;32m    765\u001b[0m     \u001b[38;5;28mself\u001b[39m\u001b[38;5;241m.\u001b[39mquantum_states\u001b[38;5;241m.\u001b[39mappend(\u001b[38;5;28mself\u001b[39m\u001b[38;5;241m.\u001b[39mstate_vector\u001b[38;5;241m.\u001b[39mget_quantum_state())\n\u001b[0;32m    766\u001b[0m     \u001b[38;5;28;01mif\u001b[39;00m print_state:\n",
      "File \u001b[1;32mc:\\School_Fontys_Michel_Meulen\\9_Master_of_Applied_IT\\QuantumSim-QEC\\quantumsim.py:392\u001b[0m, in \u001b[0;36mStateVector.apply_unitary_operation\u001b[1;34m(self, operation)\u001b[0m\n\u001b[0;32m    389\u001b[0m \u001b[38;5;28;01mdef\u001b[39;00m \u001b[38;5;21mapply_unitary_operation\u001b[39m(\u001b[38;5;28mself\u001b[39m, operation):\n\u001b[0;32m    390\u001b[0m     \u001b[38;5;66;03m# Check if operation is a unitary matrix\u001b[39;00m\n\u001b[0;32m    391\u001b[0m     \u001b[38;5;28;01mif\u001b[39;00m \u001b[38;5;129;01mnot\u001b[39;00m np\u001b[38;5;241m.\u001b[39mallclose(np\u001b[38;5;241m.\u001b[39meye(\u001b[38;5;241m2\u001b[39m\u001b[38;5;241m*\u001b[39m\u001b[38;5;241m*\u001b[39m\u001b[38;5;28mself\u001b[39m\u001b[38;5;241m.\u001b[39mN), np\u001b[38;5;241m.\u001b[39mdot(np\u001b[38;5;241m.\u001b[39mconj(operation\u001b[38;5;241m.\u001b[39mT), operation)):\n\u001b[1;32m--> 392\u001b[0m         \u001b[38;5;28;01mraise\u001b[39;00m \u001b[38;5;167;01mValueError\u001b[39;00m(\u001b[38;5;124m\"\u001b[39m\u001b[38;5;124mInput matrix is not unitary\u001b[39m\u001b[38;5;124m\"\u001b[39m)\n\u001b[0;32m    393\u001b[0m     \u001b[38;5;28mself\u001b[39m\u001b[38;5;241m.\u001b[39mstate_vector \u001b[38;5;241m=\u001b[39m np\u001b[38;5;241m.\u001b[39mdot(operation, \u001b[38;5;28mself\u001b[39m\u001b[38;5;241m.\u001b[39mstate_vector)\n",
      "\u001b[1;31mValueError\u001b[0m: Input matrix is not unitary"
     ]
    }
   ],
   "source": [
    "# Encode the logical qubit state among multiple qubits\n",
    "bitFlipCorrectionCircuit = Circuit(3)\n",
    "bitFlipCorrectionCircuit.pauli_x(0)\n",
    "# |100>\n",
    "bitFlipCorrectionCircuit.cnot(0, 1)\n",
    "bitFlipCorrectionCircuit.cnot(0, 2)\n",
    "# |111>\n",
    "# Create bitflip error\n",
    "bitFlipCorrectionCircuit.pauli_x(0)\n",
    "\n",
    "# Decode, mayority check for correction\n",
    "bitFlipCorrectionCircuit.cnot(0, 1)\n",
    "bitFlipCorrectionCircuit.cnot(0, 2)\n",
    "bitFlipCorrectionCircuit.toffoli(1, 2, 0)\n",
    "# expected: |111>, results in: # |011>\n",
    "\n",
    "# bitFlipCorrectionCircuit.swap_registers()\n",
    "# bitFlipCorrectionCircuit.toffoli(0,1,2)\n",
    "# bitFlipCorrectionCircuit.swap_registers()\n",
    "\n",
    "bitFlipCorrectionCircuit.execute(print_state=False)\n",
    "bitFlipCorrectionCircuit.print_circuit()\n",
    "bitFlipCorrectionCircuit.measure(print_state=True)\n"
   ]
  },
  {
   "cell_type": "markdown",
   "metadata": {},
   "source": [
    "## Phase-flip Correction Code"
   ]
  },
  {
   "cell_type": "code",
   "execution_count": null,
   "metadata": {},
   "outputs": [],
   "source": []
  },
  {
   "cell_type": "markdown",
   "metadata": {},
   "source": [
    "## Shor's Nine Qubit Code"
   ]
  }
 ],
 "metadata": {
  "kernelspec": {
   "display_name": ".venv",
   "language": "python",
   "name": "python3"
  },
  "language_info": {
   "codemirror_mode": {
    "name": "ipython",
    "version": 3
   },
   "file_extension": ".py",
   "mimetype": "text/x-python",
   "name": "python",
   "nbconvert_exporter": "python",
   "pygments_lexer": "ipython3",
   "version": "3.12.6"
  }
 },
 "nbformat": 4,
 "nbformat_minor": 2
}
