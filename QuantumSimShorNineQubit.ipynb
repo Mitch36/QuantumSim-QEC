{
 "cells": [
  {
   "cell_type": "markdown",
   "metadata": {},
   "source": [
    "># QuantumSim - Shor's Nine Qubit Code\n",
    "In this chapter an introduction is presented to quantum error correction (QEC) "
   ]
  },
  {
   "cell_type": "code",
   "execution_count": 1,
   "metadata": {},
   "outputs": [],
   "source": [
    "from quantumsim import *\n",
    "import random "
   ]
  },
  {
   "cell_type": "markdown",
   "metadata": {},
   "source": [
    "## Bit-flip Correction Code\n",
    "![Bit flip correction circuit](./pictures/BitFlipCorrectionCircuit.png \"Bit flip correction circuit\")"
   ]
  },
  {
   "cell_type": "code",
   "execution_count": null,
   "metadata": {},
   "outputs": [
    {
     "name": "stdout",
     "output_type": "stream",
     "text": [
      "Bitflip error on qubit: 2\n",
      "X..\tPauli X on qubit 0\n",
      "*X.\tCNOT with control qubit 0 and target qubit 1\n",
      "*.X\tCNOT with control qubit 0 and target qubit 2\n",
      "..X\tPauli X on qubit 2\n",
      "*X.\tCNOT with control qubit 0 and target qubit 1\n",
      "*.X\tCNOT with control qubit 0 and target qubit 2\n",
      "x**\tToffoli with control qubit 1 and CNOT with control qubit 2 and target qubit 0\n",
      "Measured state:\n",
      "|101>\n"
     ]
    },
    {
     "data": {
      "text/plain": [
       "'|101>'"
      ]
     },
     "execution_count": 71,
     "metadata": {},
     "output_type": "execute_result"
    }
   ],
   "source": [
    "# Encode the logical qubit state among multiple qubits\n",
    "bitFlipCorrectionCircuit = Circuit(3)\n",
    "bitFlipCorrectionCircuit.pauli_x(0)\n",
    "# Make init state: |100>\n",
    "\n",
    "bitFlipCorrectionCircuit.cnot(0, 1)\n",
    "bitFlipCorrectionCircuit.cnot(0, 2)\n",
    "# |111>\n",
    "\n",
    "# Create bitflip error\n",
    "random_number = random.randint(0, 2)\n",
    "bitFlipCorrectionCircuit.pauli_x(random_number)\n",
    "print(\"Bit-flip error on qubit: \" + str(random_number)) \n",
    "\n",
    "# Decode, mayority check for correction\n",
    "bitFlipCorrectionCircuit.cnot(0, 1)\n",
    "bitFlipCorrectionCircuit.cnot(0, 2)\n",
    "bitFlipCorrectionCircuit.toffoli(1, 2, 0)\n",
    "\n",
    "bitFlipCorrectionCircuit.print_gates_and_descriptions()\n",
    "bitFlipCorrectionCircuit.execute(print_state=False)\n",
    "bitFlipCorrectionCircuit.measure(print_state=True)\n",
    "# Measured answer must always be |1??>\n",
    "\n"
   ]
  },
  {
   "cell_type": "markdown",
   "metadata": {},
   "source": [
    "## Phase-flip Correction Code\n",
    "![Phase flip correction circuit](./pictures/PhaseFlipCorrectionCircuit.png \"Phase flip correction circuit\")"
   ]
  },
  {
   "cell_type": "code",
   "execution_count": 93,
   "metadata": {},
   "outputs": [
    {
     "name": "stdout",
     "output_type": "stream",
     "text": [
      "Phase-flip error on qubit: 0\n",
      "X..\tPauli X on qubit 0\n",
      "*X.\tCNOT with control qubit 0 and target qubit 1\n",
      "*.X\tCNOT with control qubit 0 and target qubit 2\n",
      "H..\tHadamard on qubit 0\n",
      ".H.\tHadamard on qubit 1\n",
      "..H\tHadamard on qubit 2\n",
      "Z..\tPauli Z on qubit 0\n",
      "H..\tHadamard on qubit 0\n",
      ".H.\tHadamard on qubit 1\n",
      "..H\tHadamard on qubit 2\n",
      "*X.\tCNOT with control qubit 0 and target qubit 1\n",
      "*.X\tCNOT with control qubit 0 and target qubit 2\n",
      "x**\tToffoli with control qubit 1 and CNOT with control qubit 2 and target qubit 0\n",
      "Measured state:\n",
      "|111>\n"
     ]
    },
    {
     "data": {
      "text/plain": [
       "'|111>'"
      ]
     },
     "execution_count": 93,
     "metadata": {},
     "output_type": "execute_result"
    }
   ],
   "source": [
    "# Encode the logical qubit state among multiple qubits\n",
    "phaseFlipCorrectionCircuit = Circuit(3)\n",
    "phaseFlipCorrectionCircuit.pauli_x(0)\n",
    "# Make init state: |100>\n",
    "\n",
    "phaseFlipCorrectionCircuit.cnot(0, 1)\n",
    "phaseFlipCorrectionCircuit.cnot(0, 2)\n",
    "# |111>\n",
    "\n",
    "phaseFlipCorrectionCircuit.hadamard(0)\n",
    "phaseFlipCorrectionCircuit.hadamard(1)\n",
    "phaseFlipCorrectionCircuit.hadamard(2)\n",
    "\n",
    "# Create bitflip error\n",
    "random_number = random.randint(0, 2)\n",
    "phaseFlipCorrectionCircuit.pauli_z(random_number)\n",
    "print(\"Phase-flip error on qubit: \" + str(random_number)) \n",
    "\n",
    "phaseFlipCorrectionCircuit.hadamard(0)\n",
    "phaseFlipCorrectionCircuit.hadamard(1)\n",
    "phaseFlipCorrectionCircuit.hadamard(2)\n",
    "\n",
    "# Decode, mayority check for correction\n",
    "phaseFlipCorrectionCircuit.cnot(0, 1)\n",
    "phaseFlipCorrectionCircuit.cnot(0, 2)\n",
    "phaseFlipCorrectionCircuit.toffoli(1, 2, 0)\n",
    "\n",
    "phaseFlipCorrectionCircuit.print_gates_and_descriptions()\n",
    "phaseFlipCorrectionCircuit.execute(print_state=False)\n",
    "phaseFlipCorrectionCircuit.measure(print_state=True)\n",
    "# Measured answer must always be |1??>\n"
   ]
  },
  {
   "cell_type": "markdown",
   "metadata": {},
   "source": [
    "## Shor's Nine Qubit Code\n",
    "![Shors nine qubit code](./pictures/ShorsNineQubitCodeCircuit.png \"Shors nine qubit code\")"
   ]
  }
 ],
 "metadata": {
  "kernelspec": {
   "display_name": ".venv",
   "language": "python",
   "name": "python3"
  },
  "language_info": {
   "codemirror_mode": {
    "name": "ipython",
    "version": 3
   },
   "file_extension": ".py",
   "mimetype": "text/x-python",
   "name": "python",
   "nbconvert_exporter": "python",
   "pygments_lexer": "ipython3",
   "version": "3.10.10"
  }
 },
 "nbformat": 4,
 "nbformat_minor": 2
}
