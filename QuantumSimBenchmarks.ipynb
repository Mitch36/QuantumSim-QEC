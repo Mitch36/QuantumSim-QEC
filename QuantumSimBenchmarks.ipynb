{
 "cells": [
  {
   "cell_type": "markdown",
   "metadata": {},
   "source": [
    "Benchmarks - Nine qubit benchmark\n",
    "===================================="
   ]
  },
  {
   "cell_type": "code",
   "execution_count": null,
   "metadata": {},
   "outputs": [],
   "source": [
    "from PauliBenchmark import PauliBenchmark\n",
    "from SurfaceCodeBenchmark import NoisySurfaceCodeBenchmark\n",
    "\n",
    "benchmark = PauliBenchmark(0.01)\n",
    "benchmark.build_and_run_nine_qubit_pauli_x_benchmark(60, 100)\n",
    "\n",
    "benchmark = PauliBenchmark(0.03)\n",
    "benchmark.build_and_run_nine_qubit_pauli_x_benchmark(60, 100)\n",
    "\n",
    "benchmark = PauliBenchmark(0.05)\n",
    "benchmark.build_and_run_nine_qubit_pauli_x_benchmark(60, 100)\n",
    "\n",
    "benchmark = PauliBenchmark(0.07)\n",
    "benchmark.build_and_run_nine_qubit_pauli_x_benchmark(60, 100)\n",
    "\n",
    "benchmark = PauliBenchmark(0.09)\n",
    "benchmark.build_and_run_nine_qubit_pauli_x_benchmark(60, 100)\n",
    "\n",
    "benchmark = NoisySurfaceCodeBenchmark(0.01, 30)\n",
    "benchmark.build_and_run_nine_qubit_pauli_x_benchmark(60, 100)\n",
    "\n",
    "benchmark = NoisySurfaceCodeBenchmark(0.03, 30)\n",
    "benchmark.build_and_run_nine_qubit_pauli_x_benchmark(60, 100)\n",
    "\n",
    "benchmark = NoisySurfaceCodeBenchmark(0.05, 30)\n",
    "benchmark.build_and_run_nine_qubit_pauli_x_benchmark(60, 100)\n",
    "\n",
    "benchmark = NoisySurfaceCodeBenchmark(0.07, 30)\n",
    "benchmark.build_and_run_nine_qubit_pauli_x_benchmark(60, 100)\n",
    "\n",
    "benchmark = NoisySurfaceCodeBenchmark(0.09, 30)\n",
    "benchmark.build_and_run_nine_qubit_pauli_x_benchmark(60, 100)"
   ]
  },
  {
   "cell_type": "code",
   "execution_count": null,
   "metadata": {},
   "outputs": [
    {
     "name": "stdout",
     "output_type": "stream",
     "text": [
      "Nine_Qubit_Pauli_Z_Benchmark_p0_01Pauli_Gates60\n",
      "Phase flip recovery (Pauli Z) applied on qubit: 1\n",
      "No bit flips detected, no recovery applied\n",
      "Phase flip recovery (Pauli Z) applied on qubit: 2\n",
      "No bit flips detected, no recovery applied\n",
      "0;000000000;9;0;0\n",
      "\n",
      "No phase flips detected, no recovery applied\n",
      "Bit flip recovery (Pauli X) applied on qubit: 0\n",
      "No phase flips detected, no recovery applied\n",
      "No bit flips detected, no recovery applied\n",
      "1;000000000;9;0;0\n",
      "\n",
      "Phase flip recovery (Pauli Z) applied on qubit: 0\n",
      "No bit flips detected, no recovery applied\n",
      "Phase flip recovery (Pauli Z) applied on qubit: 0\n",
      "No bit flips detected, no recovery applied\n",
      "2;100000000;8;1;0\n",
      "\n",
      "Nine_Qubit_Pauli_Z_Benchmark_p0_01Pauli_Gates60\n"
     ]
    }
   ],
   "source": [
    "from PauliBenchmark import PauliBenchmark\n",
    "from SurfaceCodeBenchmark import NoisySurfaceCodeBenchmark\n",
    "\n",
    "benchmark = PauliBenchmark(0.01)\n",
    "benchmark.build_and_run_nine_qubit_pauli_z_benchmark(60, 100)\n",
    "\n",
    "benchmark = PauliBenchmark(0.03)\n",
    "benchmark.build_and_run_nine_qubit_pauli_z_benchmark(60, 100)\n",
    "\n",
    "benchmark = PauliBenchmark(0.05)\n",
    "benchmark.build_and_run_nine_qubit_pauli_z_benchmark(60, 100)\n",
    "\n",
    "benchmark = PauliBenchmark(0.07)\n",
    "benchmark.build_and_run_nine_qubit_pauli_z_benchmark(60, 100)\n",
    "\n",
    "benchmark = PauliBenchmark(0.09)\n",
    "benchmark.build_and_run_nine_qubit_pauli_z_benchmark(60, 100)\n",
    "\n",
    "benchmark = NoisySurfaceCodeBenchmark(0.01, 30)\n",
    "benchmark.build_and_run_nine_qubit_pauli_z_benchmark(60, 100)\n",
    "\n",
    "benchmark = NoisySurfaceCodeBenchmark(0.03, 30)\n",
    "benchmark.build_and_run_nine_qubit_pauli_z_benchmark(60, 100)\n",
    "\n",
    "benchmark = NoisySurfaceCodeBenchmark(0.05, 30)\n",
    "benchmark.build_and_run_nine_qubit_pauli_z_benchmark(60, 100)\n",
    "\n",
    "benchmark = NoisySurfaceCodeBenchmark(0.07, 30)\n",
    "benchmark.build_and_run_nine_qubit_pauli_z_benchmark(60, 100)\n",
    "\n",
    "benchmark = NoisySurfaceCodeBenchmark(0.09, 30)\n",
    "benchmark.build_and_run_nine_qubit_pauli_z_benchmark(60, 100)\n"
   ]
  }
 ],
 "metadata": {
  "kernelspec": {
   "display_name": ".venv",
   "language": "python",
   "name": "python3"
  },
  "language_info": {
   "codemirror_mode": {
    "name": "ipython",
    "version": 3
   },
   "file_extension": ".py",
   "mimetype": "text/x-python",
   "name": "python",
   "nbconvert_exporter": "python",
   "pygments_lexer": "ipython3",
   "version": "3.10.10"
  }
 },
 "nbformat": 4,
 "nbformat_minor": 2
}
