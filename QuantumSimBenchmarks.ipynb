{
 "cells": [
  {
   "cell_type": "markdown",
   "metadata": {},
   "source": [
    "Benchmarks - Nine qubit benchmark\n",
    "===================================="
   ]
  },
  {
   "cell_type": "code",
   "execution_count": 10,
   "metadata": {},
   "outputs": [
    {
     "name": "stdout",
     "output_type": "stream",
     "text": [
      "0;011100100;5;4\n",
      "\n",
      "1;011010001;5;4\n",
      "\n",
      "Nine_Qubit_Pauli_X_Benchmark_p0_01\n"
     ]
    }
   ],
   "source": [
    "from PauliBenchmark import PauliBenchmark\n",
    "\n",
    "benchmark = PauliBenchmark(0.01)\n",
    "benchmark.build_and_run_nine_qubit_pauli_x_benchmark(120, 2)"
   ]
  },
  {
   "cell_type": "code",
   "execution_count": 4,
   "metadata": {},
   "outputs": [
    {
     "name": "stdout",
     "output_type": "stream",
     "text": [
      "Logical error when deciding phase flip recovery option\n",
      "Logical error when deciding bit flip recovery option\n",
      "Phase flip recovery (Pauli Z) applied on qubit: 2\n",
      "Logical error when deciding bit flip recovery option\n",
      "Phase flip recovery (Pauli Z) applied on qubit: 4\n",
      "Logical error when deciding bit flip recovery option\n",
      "0;011100001;5;4\n",
      "\n",
      "Logical error when deciding phase flip recovery option\n",
      "Logical error when deciding bit flip recovery option\n",
      "Phase flip recovery (Pauli Z) applied on qubit: 8\n",
      "Logical error when deciding bit flip recovery option\n",
      "Phase flip recovery (Pauli Z) applied on qubit: 7\n",
      "Logical error when deciding bit flip recovery option\n",
      "1;000000101;7;2\n",
      "\n",
      "SurfaceCode_Pauli_X_Benchmark_p0_01\n"
     ]
    }
   ],
   "source": [
    "from SurfaceCodeBenchmark import NoisySurfaceCodeBenchmark\n",
    "\n",
    "surfaceCode = NoisySurfaceCodeBenchmark(0.01, 40)\n",
    "surfaceCode.build_and_run_nine_qubit_pauli_x_benchmark(120, 2)\n",
    "# print(surfaceCode.sf.toString())"
   ]
  }
 ],
 "metadata": {
  "kernelspec": {
   "display_name": ".venv",
   "language": "python",
   "name": "python3"
  },
  "language_info": {
   "codemirror_mode": {
    "name": "ipython",
    "version": 3
   },
   "file_extension": ".py",
   "mimetype": "text/x-python",
   "name": "python",
   "nbconvert_exporter": "python",
   "pygments_lexer": "ipython3",
   "version": "3.10.10"
  }
 },
 "nbformat": 4,
 "nbformat_minor": 2
}
