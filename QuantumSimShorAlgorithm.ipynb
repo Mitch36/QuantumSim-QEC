{
 "cells": [
  {
   "cell_type": "markdown",
   "metadata": {},
   "source": [
    "# QuantumSim - Shor's Algorithm\n",
    "\n",
    "Author: Nico Kuijpers<br>\n",
    "Date: May 10, 2024\n",
    "\n",
    "This notebook is based on the following notebooks for Qiskit, but uses QuantumSim instead of Qiskit.\n",
    "\n",
    "https://github.com/Qiskit/textbook/blob/main/notebooks/ch-algorithms/shor.ipynb\n",
    "\n",
    "https://github.com/qiskit-community/qiskit-community-tutorials/blob/master/algorithms/shor_algorithm.ipynb\n",
    "\n",
    "https://www.qmunity.tech/tutorials/shors-algorithm\n",
    "\n",
    "For the description of Shor's Algorithm we use in this notebook, see https://en.wikipedia.org/wiki/Shor%27s_algorithm"
   ]
  },
  {
   "cell_type": "markdown",
   "metadata": {},
   "source": [
    "## Introduction\n",
    "Shor's algorithm is a quantum algorithm for finding the prime factors of an integer. It was discovered in 1994 by the American mathematician Peter Shor.\n",
    "\n",
    "If a quantum computer with a sufficient number of qubits could operate, then Shor's algorithm could be used to break public-key cryptography schemes, such as\n",
    "* The RSA scheme\n",
    "* The Finite Field Diffie-Hellman key exchange\n",
    "* The Elliptic Curve Diffie-Hellman key exchange\n",
    "\n",
    "Shor's Algorithm consists of a classical part and a quantum part. The quantum part solves the problem *period finding*.\n",
    "Since a factoring problem can be turned into a period finding problem in polynomial time, an efficient period finding algorithm \n",
    "can be used to factor integers efficiently too. \n",
    "\n",
    "In this notebook, we first introduce Shor's Algorithm with a classical implemenation of the *period finding* problem and then replace the\n",
    "classical *period finding* algorithm with it's quantum counterpart."
   ]
  },
  {
   "cell_type": "markdown",
   "metadata": {},
   "source": [
    "## Shor's Algorithm\n",
    "In Shor's Algorithm, input $N$ is odd and not a prime power. The output are the non-trivial prime factors of $N$.\n",
    "\n",
    "Shor's Algorithm consists of multiple steps. In step 4 a quantum subroutine is called to find the order $r$ of $a$ (mod $N$).\n",
    "1. Pick a random number $1<a<N$.\n",
    "2. Compute $K=\\text{gcd}(a,N)$, the greatest common divisor of $a$ and $N$.\n",
    "3. If $K \\neq 1$, then $K$ is a non-trivial factor of $N$, with the other factor being $\\frac{N}{K}$ and we are done.\n",
    "4. Otherwise, use the quantum subroutine to find the order $r$ of $a$.\n",
    "5. If $r$ is odd, then go back to step 1.\n",
    "6. Compute $g = \\text{gcd}(N, a^{r/2} + 1)$. If $g$ is nontrivial, the other factor is $\\frac{N}{g}$, and we're done.\n",
    "Otherwise, go back to step 1.\n",
    "\n",
    "It has been shown that this will be likely to succeed after a few runs. In practice, a single call to the quantum \n",
    "order-finding subroutine is enough to completely factor $N$ with very high probability of success if one uses a more \n",
    "advanced reduction."
   ]
  },
  {
   "cell_type": "markdown",
   "metadata": {},
   "source": [
    "## A classical implementation of Shor's Algorithm\n",
    "To find the order $r$ of $a$ (step 4 above) in a classical way, we define $q=1$ and multiply $q$ with $a$ each step\n",
    "until $q \\cdot a \\equiv 1 \\text{ mod } N$. The number of steps is $r$. \n",
    "\n",
    "For example, say $N = 15$. We choose $a = 7$. Then $\\text{GCD}(7,15) = 1$. Initiallly, $q = 1$.\n",
    "1. $1 \\times 7 \\text{ mod } 15 = 7$\n",
    "2. $7 \\times 7 \\text{ mod } 15 = 4$\n",
    "3. $4 \\times 7 \\text{ mod } 15 = 13$\n",
    "4. $13 \\times 7 \\text{ mod } 15 = 1$\n",
    "\n",
    "The number of steps is $4$, so $r = 4$.\n",
    "\n",
    "Below we show Python code implementing Shor's Algorithm with a classical function for finding the order $r$ of $a$ (mod $N$)."
   ]
  },
  {
   "cell_type": "code",
   "execution_count": 1,
   "metadata": {},
   "outputs": [],
   "source": [
    "from math import gcd\n",
    "import random\n",
    "\n",
    "\"\"\"\n",
    "Find the order r of a (classical implementation)\n",
    "\"\"\"\n",
    "def find_order_classical(a,N):\n",
    "    print(f\"Find order r for a = {a} and N = {N}\")\n",
    "    q = 1\n",
    "    r = 1\n",
    "    print(f\"{q} x {a} mod {N} = {(q*a) % N}\")\n",
    "    while (q*a) % N != 1:\n",
    "        q = (q*a) % N\n",
    "        r = r + 1\n",
    "        print(f\"{q} x {a} mod {N} = {(q*a) % N}\")\n",
    "    return r\n",
    "\n",
    "\"\"\"\n",
    "Find non-trivial prime factors for given N.\n",
    "It is assumed that N is odd and not a prime power.\n",
    "\"\"\"\n",
    "def classical_shor_algorithm(N, a=None):\n",
    "    finished = False\n",
    "    while not finished:\n",
    "        # Step 1: Pick a random number 1 < a < N\n",
    "        if a == None:\n",
    "            a = random.randint(2, N-1)\n",
    "            print(f\"Random number a = {a}, with 1 < a < {N}\")\n",
    "        else:\n",
    "            print(f\"a = {a}\")\n",
    "            finished = True\n",
    "        # Step 2: compute K = gcd(a,N), the greatest common divisor of a and N\n",
    "        K = gcd(a,N)\n",
    "        print(f\"Step 2: K = gcd({a},{N}) = {K}\")\n",
    "        if K != 1:\n",
    "            # Step 3: if K != 1, then K is a non-trivial factor of N, with the other factor being N/K and we are done\n",
    "            print(f\"Step 3: Two non-trivial factors of {N} are {K} and {int(N/K)}\")\n",
    "            finished = True\n",
    "        else:\n",
    "            # Step 4: Otherwise, use the quantum subroutine to find the order r of a\n",
    "            # In the classical implementation we call the find_order subroutine\n",
    "            r = find_order_classical(a,N)\n",
    "            print(f\"Step 4: r = {r}\")\n",
    "            if r % 2 == 1:\n",
    "                # Step 5: If r is odd, then go back to step 1\n",
    "                print(f\"Step 5: r is odd, pick another random number\")\n",
    "                a = None\n",
    "            else:\n",
    "                # Step 6: Compute g = gcd(N, a**(r/2) + 1)\n",
    "                # If g is nontrivial, the other factor is N/g and we're done.\n",
    "                # Otherwise, go to step 1.\n",
    "                g = gcd(N, a**(r//2) + 1)\n",
    "                if g != 1 and g != N:\n",
    "                    print(f\"Step 6: Two non-trivial factors of {N} are {g} and {int(N/g)}\")\n",
    "                    finished = True\n",
    "                else:\n",
    "                    print(f\"Step 6: No non-trivial factors found for g = {g}\")\n",
    "                    a = None\n"
   ]
  },
  {
   "cell_type": "markdown",
   "metadata": {},
   "source": [
    "Below we run the classical version of Shor's Algorithm for $N = 15$ and $a$ ranging from $2$ through $14$. "
   ]
  },
  {
   "cell_type": "code",
   "execution_count": 2,
   "metadata": {},
   "outputs": [
    {
     "name": "stdout",
     "output_type": "stream",
     "text": [
      "a = 2\n",
      "Step 2: K = gcd(2,15) = 1\n",
      "Find order r for a = 2 and N = 15\n",
      "1 x 2 mod 15 = 2\n",
      "2 x 2 mod 15 = 4\n",
      "4 x 2 mod 15 = 8\n",
      "8 x 2 mod 15 = 1\n",
      "Step 4: r = 4\n",
      "Step 6: Two non-trivial factors of 15 are 5 and 3\n",
      "a = 3\n",
      "Step 2: K = gcd(3,15) = 3\n",
      "Step 3: Two non-trivial factors of 15 are 3 and 5\n",
      "a = 4\n",
      "Step 2: K = gcd(4,15) = 1\n",
      "Find order r for a = 4 and N = 15\n",
      "1 x 4 mod 15 = 4\n",
      "4 x 4 mod 15 = 1\n",
      "Step 4: r = 2\n",
      "Step 6: Two non-trivial factors of 15 are 5 and 3\n",
      "a = 5\n",
      "Step 2: K = gcd(5,15) = 5\n",
      "Step 3: Two non-trivial factors of 15 are 5 and 3\n",
      "a = 6\n",
      "Step 2: K = gcd(6,15) = 3\n",
      "Step 3: Two non-trivial factors of 15 are 3 and 5\n",
      "a = 7\n",
      "Step 2: K = gcd(7,15) = 1\n",
      "Find order r for a = 7 and N = 15\n",
      "1 x 7 mod 15 = 7\n",
      "7 x 7 mod 15 = 4\n",
      "4 x 7 mod 15 = 13\n",
      "13 x 7 mod 15 = 1\n",
      "Step 4: r = 4\n",
      "Step 6: Two non-trivial factors of 15 are 5 and 3\n",
      "a = 8\n",
      "Step 2: K = gcd(8,15) = 1\n",
      "Find order r for a = 8 and N = 15\n",
      "1 x 8 mod 15 = 8\n",
      "8 x 8 mod 15 = 4\n",
      "4 x 8 mod 15 = 2\n",
      "2 x 8 mod 15 = 1\n",
      "Step 4: r = 4\n",
      "Step 6: Two non-trivial factors of 15 are 5 and 3\n",
      "a = 9\n",
      "Step 2: K = gcd(9,15) = 3\n",
      "Step 3: Two non-trivial factors of 15 are 3 and 5\n",
      "a = 10\n",
      "Step 2: K = gcd(10,15) = 5\n",
      "Step 3: Two non-trivial factors of 15 are 5 and 3\n",
      "a = 11\n",
      "Step 2: K = gcd(11,15) = 1\n",
      "Find order r for a = 11 and N = 15\n",
      "1 x 11 mod 15 = 11\n",
      "11 x 11 mod 15 = 1\n",
      "Step 4: r = 2\n",
      "Step 6: Two non-trivial factors of 15 are 3 and 5\n",
      "a = 12\n",
      "Step 2: K = gcd(12,15) = 3\n",
      "Step 3: Two non-trivial factors of 15 are 3 and 5\n",
      "a = 13\n",
      "Step 2: K = gcd(13,15) = 1\n",
      "Find order r for a = 13 and N = 15\n",
      "1 x 13 mod 15 = 13\n",
      "13 x 13 mod 15 = 4\n",
      "4 x 13 mod 15 = 7\n",
      "7 x 13 mod 15 = 1\n",
      "Step 4: r = 4\n",
      "Step 6: Two non-trivial factors of 15 are 5 and 3\n",
      "a = 14\n",
      "Step 2: K = gcd(14,15) = 1\n",
      "Find order r for a = 14 and N = 15\n",
      "1 x 14 mod 15 = 14\n",
      "14 x 14 mod 15 = 1\n",
      "Step 4: r = 2\n",
      "Step 6: No non-trivial factors found for g = 15\n"
     ]
    }
   ],
   "source": [
    "N = 15\n",
    "for a in range(2, N):\n",
    "    classical_shor_algorithm(N, a)"
   ]
  },
  {
   "cell_type": "markdown",
   "metadata": {},
   "source": [
    "Below, we run the classical version of Shor's Algorithm for $N=15$.\n",
    "Each loop, a random value for $a$ is chosen between $2$ and $14$ until non-trivial prime factors are found.\n",
    "You should run this cell multiple times to see the result for different values of $a$."
   ]
  },
  {
   "cell_type": "code",
   "execution_count": 3,
   "metadata": {},
   "outputs": [
    {
     "name": "stdout",
     "output_type": "stream",
     "text": [
      "Random number a = 5, with 1 < a < 15\n",
      "Step 2: K = gcd(5,15) = 5\n",
      "Step 3: Two non-trivial factors of 15 are 5 and 3\n"
     ]
    }
   ],
   "source": [
    "N = 15\n",
    "classical_shor_algorithm(N)"
   ]
  },
  {
   "cell_type": "markdown",
   "metadata": {},
   "source": [
    "## A quantum implementation of Shor's Algorithm\n",
    "We replace the classical *period finding* implementation with its quantum counterpart. \n",
    "We use QuantumSim to create and simulate execution of the quantum circuit."
   ]
  },
  {
   "cell_type": "code",
   "execution_count": 4,
   "metadata": {},
   "outputs": [],
   "source": [
    "from quantumsim import *"
   ]
  },
  {
   "cell_type": "markdown",
   "metadata": {},
   "source": [
    "We create a quantum circuit of $n + m$ qubits. The first $n$ qubits will be brought in super position by applying the Hadamard gate.\n",
    "The Pauli X gate is applied to qubit $n+m-1$.\n",
    "\n",
    "Below a function is defined the initialize the qubits of a circuit with $n + m$ qubits."
   ]
  },
  {
   "cell_type": "code",
   "execution_count": 5,
   "metadata": {},
   "outputs": [],
   "source": [
    "def initialize_qubits(circuit:Circuit, n, m):\n",
    "\n",
    "    for q in range(n):\n",
    "        circuit.hadamard(q)\n",
    "    circuit.pauli_x(n+m-1)"
   ]
  },
  {
   "cell_type": "markdown",
   "metadata": {},
   "source": [
    "We will define the function *c_amod15* which returns controlled-U gate for $𝑎$ repeated $𝑥$ times. \n",
    "\n",
    "*c_amod15* will be a $4$ qubit unitary controlled by a $5$-th qubit which will be appended to the circuit."
   ]
  },
  {
   "cell_type": "code",
   "execution_count": 6,
   "metadata": {},
   "outputs": [],
   "source": [
    "def c_amod15(a, x):\n",
    "    if a not in [2,7,8,11,13]:\n",
    "        raise ValueError(\"'a' must be 2,7,8,11,13\")\n",
    "    circuit = Circuit(4)        \n",
    "    for i in range(x):\n",
    "        if a in [2,13]:\n",
    "            circuit.swap(0,1)\n",
    "            circuit.swap(1,2)\n",
    "            circuit.swap(2,3)\n",
    "        if a in [7,8]:\n",
    "            circuit.swap(2,3)\n",
    "            circuit.swap(1,2)\n",
    "            circuit.swap(0,1)\n",
    "        if a == 11:\n",
    "            circuit.swap(1,3)\n",
    "            circuit.swap(0,2)\n",
    "        if a in [7,11,13]:\n",
    "            for q in range(4):\n",
    "                circuit.pauli_x(q)\n",
    "                \n",
    "    return circuit"
   ]
  },
  {
   "cell_type": "markdown",
   "metadata": {},
   "source": [
    "Next we will carry out modular exponentiation on the circuit and append the fifth qubit by passing the control qubit followed by $4$ target qubits."
   ]
  },
  {
   "cell_type": "code",
   "execution_count": 7,
   "metadata": {},
   "outputs": [],
   "source": [
    "def modular_exponentiation(circuit:Circuit, n, m, a):\n",
    "    for x in range(n):\n",
    "        exponent = 2**x\n",
    "        circuit_amod15 = c_amod15(a, exponent)\n",
    "        controlled_circuit_amod15 = circuit_amod15.create_controlled_circuit(x, n, n+m)\n",
    "        circuit.append_circuit(controlled_circuit_amod15)"
   ]
  },
  {
   "cell_type": "markdown",
   "metadata": {},
   "source": [
    "Below a function is defined to create a quantum circuit of $n + m$ qubits for given $a \\in \\{2,7,8,11,13\\}$.\n",
    "This circuit is used to find the order $r$ of $a$ (mod $N$)."
   ]
  },
  {
   "cell_type": "code",
   "execution_count": 8,
   "metadata": {},
   "outputs": [],
   "source": [
    "def create_circuit_find_order(n, m, a):\n",
    "    circuit = Circuit(n + m)\n",
    "    initialize_qubits(circuit, n, m)\n",
    "    modular_exponentiation(circuit, n, m, a)\n",
    "    iqft = QuantumFourier.create_iqft_circuit(n, swap_registers=False)\n",
    "    circuit.append_circuit_general(iqft, 0) # NOTE number of qubits must match\n",
    "    return circuit\n"
   ]
  },
  {
   "cell_type": "markdown",
   "metadata": {},
   "source": [
    "We create a circuit of $8$ qubits for $a=7$. This circuit is executed once and measured $10000$ times. Results are shown in a histogram."
   ]
  },
  {
   "cell_type": "code",
   "execution_count": 9,
   "metadata": {},
   "outputs": [
    {
     "data": {
      "image/png": "[encoded data removed]",
      "text/plain": [
       "<Figure size 640x480 with 1 Axes>"
      ]
     },
     "metadata": {},
     "output_type": "display_data"
    }
   ],
   "source": [
    "n = 4\n",
    "m = 4\n",
    "a = 7\n",
    "circuit = create_circuit_find_order(n, m, a)\n",
    "result = QuantumUtil.measure_circuit(circuit,10000)\n",
    "QuantumUtil.histogram_of_classical_states(result)"
   ]
  },
  {
   "cell_type": "markdown",
   "metadata": {},
   "source": [
    "Although we measure all eight qubits, we are only interested in the measured states of the first four qubits. \n",
    "\n",
    "In the code below, we go through all different classical states that were measured. \n",
    "For each measured state, we find a binary representation of the classical state of the first four qubits. \n",
    "This binary representation is then converted to a decimal number. The decimal numbers are stored in array *counts*."
   ]
  },
  {
   "cell_type": "code",
   "execution_count": 10,
   "metadata": {},
   "outputs": [
    {
     "name": "stdout",
     "output_type": "stream",
     "text": [
      "|00000001> represents decimal number 0\n",
      "|00000100> represents decimal number 0\n",
      "|00000111> represents decimal number 0\n",
      "|00001101> represents decimal number 0\n",
      "|01000001> represents decimal number 4\n",
      "|01000100> represents decimal number 4\n",
      "|01000111> represents decimal number 4\n",
      "|01001101> represents decimal number 4\n",
      "|01010001> represents decimal number 5\n",
      "|01010100> represents decimal number 5\n",
      "|01010111> represents decimal number 5\n",
      "|01011101> represents decimal number 5\n",
      "|01100001> represents decimal number 6\n",
      "|01100100> represents decimal number 6\n",
      "|01100111> represents decimal number 6\n",
      "|01101101> represents decimal number 6\n",
      "|01110001> represents decimal number 7\n",
      "|01110100> represents decimal number 7\n",
      "|01110111> represents decimal number 7\n",
      "|01111101> represents decimal number 7\n",
      "|10000001> represents decimal number 8\n",
      "|10000100> represents decimal number 8\n",
      "|10000111> represents decimal number 8\n",
      "|10001101> represents decimal number 8\n",
      "|10010001> represents decimal number 9\n",
      "|10010100> represents decimal number 9\n",
      "|10010111> represents decimal number 9\n",
      "|10011101> represents decimal number 9\n",
      "|10100001> represents decimal number 10\n",
      "|10100100> represents decimal number 10\n",
      "|10100111> represents decimal number 10\n",
      "|10101101> represents decimal number 10\n",
      "|10110001> represents decimal number 11\n",
      "|10110100> represents decimal number 11\n",
      "|10110111> represents decimal number 11\n",
      "|10111101> represents decimal number 11\n",
      "|11000001> represents decimal number 12\n",
      "|11000100> represents decimal number 12\n",
      "|11000111> represents decimal number 12\n",
      "|11001101> represents decimal number 12\n",
      "|11010001> represents decimal number 13\n",
      "|11010100> represents decimal number 13\n",
      "|11010111> represents decimal number 13\n",
      "|11011101> represents decimal number 13\n",
      "|11100001> represents decimal number 14\n",
      "|11100100> represents decimal number 14\n",
      "|11100111> represents decimal number 14\n",
      "|11101101> represents decimal number 14\n",
      "|11110001> represents decimal number 15\n",
      "|11110100> represents decimal number 15\n",
      "|11110111> represents decimal number 15\n",
      "|11111101> represents decimal number 15\n"
     ]
    }
   ],
   "source": [
    "histogram = Counter(result)\n",
    "unique_strings = sorted(list(histogram.keys()))\n",
    "counts = []\n",
    "for string in unique_strings:\n",
    "    # We are interested in the first four qubits after measurement\n",
    "    binary_string = string[1:5]\n",
    "    decimal_number = int(binary_string, 2)\n",
    "    counts.append(decimal_number)\n",
    "    print(f\"{string} represents decimal number {decimal_number}\")"
   ]
  },
  {
   "cell_type": "markdown",
   "metadata": {},
   "source": [
    "Next, we find the unique values from array *counts*. These are the measured values. For each of the measured values we determine possible non-trivial factors according to steps 5 and 6 of Shor's Algorithm as previously described."
   ]
  },
  {
   "cell_type": "code",
   "execution_count": 11,
   "metadata": {},
   "outputs": [
    {
     "name": "stdout",
     "output_type": "stream",
     "text": [
      "Step 4: r = 0\n",
      "Step 6: No non-trivial factors found for g = 1\n",
      "Step 4: r = 4\n",
      "Step 6: Two non-trivial factors of 15 are 5 and 3\n",
      "Step 4: r = 5\n",
      "Step 5: r is odd\n",
      "Step 4: r = 6\n",
      "Step 6: No non-trivial factors found for g = 1\n",
      "Step 4: r = 7\n",
      "Step 5: r is odd\n",
      "Step 4: r = 8\n",
      "Step 6: No non-trivial factors found for g = 1\n",
      "Step 4: r = 9\n",
      "Step 5: r is odd\n",
      "Step 4: r = 10\n",
      "Step 6: No non-trivial factors found for g = 1\n",
      "Step 4: r = 11\n",
      "Step 5: r is odd\n",
      "Step 4: r = 12\n",
      "Step 6: Two non-trivial factors of 15 are 5 and 3\n",
      "Step 4: r = 13\n",
      "Step 5: r is odd\n",
      "Step 4: r = 14\n",
      "Step 6: No non-trivial factors found for g = 1\n",
      "Step 4: r = 15\n",
      "Step 5: r is odd\n"
     ]
    }
   ],
   "source": [
    "N = 15\n",
    "a = 7\n",
    "unique_values = set(counts)\n",
    "for r in unique_values:\n",
    "    print(f\"Step 4: r = {r}\")\n",
    "    if r % 2 == 1:\n",
    "        # Step 5: If r is odd, then go back to step 1\n",
    "        print(f\"Step 5: r is odd\")\n",
    "    else:\n",
    "        # Step 6: Compute g = gcd(N, a**(r/2) + 1)\n",
    "        # If g is nontrivial, the other factor is N/g and we're done.\n",
    "        # Otherwise, go to step 1.\n",
    "        g = gcd(N, a**(r//2) + 1)\n",
    "        if g != 1 and g != N:\n",
    "            print(f\"Step 6: Two non-trivial factors of {N} are {g} and {int(N/g)}\")\n",
    "        else:\n",
    "            print(f\"Step 6: No non-trivial factors found for g = {g}\")"
   ]
  },
  {
   "cell_type": "markdown",
   "metadata": {},
   "source": [
    "Below, the quantum implementation of Shor's Algorithm is given using a quantum circuit as defined above."
   ]
  },
  {
   "cell_type": "code",
   "execution_count": 12,
   "metadata": {},
   "outputs": [],
   "source": [
    "from math import gcd\n",
    "import random\n",
    "\n",
    "\"\"\"\n",
    "Find the order r of a (quantum implementation)\n",
    "\"\"\"\n",
    "def find_order_quantum(a,N):\n",
    "    print(f\"Find order r for a = {a} and N = {N}\")\n",
    "    n = int(math.log(N,2)) + 1\n",
    "    m = n\n",
    "    circuit = create_circuit_find_order(n, m, a)\n",
    "    circuit.execute()\n",
    "    circuit.measure()\n",
    "    result = circuit.get_classical_state_as_string()\n",
    "    binary_string = result[1:5]\n",
    "    r = int(binary_string, 2)\n",
    "    return r\n",
    "\n",
    "\"\"\"\n",
    "Find non-trivial prime factors for given N.\n",
    "It is assumed that N is odd and not a prime power.\n",
    "\"\"\"\n",
    "def quantum_shor_algorithm(N, a=None):\n",
    "    finished = False\n",
    "    while not finished:\n",
    "        # Step 1: Pick a random number 1 < a < N\n",
    "        if a == None:\n",
    "            while a not in [2,7,8,11,13]:\n",
    "                a = random.randint(2, N-1)\n",
    "            print(f\"Random number a = {a}, with 1 < a < {N}\")\n",
    "        else:\n",
    "            print(f\"a = {a}\")\n",
    "            finished = True\n",
    "        # Step 2: compute K = gcd(a,N), the greatest common divisor of a and N\n",
    "        K = gcd(a,N)\n",
    "        print(f\"Step 2: K = gcd({a},{N}) = {K}\")\n",
    "        if K != 1:\n",
    "            # Step 3: if K != 1, then K is a non-trivial factor of N, with the other factor being N/K and we are done\n",
    "            print(f\"Step 3: Two non-trivial factors of {N} are {K} and {int(N/K)}\")\n",
    "            finished = True\n",
    "        else:\n",
    "            # Step 4: Otherwise, use the quantum subroutine to find the order r of a\n",
    "            # In the quantum implementation we call the find_order_quantum subroutine\n",
    "            r = find_order_quantum(a, N)\n",
    "            print(f\"Step 4: r = {r}\")\n",
    "            if r % 2 == 1:\n",
    "                # Step 5: If r is odd, then go back to step 1\n",
    "                print(f\"Step 5: r is odd, pick another random number\")\n",
    "                a = None\n",
    "            else:\n",
    "                # Step 6: Compute g = gcd(N, a**(r/2) + 1)\n",
    "                # If g is nontrivial, the other factor is N/g and we're done.\n",
    "                # Otherwise, go to step 1.\n",
    "                g = gcd(N, a**(r//2) + 1)\n",
    "                if g != 1 and g != N:\n",
    "                    print(f\"Step 6: Two non-trivial factors of {N} are {g} and {int(N/g)}\")\n",
    "                    finished = True\n",
    "                else:\n",
    "                    print(f\"Step 6: No non-trivial factors found for g = {g}\")\n",
    "                    a = None\n"
   ]
  },
  {
   "cell_type": "markdown",
   "metadata": {},
   "source": [
    "Below we apply the classical version of Shor's Algorithm for $N = 15$ and $a \\in \\{2,7,8,11,13\\}$."
   ]
  },
  {
   "cell_type": "code",
   "execution_count": 13,
   "metadata": {},
   "outputs": [
    {
     "name": "stdout",
     "output_type": "stream",
     "text": [
      "a = 2\n",
      "Step 2: K = gcd(2,15) = 1\n",
      "Find order r for a = 2 and N = 15\n",
      "Step 4: r = 10\n",
      "Step 6: Two non-trivial factors of 15 are 3 and 5\n",
      "a = 7\n",
      "Step 2: K = gcd(7,15) = 1\n",
      "Find order r for a = 7 and N = 15\n",
      "Step 4: r = 5\n",
      "Step 5: r is odd, pick another random number\n",
      "a = 8\n",
      "Step 2: K = gcd(8,15) = 1\n",
      "Find order r for a = 8 and N = 15\n",
      "Step 4: r = 8\n",
      "Step 6: No non-trivial factors found for g = 1\n",
      "a = 11\n",
      "Step 2: K = gcd(11,15) = 1\n",
      "Find order r for a = 11 and N = 15\n",
      "Step 4: r = 0\n",
      "Step 6: No non-trivial factors found for g = 1\n",
      "a = 13\n",
      "Step 2: K = gcd(13,15) = 1\n",
      "Find order r for a = 13 and N = 15\n",
      "Step 4: r = 11\n",
      "Step 5: r is odd, pick another random number\n"
     ]
    }
   ],
   "source": [
    "N = 15\n",
    "for a in [2,7,8,11,13]:\n",
    "    quantum_shor_algorithm(N,a)"
   ]
  },
  {
   "cell_type": "markdown",
   "metadata": {},
   "source": [
    "Below, we run the quantum version of Shor's Algorithm for $N=15$.\n",
    "Each loop, a random value for $a$ is drawn from the set $\\{2,7,8,11,13\\}$ until non-trivial prime factors are found.\n",
    "Run this cell multiple times and inspect the results. In some cases you will observe that the value of $r$ may be \n",
    "different for the same values of $a$ and $N$, i.e., the quantum algorithm to find $r$ is not determenistic."
   ]
  },
  {
   "cell_type": "code",
   "execution_count": 14,
   "metadata": {},
   "outputs": [
    {
     "name": "stdout",
     "output_type": "stream",
     "text": [
      "Random number a = 8, with 1 < a < 15\n",
      "Step 2: K = gcd(8,15) = 1\n",
      "Find order r for a = 8 and N = 15\n",
      "Step 4: r = 12\n",
      "Step 6: Two non-trivial factors of 15 are 5 and 3\n"
     ]
    }
   ],
   "source": [
    "N = 15\n",
    "quantum_shor_algorithm(N)"
   ]
  }
 ],
 "metadata": {
  "kernelspec": {
   "display_name": "Python 3",
   "language": "python",
   "name": "python3"
  },
  "language_info": {
   "codemirror_mode": {
    "name": "ipython",
    "version": 3
   },
   "file_extension": ".py",
   "mimetype": "text/x-python",
   "name": "python",
   "nbconvert_exporter": "python",
   "pygments_lexer": "ipython3",
   "version": "3.10.8"
  }
 },
 "nbformat": 4,
 "nbformat_minor": 2
}
