{
 "cells": [
  {
   "cell_type": "code",
   "execution_count": 1,
   "metadata": {},
   "outputs": [],
   "source": [
    "from quantumsim import *"
   ]
  },
  {
   "cell_type": "markdown",
   "metadata": {},
   "source": [
    "<h1> Four Cycle Block, surface code using QuantumSim </>"
   ]
  },
  {
   "cell_type": "code",
   "execution_count": 54,
   "metadata": {},
   "outputs": [
    {
     "name": "stdout",
     "output_type": "stream",
     "text": [
      "H...\tHadamard on qubit 0\n",
      "*X..\tCNOT with control qubit 0 and target qubit 1\n",
      "..H.\tHadamard on qubit 2\n",
      "...H\tHadamard on qubit 3\n",
      "X...\tBit-flip error (Pauli X) on qubit 0\n",
      "Z...\tPhase-flip error (Pauli Z) on qubit 0\n",
      "X.*.\tCNOT with control qubit 2 and target qubit 0\n",
      ".X*.\tCNOT with control qubit 2 and target qubit 1\n",
      "Z..*\tControlled Pauli Z with control qubit 3 and target qubit 0\n",
      ".Z.*\tControlled Pauli Z with control qubit 3 and target qubit 1\n",
      "..H.\tHadamard on qubit 2\n",
      "...H\tHadamard on qubit 3\n",
      "Measured state:\n",
      "|1011>\n",
      "|1>\t Measured value of qubit 2\n",
      "|1>\t Measured value of qubit 3\n"
     ]
    }
   ],
   "source": [
    "circuit = Circuit(4)\n",
    "\n",
    "# Encode state among two physical qubits\n",
    "circuit.hadamard(0)\n",
    "circuit.cnot(0, 1)\n",
    "\n",
    "# Prepare anicallary qubits \n",
    "circuit.hadamard(2)\n",
    "circuit.hadamard(3)\n",
    "\n",
    "# Introduce bit flip on one data qubit\n",
    "circuit.bitflip_error(0)\n",
    "\n",
    "# Introduce phase flip on one data qubit\n",
    "circuit.phaseflip_error(0)\n",
    "\n",
    "# Syndrome extraction \n",
    "circuit.cnot(2, 0)\n",
    "circuit.cnot(2, 1)\n",
    "\n",
    "# Syndrome extraction - Check for bit flips\n",
    "circuit.controlled_pauli_z(3, 0)\n",
    "circuit.controlled_pauli_z(3, 1)\n",
    "\n",
    "# Prepare for measurement \n",
    "circuit.hadamard(2)\n",
    "circuit.hadamard(3)\n",
    "\n",
    "circuit.execute()\n",
    "circuit.print_gates_and_descriptions()\n",
    "circuit.measure(print_state=True)\n",
    "print(circuit.get_classical_state_of_qubit_as_string(2))\n",
    "print(circuit.get_classical_state_of_qubit_as_string(3))\n",
    "\n"
   ]
  },
  {
   "cell_type": "markdown",
   "metadata": {},
   "source": [
    "<h1> Four Cycle Block, surface code using Qiskit </h1>"
   ]
  },
  {
   "cell_type": "code",
   "execution_count": null,
   "metadata": {},
   "outputs": [
    {
     "name": "stderr",
     "output_type": "stream",
     "text": [
      "findfont: Font family 'Courier' not found.\n",
      "findfont: Font family ['Courier'] not found. Falling back to DejaVu Sans.\n",
      "findfont: Font family 'Courier' not found.\n",
      "findfont: Font family 'Courier' not found.\n",
      "findfont: Font family 'Courier' not found.\n",
      "findfont: Font family 'Courier' not found.\n",
      "findfont: Font family 'Courier' not found.\n",
      "findfont: Font family 'Courier' not found.\n",
      "findfont: Font family 'Courier' not found.\n",
      "findfont: Font family 'Courier' not found.\n",
      "findfont: Font family 'Courier' not found.\n",
      "findfont: Font family 'Courier' not found.\n",
      "findfont: Font family 'Courier' not found.\n",
      "findfont: Font family 'Courier' not found.\n",
      "findfont: Font family 'Courier' not found.\n",
      "findfont: Font family 'Courier' not found.\n",
      "findfont: Font family 'Courier' not found.\n",
      "findfont: Font family 'Courier' not found.\n",
      "findfont: Font family 'Courier' not found.\n",
      "findfont: Font family 'Courier' not found.\n",
      "findfont: Font family 'Courier' not found.\n",
      "findfont: Font family 'Courier' not found.\n",
      "findfont: Font family 'Courier' not found.\n",
      "findfont: Font family 'Courier' not found.\n",
      "findfont: Font family 'Courier' not found.\n",
      "findfont: Font family 'Courier' not found.\n",
      "findfont: Font family 'Courier' not found.\n",
      "findfont: Font family 'Courier' not found.\n",
      "findfont: Font family 'Courier' not found.\n"
     ]
    },
    {
     "data": {
      "image/png": "[encoded data removed]",
      "text/plain": [
       "<Figure size 956.385x451.5 with 1 Axes>"
      ]
     },
     "execution_count": 3,
     "metadata": {},
     "output_type": "execute_result"
    }
   ],
   "source": [
    "from qiskit import QuantumCircuit\n",
    "from qiskit.transpiler.preset_passmanagers import generate_preset_pass_manager\n",
    " \n",
    "from qiskit.providers.basic_provider import BasicSimulator\n",
    "from qiskit.visualization import plot_histogram\n",
    "\n",
    "# Create a new circuit with two qubits\n",
    "qc = QuantumCircuit(4, 2)\n",
    "\n",
    "qc.h(0)\n",
    "qc.cx(0, 1)\n",
    "\n",
    "qc.z(0)\n",
    "# qc.x(0)\n",
    "\n",
    "qc.h(2)\n",
    "qc.h(3)\n",
    "\n",
    "\n",
    "qc.cx(2, 0)\n",
    "qc.cx(2, 1)\n",
    "\n",
    "qc.cz(3, 0)\n",
    "qc.cz(3, 1)\n",
    "\n",
    "qc.h(2)\n",
    "qc.h(3)\n",
    "\n",
    "qc.measure(2, 0)\n",
    "qc.measure(3, 1)\n",
    "\n",
    "\n",
    "# Return a drawing of the circuit using MatPlotLib (\"mpl\"). This is the\n",
    "# last line of the cell, so the drawing appears in the cell output.\n",
    "# Remove the \"mpl\" argument to get a text drawing.\n",
    "qc.draw(\"mpl\")\n",
    "\n",
    "# backend = BasicSimulator()\n",
    "# result = backend.run(qc, shots=100).result()   \n",
    "# counts = result.get_counts()                    \n",
    "# plot_histogram(counts)\n",
    "\n",
    "\n"
   ]
  }
 ],
 "metadata": {
  "kernelspec": {
   "display_name": ".venv",
   "language": "python",
   "name": "python3"
  },
  "language_info": {
   "codemirror_mode": {
    "name": "ipython",
    "version": 3
   },
   "file_extension": ".py",
   "mimetype": "text/x-python",
   "name": "python",
   "nbconvert_exporter": "python",
   "pygments_lexer": "ipython3",
   "version": "3.12.6"
  }
 },
 "nbformat": 4,
 "nbformat_minor": 2
}
