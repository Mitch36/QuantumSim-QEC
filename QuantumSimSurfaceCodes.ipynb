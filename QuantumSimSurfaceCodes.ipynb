{
 "cells": [
  {
   "cell_type": "markdown",
   "metadata": {},
   "source": [
    "<h1> QuantumSim - Surface Codes </h1>\n",
    "Author: Michel Meulen<br>\n",
    "Date: 05-12-2024<br>\n",
    "<br>\n",
    "This chapter introduces quantum error correction (QEC) and delves into the distance three surface code. The content presented here is based on a literature review available at INSERT LINK. To execute this notebook, two libraries are essential: quantumsim, likely familiar to you, and SOMETHING, providing circuits for the nine-qubit surface code.\n",
    "\n",
    "A strong foundation in quantum computing, particularly the concepts explored in the chapter \"QuantumSim - Shor's Nine Qubit Code,\" is recommended. This chapter clarifies the properties of specific quantum gates crucial for understanding the surface code, as well as the two primary error types: phase-flip (Z-errors) and bit-flip (X-errors).\n",
    "\n"
   ]
  },
  {
   "cell_type": "code",
   "execution_count": null,
   "metadata": {},
   "outputs": [],
   "source": [
    "import quantumsim as sim"
   ]
  },
  {
   "cell_type": "markdown",
   "metadata": {},
   "source": [
    "Surface Codes - Basics\n",
    "============================\n",
    "Quantum error correction leverages multiple physical qubits to construct more resilient logical qubits. Within the surface code architecture, qubits are classified into two categories: data qubits, which store the actual quantum information, and ancillary qubits, which facilitate error detection and correction. By measuring ancillary qubits, we can identify potential errors in data qubits and apply appropriate recovery operations to maintain data integrity. This notebook delves into the fundamentals of the surface code, starting with the fundamental building blocks and concluding in a simulation of the distance-3 surface code, providing a comprehensive understanding of the surface code."
   ]
  },
  {
   "cell_type": "markdown",
   "metadata": {},
   "source": [
    "<h2> Stabilizers - The fundamental building blocks of surface codes </h2>\n",
    "\n",
    "<img src=\"./pictures/surface_code/surface_code_nine_qubits_layout.drawio.png\" alt=\"NOT quantum logic gate\" style=\"width:30%;\"/>\n",
    "\n",
    "<img src=\"./pictures/surface_code/surface_code_encoding_example.drawio.png\" alt=\"Surface code encoding circuit\" style=\"width:30%;\"/>\n",
    "<img src=\"./pictures/surface_code/surface_code_x_stabilizer_example.drawio.png\" alt=\"X stabilizer\" style=\"width:30%;\"/>\n",
    "<img src=\"./pictures/surface_code/surface_code_z_stabilizer_example.drawio.png\" alt=\"Z stabilizer\" style=\"width:30%;\"/>\n",
    "\n"
   ]
  }
 ],
 "metadata": {
  "kernelspec": {
   "display_name": ".venv",
   "language": "python",
   "name": "python3"
  },
  "language_info": {
   "name": "python",
   "version": "3.12.6"
  }
 },
 "nbformat": 4,
 "nbformat_minor": 2
}
