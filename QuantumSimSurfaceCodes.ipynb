{
 "cells": [
  {
   "cell_type": "code",
   "execution_count": 2,
   "metadata": {},
   "outputs": [],
   "source": [
    "from quantumsim import *"
   ]
  },
  {
   "cell_type": "code",
   "execution_count": 430,
   "metadata": {},
   "outputs": [
    {
     "name": "stdout",
     "output_type": "stream",
     "text": [
      "X...\tPauli X on qubit 0\n",
      "*.X.\tCNOT with control qubit 0 and target qubit 2\n",
      "...H\tHadamard on qubit 3\n",
      ".Z..\tPauli Z on qubit 1\n",
      ".X.*\tCNOT with control qubit 3 and target qubit 1\n",
      "...H\tHadamard on qubit 3\n",
      "Measured state:\n",
      "|1010>\n"
     ]
    },
    {
     "data": {
      "text/plain": [
       "'|1010>'"
      ]
     },
     "execution_count": 430,
     "metadata": {},
     "output_type": "execute_result"
    }
   ],
   "source": [
    "circuit = Circuit(4)\n",
    "# Data qubit is 0, 1\n",
    "# Ancillary qubit is 2 for detecting x errors, 3 for detecting z errors\n",
    "\n",
    "# Create additional state\n",
    "\n",
    "circuit.pauli_x(0)\n",
    "\n",
    "circuit.cnot(0, 2)\n",
    "\n",
    "circuit.hadamard(3)\n",
    "circuit.pauli_z(1)\n",
    "circuit.cnot(3, 1)\n",
    "circuit.hadamard(3)\n",
    "\n",
    "\n",
    "\n",
    "circuit.execute(print_state=False)\n",
    "circuit.print_gates_and_descriptions()\n",
    "circuit.measure(print_state=True)\n"
   ]
  },
  {
   "cell_type": "code",
   "execution_count": 483,
   "metadata": {},
   "outputs": [
    {
     "data": {
      "image/png": "[encoded data removed]",
      "text/plain": [
       "<Figure size 640x480 with 1 Axes>"
      ]
     },
     "execution_count": 483,
     "metadata": {},
     "output_type": "execute_result"
    }
   ],
   "source": [
    "from qiskit import QuantumCircuit\n",
    "from qiskit.transpiler.preset_passmanagers import generate_preset_pass_manager\n",
    " \n",
    "from qiskit.providers.basic_provider import BasicSimulator\n",
    "from qiskit.visualization import plot_histogram\n",
    "\n",
    "# Create a new circuit with two qubits\n",
    "qc = QuantumCircuit(2, 2)\n",
    " \n",
    "# Add a Hadamard gate to qubit 0\n",
    "# qc.z(0)\n",
    "qc.x(0)\n",
    "# qc.h(1)\n",
    " \n",
    "# Perform a controlled-X gate on qubit 1, controlled by qubit 0\n",
    "# qc.cx(1, 0)\n",
    "# qc.h(1)\n",
    "\n",
    "qc.measure(0, 0)\n",
    " \n",
    "# Return a drawing of the circuit using MatPlotLib (\"mpl\"). This is the\n",
    "# last line of the cell, so the drawing appears in the cell output.\n",
    "# Remove the \"mpl\" argument to get a text drawing.\n",
    "qc.draw(\"mpl\")\n",
    "\n",
    "backend = BasicSimulator()\n",
    "\n",
    "# If you do not specify the number of shots, the default is 1024\n",
    "result = backend.run(qc, shots=100).result()   \n",
    "\n",
    "# Extract the counts of 0 and 1 measurements\n",
    "counts = result.get_counts()                    \n",
    "plot_histogram(counts)\n",
    "\n",
    "\n"
   ]
  }
 ],
 "metadata": {
  "kernelspec": {
   "display_name": ".venv",
   "language": "python",
   "name": "python3"
  },
  "language_info": {
   "codemirror_mode": {
    "name": "ipython",
    "version": 3
   },
   "file_extension": ".py",
   "mimetype": "text/x-python",
   "name": "python",
   "nbconvert_exporter": "python",
   "pygments_lexer": "ipython3",
   "version": "3.12.6"
  }
 },
 "nbformat": 4,
 "nbformat_minor": 2
}
