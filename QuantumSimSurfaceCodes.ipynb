{
 "cells": [
  {
   "cell_type": "code",
   "execution_count": 2,
   "metadata": {},
   "outputs": [],
   "source": [
    "from quantumsim import *\n",
    "from SurfaceCode import *"
   ]
  },
  {
   "cell_type": "markdown",
   "metadata": {},
   "source": [
    "<h1> Four Cycle Block, surface code using QuantumSim </h1>\n",
    "<img src=\"./pictures/four_cycle_surface_code_white_background.png\" alt=\"Bit flip correction circuit\" style=\"width:50%;\"/>"
   ]
  },
  {
   "cell_type": "code",
   "execution_count": 3,
   "metadata": {},
   "outputs": [
    {
     "name": "stdout",
     "output_type": "stream",
     "text": [
      "H...\tHadamard on qubit 0\n",
      "*X..\tCNOT with control qubit 0 and target qubit 1\n",
      "..H.\tHadamard on qubit 2\n",
      "...H\tHadamard on qubit 3\n",
      "X...\tBit-flip error (Pauli X) on qubit 0\n",
      "Z...\tPhase-flip error (Pauli Z) on qubit 0\n",
      "X.*.\tCNOT with control qubit 2 and target qubit 0\n",
      ".X*.\tCNOT with control qubit 2 and target qubit 1\n",
      "Z..*\tControlled Pauli Z with control qubit 3 and target qubit 0\n",
      ".Z.*\tControlled Pauli Z with control qubit 3 and target qubit 1\n",
      "..H.\tHadamard on qubit 2\n",
      "...H\tHadamard on qubit 3\n",
      "Measured state:\n",
      "|0111>\n",
      "|1>\t Measured value of qubit 2\n",
      "|1>\t Measured value of qubit 3\n"
     ]
    }
   ],
   "source": [
    "circuit = Circuit(4)\n",
    "\n",
    "# Encode state among two physical qubits\n",
    "circuit.hadamard(0)\n",
    "circuit.cnot(0, 1)\n",
    "\n",
    "# Prepare anicallary qubits \n",
    "circuit.hadamard(2)\n",
    "circuit.hadamard(3)\n",
    "\n",
    "# Introduce bit flip on one data qubit\n",
    "circuit.bitflip_error(0)\n",
    "\n",
    "# Introduce phase flip on one data qubit\n",
    "circuit.phaseflip_error(0)\n",
    "\n",
    "# Syndrome extraction \n",
    "circuit.cnot(2, 0)\n",
    "circuit.cnot(2, 1)\n",
    "\n",
    "# Syndrome extraction - Check for bit flips\n",
    "circuit.controlled_pauli_z(3, 0)\n",
    "circuit.controlled_pauli_z(3, 1)\n",
    "\n",
    "# Prepare for measurement \n",
    "circuit.hadamard(2)\n",
    "circuit.hadamard(3)\n",
    "\n",
    "circuit.execute()\n",
    "circuit.print_gates_and_descriptions()\n",
    "circuit.measure(print_state=True)\n",
    "print(circuit.get_classical_state_of_qubit_as_string(2))\n",
    "print(circuit.get_classical_state_of_qubit_as_string(3))\n",
    "\n"
   ]
  },
  {
   "cell_type": "markdown",
   "metadata": {},
   "source": [
    "<h1> Four Cycle Block, surface code using Qiskit </h1>"
   ]
  },
  {
   "cell_type": "code",
   "execution_count": 4,
   "metadata": {},
   "outputs": [],
   "source": [
    "# from qiskit import QuantumCircuit\n",
    "# from qiskit.transpiler.preset_passmanagers import generate_preset_pass_manager\n",
    " \n",
    "# from qiskit.providers.basic_provider import BasicSimulator\n",
    "# from qiskit.visualization import plot_histogram\n",
    "\n",
    "# # Create a new circuit with two qubits\n",
    "# qc = QuantumCircuit(4, 2)\n",
    "\n",
    "# qc.h(0)\n",
    "# qc.cx(0, 1)\n",
    "\n",
    "# qc.z(0)\n",
    "# # qc.x(0)\n",
    "\n",
    "# qc.h(2)\n",
    "# qc.h(3)\n",
    "\n",
    "\n",
    "# qc.cx(2, 0)\n",
    "# qc.cx(2, 1)\n",
    "\n",
    "# qc.cz(3, 0)\n",
    "# qc.cz(3, 1)\n",
    "\n",
    "# qc.h(2)\n",
    "# qc.h(3)\n",
    "\n",
    "# qc.measure(2, 0)\n",
    "# qc.measure(3, 1)\n",
    "\n",
    "\n",
    "# # Return a drawing of the circuit using MatPlotLib (\"mpl\"). This is the\n",
    "# # last line of the cell, so the drawing appears in the cell output.\n",
    "# # Remove the \"mpl\" argument to get a text drawing.\n",
    "# qc.draw(\"mpl\")\n",
    "\n",
    "# # backend = BasicSimulator()\n",
    "# # result = backend.run(qc, shots=100).result()   \n",
    "# # counts = result.get_counts()                    \n",
    "# # plot_histogram(counts)\n",
    "\n",
    "\n"
   ]
  },
  {
   "cell_type": "markdown",
   "metadata": {},
   "source": [
    "<h1> The [[5, 1, 2]] Detection code </h1>\n",
    "<img src=\"./pictures/5_1_2_surface_code_white_background.png\" alt=\"Bit flip correction circuit\" style=\"width:50%;\"/>"
   ]
  },
  {
   "cell_type": "code",
   "execution_count": 5,
   "metadata": {},
   "outputs": [
    {
     "name": "stdout",
     "output_type": "stream",
     "text": [
      "Surface code initliazed with lattice: 5\n",
      "Total qubits used for surface: 25\n"
     ]
    },
    {
     "ename": "MemoryError",
     "evalue": "Unable to allocate 4.00 GiB for an array with shape (8192, 2, 8192, 2) and data type complex128",
     "output_type": "error",
     "traceback": [
      "\u001b[1;31m---------------------------------------------------------------------------\u001b[0m",
      "\u001b[1;31mMemoryError\u001b[0m                               Traceback (most recent call last)",
      "Cell \u001b[1;32mIn[5], line 2\u001b[0m\n\u001b[0;32m      1\u001b[0m surfaceCode \u001b[38;5;241m=\u001b[39m SurfaceCode(\u001b[38;5;241m3\u001b[39m)\n\u001b[1;32m----> 2\u001b[0m \u001b[43msurfaceCode\u001b[49m\u001b[38;5;241;43m.\u001b[39;49m\u001b[43mencode\u001b[49m\u001b[43m(\u001b[49m\u001b[43m)\u001b[49m\n\u001b[0;32m      3\u001b[0m \u001b[38;5;28mprint\u001b[39m(surfaceCode\u001b[38;5;241m.\u001b[39mtoStringCircuit())\n",
      "File \u001b[1;32mc:\\School_Fontys_Michel_Meulen\\9_Master_of_Applied_IT\\QuantumSim-QEC\\SurfaceCode.py:53\u001b[0m, in \u001b[0;36mSurfaceCode.encode\u001b[1;34m(self)\u001b[0m\n\u001b[0;32m     52\u001b[0m \u001b[38;5;28;01mdef\u001b[39;00m \u001b[38;5;21mencode\u001b[39m(\u001b[38;5;28mself\u001b[39m):\n\u001b[1;32m---> 53\u001b[0m     \u001b[38;5;28;43mself\u001b[39;49m\u001b[38;5;241;43m.\u001b[39;49m\u001b[43mcircuit\u001b[49m\u001b[38;5;241;43m.\u001b[39;49m\u001b[43mhadamard\u001b[49m\u001b[43m(\u001b[49m\u001b[38;5;241;43m0\u001b[39;49m\u001b[43m)\u001b[49m\n\u001b[0;32m     54\u001b[0m     \u001b[38;5;66;03m# for qubit in self.qubits:\u001b[39;00m\n\u001b[0;32m     55\u001b[0m     \u001b[38;5;66;03m#     if(qubit.type == \"Data\" and qubit.id  != self.totalQubits - 1):\u001b[39;00m\n\u001b[0;32m     56\u001b[0m     \u001b[38;5;66;03m#         self.circuit.cnot(qubit.id, qubit.id + 2)\u001b[39;00m\n\u001b[0;32m     57\u001b[0m     \u001b[38;5;28;01mreturn\u001b[39;00m\n",
      "File \u001b[1;32mc:\\School_Fontys_Michel_Meulen\\9_Master_of_Applied_IT\\QuantumSim-QEC\\quantumsim.py:471\u001b[0m, in \u001b[0;36mCircuit.hadamard\u001b[1;34m(self, q)\u001b[0m\n\u001b[0;32m    470\u001b[0m \u001b[38;5;28;01mdef\u001b[39;00m \u001b[38;5;21mhadamard\u001b[39m(\u001b[38;5;28mself\u001b[39m, q):\n\u001b[1;32m--> 471\u001b[0m     combined_operation \u001b[38;5;241m=\u001b[39m \u001b[43mCircuitUnitaryOperation\u001b[49m\u001b[38;5;241;43m.\u001b[39;49m\u001b[43mget_combined_operation_for_hadamard\u001b[49m\u001b[43m(\u001b[49m\u001b[43mq\u001b[49m\u001b[43m,\u001b[49m\u001b[43m \u001b[49m\u001b[38;5;28;43mself\u001b[39;49m\u001b[38;5;241;43m.\u001b[39;49m\u001b[43mN\u001b[49m\u001b[43m)\u001b[49m\n\u001b[0;32m    472\u001b[0m     \u001b[38;5;28mself\u001b[39m\u001b[38;5;241m.\u001b[39mdescriptions\u001b[38;5;241m.\u001b[39mappend(\u001b[38;5;124mf\u001b[39m\u001b[38;5;124m\"\u001b[39m\u001b[38;5;124mHadamard on qubit \u001b[39m\u001b[38;5;132;01m{\u001b[39;00mq\u001b[38;5;132;01m}\u001b[39;00m\u001b[38;5;124m\"\u001b[39m)\n\u001b[0;32m    473\u001b[0m     \u001b[38;5;28mself\u001b[39m\u001b[38;5;241m.\u001b[39moperations\u001b[38;5;241m.\u001b[39mappend(combined_operation)\n",
      "File \u001b[1;32mc:\\School_Fontys_Michel_Meulen\\9_Master_of_Applied_IT\\QuantumSim-QEC\\quantumsim.py:181\u001b[0m, in \u001b[0;36mCircuitUnitaryOperation.get_combined_operation_for_hadamard\u001b[1;34m(q, N)\u001b[0m\n\u001b[0;32m    178\u001b[0m \u001b[38;5;129m@staticmethod\u001b[39m\n\u001b[0;32m    179\u001b[0m \u001b[38;5;28;01mdef\u001b[39;00m \u001b[38;5;21mget_combined_operation_for_hadamard\u001b[39m(q, N):\n\u001b[0;32m    180\u001b[0m     hadamard \u001b[38;5;241m=\u001b[39m QubitUnitaryOperation\u001b[38;5;241m.\u001b[39mget_hadamard()\n\u001b[1;32m--> 181\u001b[0m     \u001b[38;5;28;01mreturn\u001b[39;00m \u001b[43mCircuitUnitaryOperation\u001b[49m\u001b[38;5;241;43m.\u001b[39;49m\u001b[43mget_combined_operation_for_qubit\u001b[49m\u001b[43m(\u001b[49m\u001b[43mhadamard\u001b[49m\u001b[43m,\u001b[49m\u001b[43m \u001b[49m\u001b[43mq\u001b[49m\u001b[43m,\u001b[49m\u001b[43m \u001b[49m\u001b[43mN\u001b[49m\u001b[43m)\u001b[49m\n",
      "File \u001b[1;32mc:\\School_Fontys_Michel_Meulen\\9_Master_of_Applied_IT\\QuantumSim-QEC\\quantumsim.py:156\u001b[0m, in \u001b[0;36mCircuitUnitaryOperation.get_combined_operation_for_qubit\u001b[1;34m(operation, q, N)\u001b[0m\n\u001b[0;32m    154\u001b[0m         combined_operation \u001b[38;5;241m=\u001b[39m np\u001b[38;5;241m.\u001b[39mkron(combined_operation, operation)\n\u001b[0;32m    155\u001b[0m     \u001b[38;5;28;01melse\u001b[39;00m:\n\u001b[1;32m--> 156\u001b[0m         combined_operation \u001b[38;5;241m=\u001b[39m \u001b[43mnp\u001b[49m\u001b[38;5;241;43m.\u001b[39;49m\u001b[43mkron\u001b[49m\u001b[43m(\u001b[49m\u001b[43mcombined_operation\u001b[49m\u001b[43m,\u001b[49m\u001b[43m \u001b[49m\u001b[43midentity\u001b[49m\u001b[43m)\u001b[49m\n\u001b[0;32m    157\u001b[0m \u001b[38;5;28;01mreturn\u001b[39;00m combined_operation\n",
      "File \u001b[1;32mc:\\School_Fontys_Michel_Meulen\\9_Master_of_Applied_IT\\QuantumSim-QEC\\.venv\\Lib\\site-packages\\numpy\\lib\\_shape_base_impl.py:1204\u001b[0m, in \u001b[0;36mkron\u001b[1;34m(a, b)\u001b[0m\n\u001b[0;32m   1202\u001b[0m b_arr \u001b[38;5;241m=\u001b[39m expand_dims(b_arr, axis\u001b[38;5;241m=\u001b[39m\u001b[38;5;28mtuple\u001b[39m(\u001b[38;5;28mrange\u001b[39m(\u001b[38;5;241m0\u001b[39m, nd\u001b[38;5;241m*\u001b[39m\u001b[38;5;241m2\u001b[39m, \u001b[38;5;241m2\u001b[39m)))\n\u001b[0;32m   1203\u001b[0m \u001b[38;5;66;03m# In case of `mat`, convert result to `array`\u001b[39;00m\n\u001b[1;32m-> 1204\u001b[0m result \u001b[38;5;241m=\u001b[39m \u001b[43m_nx\u001b[49m\u001b[38;5;241;43m.\u001b[39;49m\u001b[43mmultiply\u001b[49m\u001b[43m(\u001b[49m\u001b[43ma_arr\u001b[49m\u001b[43m,\u001b[49m\u001b[43m \u001b[49m\u001b[43mb_arr\u001b[49m\u001b[43m,\u001b[49m\u001b[43m \u001b[49m\u001b[43msubok\u001b[49m\u001b[38;5;241;43m=\u001b[39;49m\u001b[43m(\u001b[49m\u001b[38;5;129;43;01mnot\u001b[39;49;00m\u001b[43m \u001b[49m\u001b[43mis_any_mat\u001b[49m\u001b[43m)\u001b[49m\u001b[43m)\u001b[49m\n\u001b[0;32m   1206\u001b[0m \u001b[38;5;66;03m# Reshape back\u001b[39;00m\n\u001b[0;32m   1207\u001b[0m result \u001b[38;5;241m=\u001b[39m result\u001b[38;5;241m.\u001b[39mreshape(_nx\u001b[38;5;241m.\u001b[39mmultiply(as_, bs))\n",
      "\u001b[1;31mMemoryError\u001b[0m: Unable to allocate 4.00 GiB for an array with shape (8192, 2, 8192, 2) and data type complex128"
     ]
    }
   ],
   "source": [
    "surfaceCode = SurfaceCode(3)\n",
    "surfaceCode.encode()\n",
    "print(surfaceCode.toStringCircuit())\n",
    "\n"
   ]
  },
  {
   "cell_type": "code",
   "execution_count": null,
   "metadata": {},
   "outputs": [
    {
     "name": "stdout",
     "output_type": "stream",
     "text": [
      "[[0.+0.j]\n",
      " [0.+0.j]\n",
      " [1.+0.j]\n",
      " [0.+0.j]\n",
      " [0.+0.j]\n",
      " [0.+0.j]\n",
      " [0.+0.j]\n",
      " [0.+0.j]]\n",
      "[0.+0.j 0.+0.j 1.+0.j 0.+0.j 0.+0.j 0.+0.j 0.+0.j 0.+0.j]\n",
      "[[0.+0.j 0.+0.j 0.+0.j 0.+0.j 0.+0.j 0.+0.j 0.+0.j 0.+0.j]\n",
      " [0.+0.j 0.+0.j 0.+0.j 0.+0.j 0.+0.j 0.+0.j 0.+0.j 0.+0.j]\n",
      " [0.+0.j 0.+0.j 1.+0.j 0.+0.j 0.+0.j 0.+0.j 0.+0.j 0.+0.j]\n",
      " [0.+0.j 0.+0.j 0.+0.j 0.+0.j 0.+0.j 0.+0.j 0.+0.j 0.+0.j]\n",
      " [0.+0.j 0.+0.j 0.+0.j 0.+0.j 0.+0.j 0.+0.j 0.+0.j 0.+0.j]\n",
      " [0.+0.j 0.+0.j 0.+0.j 0.+0.j 0.+0.j 0.+0.j 0.+0.j 0.+0.j]\n",
      " [0.+0.j 0.+0.j 0.+0.j 0.+0.j 0.+0.j 0.+0.j 0.+0.j 0.+0.j]\n",
      " [0.+0.j 0.+0.j 0.+0.j 0.+0.j 0.+0.j 0.+0.j 0.+0.j 0.+0.j]]\n",
      "[0. 0. 1. 0. 0. 0. 0. 0.]\n",
      "2\n"
     ]
    }
   ],
   "source": [
    "import quantumsim as sim\n",
    "import scipy.sparse as sps\n",
    "import numpy as np\n",
    "\n",
    "N = 3\n",
    "index = 2\n",
    "# Changed matrix froim DOK matrix to CSR matrix for optimization\n",
    "sparse_matrix  = sps.dok_matrix((2**N, 1), dtype=complex)\n",
    "sparse_matrix [index] = 1\n",
    "\n",
    "# Convert to dense Numpy array\n",
    "dense_array = sparse_matrix.toarray()\n",
    "print(dense_array)\n",
    "\n",
    "# Flatten the dense array to a state vector\n",
    "state_vector = dense_array.flatten()\n",
    "print(state_vector)\n",
    "\n",
    "# Calculate the outer product to get the density matrix of the state vector\n",
    "density_matrix = np.outer(state_vector, state_vector.conj().T)\n",
    "print(density_matrix)\n",
    "\n",
    "# Covert density matrix to probabilities matrix\n",
    "probabilities_matrix = np.diag(density_matrix).real\n",
    "print(probabilities_matrix)\n",
    "\n",
    "measured_index = np.random.choice(len(probabilities_matrix), p=probabilities_matrix)\n",
    "print(measured_index)"
   ]
  },
  {
   "cell_type": "code",
   "execution_count": 5,
   "metadata": {},
   "outputs": [
    {
     "ename": "MemoryError",
     "evalue": "Unable to allocate 4.00 GiB for an array with shape (16384, 16384) and data type complex128",
     "output_type": "error",
     "traceback": [
      "\u001b[1;31m---------------------------------------------------------------------------\u001b[0m",
      "\u001b[1;31mMemoryError\u001b[0m                               Traceback (most recent call last)",
      "Cell \u001b[1;32mIn[5], line 3\u001b[0m\n\u001b[0;32m      1\u001b[0m circuit \u001b[38;5;241m=\u001b[39m Circuit(\u001b[38;5;241m14\u001b[39m)\n\u001b[0;32m      2\u001b[0m circuit\u001b[38;5;241m.\u001b[39mpauli_x(\u001b[38;5;241m0\u001b[39m)\n\u001b[1;32m----> 3\u001b[0m \u001b[43mcircuit\u001b[49m\u001b[38;5;241;43m.\u001b[39;49m\u001b[43mexecute\u001b[49m\u001b[43m(\u001b[49m\u001b[43m)\u001b[49m\n",
      "File \u001b[1;32mc:\\School_Fontys_Michel_Meulen\\9_Master_of_Applied_IT\\QuantumSim-QEC\\quantumsim.py:805\u001b[0m, in \u001b[0;36mCircuit.execute\u001b[1;34m(self, print_state)\u001b[0m\n\u001b[0;32m    803\u001b[0m     \u001b[38;5;28mself\u001b[39m\u001b[38;5;241m.\u001b[39mstate_vector\u001b[38;5;241m.\u001b[39mprint()\n\u001b[0;32m    804\u001b[0m \u001b[38;5;28;01mfor\u001b[39;00m operation, description \u001b[38;5;129;01min\u001b[39;00m \u001b[38;5;28mzip\u001b[39m(\u001b[38;5;28mself\u001b[39m\u001b[38;5;241m.\u001b[39moperations, \u001b[38;5;28mself\u001b[39m\u001b[38;5;241m.\u001b[39mdescriptions):\n\u001b[1;32m--> 805\u001b[0m     \u001b[38;5;28;43mself\u001b[39;49m\u001b[38;5;241;43m.\u001b[39;49m\u001b[43mstate_vector\u001b[49m\u001b[38;5;241;43m.\u001b[39;49m\u001b[43mapply_unitary_operation\u001b[49m\u001b[43m(\u001b[49m\u001b[43moperation\u001b[49m\u001b[43m)\u001b[49m\n\u001b[0;32m    806\u001b[0m     \u001b[38;5;28mself\u001b[39m\u001b[38;5;241m.\u001b[39mquantum_states\u001b[38;5;241m.\u001b[39mappend(\u001b[38;5;28mself\u001b[39m\u001b[38;5;241m.\u001b[39mstate_vector\u001b[38;5;241m.\u001b[39mget_quantum_state())\n\u001b[0;32m    807\u001b[0m     \u001b[38;5;28;01mif\u001b[39;00m print_state:\n",
      "File \u001b[1;32mc:\\School_Fontys_Michel_Meulen\\9_Master_of_Applied_IT\\QuantumSim-QEC\\quantumsim.py:377\u001b[0m, in \u001b[0;36mStateVector.apply_unitary_operation\u001b[1;34m(self, operation)\u001b[0m\n\u001b[0;32m    375\u001b[0m \u001b[38;5;28;01mdef\u001b[39;00m \u001b[38;5;21mapply_unitary_operation\u001b[39m(\u001b[38;5;28mself\u001b[39m, operation):\n\u001b[0;32m    376\u001b[0m     \u001b[38;5;66;03m# Check if operation is a unitary matrix\u001b[39;00m\n\u001b[1;32m--> 377\u001b[0m     \u001b[38;5;28;01mif\u001b[39;00m \u001b[38;5;129;01mnot\u001b[39;00m np\u001b[38;5;241m.\u001b[39mallclose(np\u001b[38;5;241m.\u001b[39meye(\u001b[38;5;241m2\u001b[39m\u001b[38;5;241m*\u001b[39m\u001b[38;5;241m*\u001b[39m\u001b[38;5;28mself\u001b[39m\u001b[38;5;241m.\u001b[39mN), \u001b[43mnp\u001b[49m\u001b[38;5;241;43m.\u001b[39;49m\u001b[43mdot\u001b[49m\u001b[43m(\u001b[49m\u001b[43mnp\u001b[49m\u001b[38;5;241;43m.\u001b[39;49m\u001b[43mconj\u001b[49m\u001b[43m(\u001b[49m\u001b[43moperation\u001b[49m\u001b[38;5;241;43m.\u001b[39;49m\u001b[43mT\u001b[49m\u001b[43m)\u001b[49m\u001b[43m,\u001b[49m\u001b[43m \u001b[49m\u001b[43moperation\u001b[49m\u001b[43m)\u001b[49m):\n\u001b[0;32m    378\u001b[0m         \u001b[38;5;28;01mraise\u001b[39;00m \u001b[38;5;167;01mValueError\u001b[39;00m(\u001b[38;5;124m\"\u001b[39m\u001b[38;5;124mInput matrix is not unitary\u001b[39m\u001b[38;5;124m\"\u001b[39m)\n\u001b[0;32m    379\u001b[0m     \u001b[38;5;28mself\u001b[39m\u001b[38;5;241m.\u001b[39mstate_vector \u001b[38;5;241m=\u001b[39m np\u001b[38;5;241m.\u001b[39mdot(operation, \u001b[38;5;28mself\u001b[39m\u001b[38;5;241m.\u001b[39mstate_vector)\n",
      "\u001b[1;31mMemoryError\u001b[0m: Unable to allocate 4.00 GiB for an array with shape (16384, 16384) and data type complex128"
     ]
    }
   ],
   "source": [
    "circuit = Circuit(14)\n",
    "circuit.pauli_x(0)\n",
    "circuit.execute()"
   ]
  }
 ],
 "metadata": {
  "kernelspec": {
   "display_name": ".venv",
   "language": "python",
   "name": "python3"
  },
  "language_info": {
   "codemirror_mode": {
    "name": "ipython",
    "version": 3
   },
   "file_extension": ".py",
   "mimetype": "text/x-python",
   "name": "python",
   "nbconvert_exporter": "python",
   "pygments_lexer": "ipython3",
   "version": "3.12.6"
  }
 },
 "nbformat": 4,
 "nbformat_minor": 2
}
