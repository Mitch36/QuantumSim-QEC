{
 "cells": [
  {
   "cell_type": "code",
   "execution_count": 1,
   "metadata": {},
   "outputs": [],
   "source": [
    "from quantumsim import *\n",
    "from SurfaceCode import *"
   ]
  },
  {
   "cell_type": "markdown",
   "metadata": {},
   "source": [
    "<h1> Four Cycle Block, surface code using QuantumSim </h1>\n",
    "<img src=\"./pictures/four_cycle_surface_code_white_background.png\" alt=\"Bit flip correction circuit\" style=\"width:50%;\"/>"
   ]
  },
  {
   "cell_type": "code",
   "execution_count": 2,
   "metadata": {},
   "outputs": [
    {
     "name": "stdout",
     "output_type": "stream",
     "text": [
      "H...\tHadamard on qubit 0\n",
      "*X..\tCNOT with control qubit 0 and target qubit 1\n",
      "..H.\tHadamard on qubit 2\n",
      "...H\tHadamard on qubit 3\n",
      "X...\tBit-flip error (Pauli X) on qubit 0\n",
      "Z...\tPhase-flip error (Pauli Z) on qubit 0\n",
      "X.*.\tCNOT with control qubit 2 and target qubit 0\n",
      ".X*.\tCNOT with control qubit 2 and target qubit 1\n",
      "Z..*\tControlled Pauli Z with control qubit 3 and target qubit 0\n",
      ".Z.*\tControlled Pauli Z with control qubit 3 and target qubit 1\n",
      "..H.\tHadamard on qubit 2\n",
      "...H\tHadamard on qubit 3\n",
      "Measured state:\n",
      "|0111>\n",
      "|1>\t Measured value of qubit 2\n",
      "|1>\t Measured value of qubit 3\n"
     ]
    }
   ],
   "source": [
    "circuit = Circuit(4)\n",
    "\n",
    "# Encode state among two physical qubits\n",
    "circuit.hadamard(0)\n",
    "circuit.cnot(0, 1)\n",
    "\n",
    "# Prepare anicallary qubits \n",
    "circuit.hadamard(2)\n",
    "circuit.hadamard(3)\n",
    "\n",
    "# Introduce bit flip on one data qubit\n",
    "circuit.bitflip_error(0)\n",
    "\n",
    "# Introduce phase flip on one data qubit\n",
    "circuit.phaseflip_error(0)\n",
    "\n",
    "# Syndrome extraction \n",
    "circuit.cnot(2, 0)\n",
    "circuit.cnot(2, 1)\n",
    "\n",
    "# Syndrome extraction - Check for bit flips\n",
    "circuit.controlled_pauli_z(3, 0)\n",
    "circuit.controlled_pauli_z(3, 1)\n",
    "\n",
    "# Prepare for measurement \n",
    "circuit.hadamard(2)\n",
    "circuit.hadamard(3)\n",
    "\n",
    "circuit.execute()\n",
    "circuit.print_gates_and_descriptions()\n",
    "circuit.measure(print_state=True)\n",
    "print(circuit.get_classical_state_of_qubit_as_string(2))\n",
    "print(circuit.get_classical_state_of_qubit_as_string(3))\n",
    "\n"
   ]
  },
  {
   "cell_type": "markdown",
   "metadata": {},
   "source": [
    "<h1> Four Cycle Block, surface code using Qiskit </h1>"
   ]
  },
  {
   "cell_type": "code",
   "execution_count": 3,
   "metadata": {},
   "outputs": [
    {
     "ename": "ModuleNotFoundError",
     "evalue": "No module named 'qiskit'",
     "output_type": "error",
     "traceback": [
      "\u001b[1;31m---------------------------------------------------------------------------\u001b[0m",
      "\u001b[1;31mModuleNotFoundError\u001b[0m                       Traceback (most recent call last)",
      "Cell \u001b[1;32mIn[3], line 1\u001b[0m\n\u001b[1;32m----> 1\u001b[0m \u001b[38;5;28;01mfrom\u001b[39;00m \u001b[38;5;21;01mqiskit\u001b[39;00m \u001b[38;5;28;01mimport\u001b[39;00m QuantumCircuit\n\u001b[0;32m      2\u001b[0m \u001b[38;5;28;01mfrom\u001b[39;00m \u001b[38;5;21;01mqiskit\u001b[39;00m\u001b[38;5;21;01m.\u001b[39;00m\u001b[38;5;21;01mtranspiler\u001b[39;00m\u001b[38;5;21;01m.\u001b[39;00m\u001b[38;5;21;01mpreset_passmanagers\u001b[39;00m \u001b[38;5;28;01mimport\u001b[39;00m generate_preset_pass_manager\n\u001b[0;32m      4\u001b[0m \u001b[38;5;28;01mfrom\u001b[39;00m \u001b[38;5;21;01mqiskit\u001b[39;00m\u001b[38;5;21;01m.\u001b[39;00m\u001b[38;5;21;01mproviders\u001b[39;00m\u001b[38;5;21;01m.\u001b[39;00m\u001b[38;5;21;01mbasic_provider\u001b[39;00m \u001b[38;5;28;01mimport\u001b[39;00m BasicSimulator\n",
      "\u001b[1;31mModuleNotFoundError\u001b[0m: No module named 'qiskit'"
     ]
    }
   ],
   "source": [
    "from qiskit import QuantumCircuit\n",
    "from qiskit.transpiler.preset_passmanagers import generate_preset_pass_manager\n",
    " \n",
    "from qiskit.providers.basic_provider import BasicSimulator\n",
    "from qiskit.visualization import plot_histogram\n",
    "\n",
    "# Create a new circuit with two qubits\n",
    "qc = QuantumCircuit(4, 2)\n",
    "\n",
    "qc.h(0)\n",
    "qc.cx(0, 1)\n",
    "\n",
    "qc.z(0)\n",
    "# qc.x(0)\n",
    "\n",
    "qc.h(2)\n",
    "qc.h(3)\n",
    "\n",
    "\n",
    "qc.cx(2, 0)\n",
    "qc.cx(2, 1)\n",
    "\n",
    "qc.cz(3, 0)\n",
    "qc.cz(3, 1)\n",
    "\n",
    "qc.h(2)\n",
    "qc.h(3)\n",
    "\n",
    "qc.measure(2, 0)\n",
    "qc.measure(3, 1)\n",
    "\n",
    "\n",
    "# Return a drawing of the circuit using MatPlotLib (\"mpl\"). This is the\n",
    "# last line of the cell, so the drawing appears in the cell output.\n",
    "# Remove the \"mpl\" argument to get a text drawing.\n",
    "qc.draw(\"mpl\")\n",
    "\n",
    "# backend = BasicSimulator()\n",
    "# result = backend.run(qc, shots=100).result()   \n",
    "# counts = result.get_counts()                    \n",
    "# plot_histogram(counts)\n",
    "\n",
    "\n"
   ]
  },
  {
   "cell_type": "markdown",
   "metadata": {},
   "source": [
    "<h1> The [[5, 1, 2]] Detection code </h1>\n",
    "<img src=\"./pictures/5_1_2_surface_code_white_background.png\" alt=\"Bit flip correction circuit\" style=\"width:50%;\"/>"
   ]
  },
  {
   "cell_type": "code",
   "execution_count": 4,
   "metadata": {},
   "outputs": [
    {
     "name": "stdout",
     "output_type": "stream",
     "text": [
      "Surface code initliazed with lattice: 5\n",
      "Total qubits used for surface: 25\n",
      "Qubit: D1 type: Data\tx: 0 y: 1\n",
      "Qubit: A1 type: Ancillary\tx: 1 y: 1\n",
      "Qubit: D2 type: Data\tx: 2 y: 1\n",
      "Qubit: A2 type: Ancillary\tx: 3 y: 1\n",
      "Qubit: D3 type: Data\tx: 4 y: 1\n",
      "Qubit: A3 type: Ancillary\tx: 0 y: 2\n",
      "Qubit: D4 type: Data\tx: 1 y: 2\n",
      "Qubit: A4 type: Ancillary\tx: 2 y: 2\n",
      "Qubit: D5 type: Data\tx: 3 y: 2\n",
      "Qubit: A5 type: Ancillary\tx: 4 y: 2\n",
      "Qubit: D6 type: Data\tx: 0 y: 3\n",
      "Qubit: A6 type: Ancillary\tx: 1 y: 3\n",
      "Qubit: D7 type: Data\tx: 2 y: 3\n",
      "Qubit: A7 type: Ancillary\tx: 3 y: 3\n",
      "Qubit: D8 type: Data\tx: 4 y: 3\n",
      "Qubit: A8 type: Ancillary\tx: 0 y: 4\n",
      "Qubit: D9 type: Data\tx: 1 y: 4\n",
      "Qubit: A9 type: Ancillary\tx: 2 y: 4\n",
      "Qubit: D10 type: Data\tx: 3 y: 4\n",
      "Qubit: A10 type: Ancillary\tx: 4 y: 4\n",
      "Qubit: D11 type: Data\tx: 0 y: 5\n",
      "Qubit: A11 type: Ancillary\tx: 1 y: 5\n",
      "Qubit: D12 type: Data\tx: 2 y: 5\n",
      "Qubit: A12 type: Ancillary\tx: 3 y: 5\n",
      "Qubit: D13 type: Data\tx: 4 y: 5\n"
     ]
    }
   ],
   "source": [
    "surfaceCode = SurfaceCode(3)\n",
    "\n"
   ]
  },
  {
   "cell_type": "code",
   "execution_count": null,
   "metadata": {},
   "outputs": [
    {
     "name": "stdout",
     "output_type": "stream",
     "text": [
      "[[0.+0.j]\n",
      " [0.+0.j]\n",
      " [1.+0.j]\n",
      " [0.+0.j]\n",
      " [0.+0.j]\n",
      " [0.+0.j]\n",
      " [0.+0.j]\n",
      " [0.+0.j]]\n",
      "[0.+0.j 0.+0.j 1.+0.j 0.+0.j 0.+0.j 0.+0.j 0.+0.j 0.+0.j]\n",
      "[[0.+0.j 0.+0.j 0.+0.j 0.+0.j 0.+0.j 0.+0.j 0.+0.j 0.+0.j]\n",
      " [0.+0.j 0.+0.j 0.+0.j 0.+0.j 0.+0.j 0.+0.j 0.+0.j 0.+0.j]\n",
      " [0.+0.j 0.+0.j 1.+0.j 0.+0.j 0.+0.j 0.+0.j 0.+0.j 0.+0.j]\n",
      " [0.+0.j 0.+0.j 0.+0.j 0.+0.j 0.+0.j 0.+0.j 0.+0.j 0.+0.j]\n",
      " [0.+0.j 0.+0.j 0.+0.j 0.+0.j 0.+0.j 0.+0.j 0.+0.j 0.+0.j]\n",
      " [0.+0.j 0.+0.j 0.+0.j 0.+0.j 0.+0.j 0.+0.j 0.+0.j 0.+0.j]\n",
      " [0.+0.j 0.+0.j 0.+0.j 0.+0.j 0.+0.j 0.+0.j 0.+0.j 0.+0.j]\n",
      " [0.+0.j 0.+0.j 0.+0.j 0.+0.j 0.+0.j 0.+0.j 0.+0.j 0.+0.j]]\n",
      "[0. 0. 1. 0. 0. 0. 0. 0.]\n",
      "2\n"
     ]
    }
   ],
   "source": [
    "import quantumsim as sim\n",
    "import scipy.sparse as sps\n",
    "import numpy as np\n",
    "\n",
    "N = 3\n",
    "index = 2\n",
    "# Changed matrix froim DOK matrix to CSR matrix for optimization\n",
    "sparse_matrix  = sps.dok_matrix((2**N, 1), dtype=complex)\n",
    "sparse_matrix [index] = 1\n",
    "\n",
    "# Convert to dense Numpy array\n",
    "dense_array = sparse_matrix.toarray()\n",
    "print(dense_array)\n",
    "\n",
    "# Flatten the dense array to a state vector\n",
    "state_vector = dense_array.flatten()\n",
    "print(state_vector)\n",
    "\n",
    "# Calculate the outer product to get the density matrix of the state vector\n",
    "density_matrix = np.outer(state_vector, state_vector.conj().T)\n",
    "print(density_matrix)\n",
    "\n",
    "# Covert density matrix to probabilities matrix\n",
    "probabilities_matrix = np.diag(density_matrix).real\n",
    "print(probabilities_matrix)\n",
    "\n",
    "measured_index = np.random.choice(len(probabilities_matrix), p=probabilities_matrix)\n",
    "print(measured_index)"
   ]
  }
 ],
 "metadata": {
  "kernelspec": {
   "display_name": ".venv",
   "language": "python",
   "name": "python3"
  },
  "language_info": {
   "codemirror_mode": {
    "name": "ipython",
    "version": 3
   },
   "file_extension": ".py",
   "mimetype": "text/x-python",
   "name": "python",
   "nbconvert_exporter": "python",
   "pygments_lexer": "ipython3",
   "version": "3.10.10"
  }
 },
 "nbformat": 4,
 "nbformat_minor": 2
}
