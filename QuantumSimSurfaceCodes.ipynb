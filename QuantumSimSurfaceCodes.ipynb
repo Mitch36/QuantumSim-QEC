{
 "cells": [
  {
   "cell_type": "markdown",
   "metadata": {},
   "source": [
    "<h1> QuantumSim - Surface Codes </h1>\n",
    "Author: Michel Meulen<br>\n",
    "Date: 05-12-2024<br>\n",
    "<br>\n",
    "In this chapter an introduction is presented to quantum error correction (QEC) with an analysis of the nine qubit surface code. All content presented in this notebook is based of my literature study, which can be found: INSERT LINK. For running this notebook two libraries are required: quantumsim, which you are probably quite familiar with already, and SOMETHING, which contains circuits to create the nine qubit surface code.\n",
    "\n",
    "It is highly recommended to first read chapter: QuantumSim - Shors Nine Qubit Code. Special properties of certain quantum gates, required for undertanding the surface code, is explained there. Besides it also explains the two most common errors: Phase-flips (Z-errors) and bit-flips (X-errors).\n",
    "\n"
   ]
  },
  {
   "cell_type": "code",
   "execution_count": null,
   "metadata": {},
   "outputs": [],
   "source": [
    "import quantumsim as sim"
   ]
  },
  {
   "cell_type": "markdown",
   "metadata": {},
   "source": [
    "<h2> Stabilizers - The fundamental building blocks of surface codes </h2>\n",
    "\n",
    "<img src=\"./pictures/surface_code/surface_code_nine_qubits_layout.drawio.png.png\" alt=\"NOT quantum logic gate\" style=\"width:15%;\"/>\n"
   ]
  }
 ],
 "metadata": {
  "language_info": {
   "name": "python"
  }
 },
 "nbformat": 4,
 "nbformat_minor": 2
}
