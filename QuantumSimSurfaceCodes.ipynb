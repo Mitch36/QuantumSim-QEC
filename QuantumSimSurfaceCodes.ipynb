{
 "cells": [
  {
   "cell_type": "markdown",
   "metadata": {},
   "source": [
    "<h1> QuantumSim - Surface Codes </h1>\n",
    "Author: Michel Meulen<br>\n",
    "Date: 05-12-2024<br>\n",
    "<br>\n",
    "This chapter introduces quantum error correction (QEC) and delves into the distance three surface code. The content presented here is based on a literature review available at INSERT LINK. To execute this notebook, two libraries are essential: quantumsim, likely familiar to you, and SOMETHING, providing circuits for the nine-qubit surface code.\n",
    "\n",
    "A strong foundation in quantum computing, particularly the concepts explored in the chapter \"QuantumSim - Shor's Nine Qubit Code,\" is recommended. This chapter clarifies the properties of specific quantum gates crucial for understanding the surface code, as well as the two primary error types: phase-flip (Z-errors) and bit-flip (X-errors).\n",
    "\n"
   ]
  },
  {
   "cell_type": "code",
   "execution_count": 3,
   "metadata": {},
   "outputs": [],
   "source": [
    "from quantumsim import Circuit, QuantumUtil"
   ]
  },
  {
   "cell_type": "markdown",
   "metadata": {},
   "source": [
    "Surface Codes - Basics\n",
    "------------------------\n",
    "Quantum error correction leverages multiple physical qubits to construct more resilient logical qubits. Within the surface code architecture, qubits are classified into two categories: data qubits, which store the actual quantum information, and ancillary qubits, which facilitate error detection and correction. By measuring ancillary qubits, we can identify potential errors in data qubits and apply appropriate recovery operations to maintain data integrity. This notebook delves into the fundamentals of the surface code, starting with the fundamental building blocks and concluding in a simulation of the rotated surface 17 code, providing a comprehensive understanding of the concept of surface codes.\n",
    "\n",
    "Surface Codes - Architecture\n",
    "----------------------------\n",
    "Surface codes function through multiple stages. Initially, data qubits are encoded and entangled with each other. A portion of the algorithm is subsequently applied to all data qubits. It is probable that errors, such as bit-flip or phase-flip errors, will be introduced into the data qubits as a result of the application of these gates.\n",
    "\n",
    "To detect and correct these errors, a syndrome extraction process is employed. During this stage, information about the errors, known as the syndrome, is extracted from the data qubits and stored in ancillary qubits. These ancillary qubits are then measured, and their measurement results are projected onto a classical system.\n",
    "\n",
    "The classical system processes the measured syndrome values and feeds them into a decoder. The decoder analyzes the syndrome and determines the most likely error pattern that occurred. Based on this analysis, the decoder estimates the necessary recovery action, which involves applying corrective operations to the data qubits to reverse the effects of the errors.\n",
    "\n",
    "To enhance the noise resilience of the qubits, this cycle of encoding, error detection, and correction can be repeated multiple times within a single quantum computation. However, this increased resilience comes at the cost of longer computation times which is crucial due qubits decoherence times and the speed of the decoder. Below is a visual representation of the different components and steps used to create a surface code system. The double lines indicate classical information flow, in contrast to quantum information flow which is indicated with single lines.\n",
    "\n",
    "<img src=\"./pictures/qec_general/architecture_of_surface_code.drawio.png\" alt=\"Architecture of the surface code\" style=\"width:60%;\"/>\n"
   ]
  },
  {
   "cell_type": "markdown",
   "metadata": {},
   "source": [
    "Surface Codes - Encoding\n",
    "--------------------------------\n",
    "The encoder circuit for the rotated surface 17 code looks a bit more complicated than shown in the picture below. However for demonstration purposes an example Greenberger–Horne–Zeilinger (GHZ) state is used.\n",
    "\n",
    "<img src=\"./pictures/surface_code/surface_code_GHZ_circuit.png\" alt=\"Surface code encoding circuit\" style=\"width:60%;\"/>\n"
   ]
  },
  {
   "cell_type": "code",
   "execution_count": 4,
   "metadata": {},
   "outputs": [
    {
     "name": "stderr",
     "output_type": "stream",
     "text": [
      "findfont: Font family 'Courier' not found.\n",
      "findfont: Font family 'Courier' not found.\n",
      "findfont: Font family 'Courier' not found.\n",
      "findfont: Font family 'Courier' not found.\n",
      "findfont: Font family 'Courier' not found.\n",
      "findfont: Font family 'Courier' not found.\n",
      "findfont: Font family 'Courier' not found.\n",
      "findfont: Font family 'Courier' not found.\n",
      "findfont: Font family 'Courier' not found.\n",
      "findfont: Font family 'Courier' not found.\n",
      "findfont: Font family 'Courier' not found.\n",
      "findfont: Font family 'Courier' not found.\n",
      "findfont: Font family 'Courier' not found.\n",
      "findfont: Font family 'Courier' not found.\n",
      "findfont: Font family 'Courier' not found.\n",
      "findfont: Font family 'Courier' not found.\n",
      "findfont: Font family 'Courier' not found.\n",
      "findfont: Font family 'Courier' not found.\n",
      "findfont: Font family 'Courier' not found.\n",
      "findfont: Font family 'Courier' not found.\n",
      "findfont: Font family 'Courier' not found.\n",
      "findfont: Font family 'Courier' not found.\n",
      "findfont: Font family 'Courier' not found.\n",
      "findfont: Font family 'Courier' not found.\n",
      "findfont: Font family 'Courier' not found.\n",
      "findfont: Font family 'Courier' not found.\n",
      "findfont: Font family 'Courier' not found.\n",
      "findfont: Font family 'Courier' not found.\n",
      "findfont: Font family 'Courier' not found.\n",
      "findfont: Font family 'Courier' not found.\n",
      "findfont: Font family 'Courier' not found.\n",
      "findfont: Font family 'Courier' not found.\n",
      "findfont: Font family 'Courier' not found.\n",
      "findfont: Font family 'Courier' not found.\n",
      "findfont: Font family 'Courier' not found.\n",
      "findfont: Font family 'Courier' not found.\n",
      "findfont: Font family 'Courier' not found.\n"
     ]
    },
    {
     "data": {
      "image/png": "[encoded data removed]",
      "text/plain": [
       "<Figure size 640x480 with 1 Axes>"
      ]
     },
     "metadata": {},
     "output_type": "display_data"
    }
   ],
   "source": [
    "def create_GHZ_circuit(q: int, c: int) -> Circuit:\n",
    "    circuit = Circuit(q, c, True)\n",
    "    d1, d2, d3, d4 = 0, 1, 2, 3\n",
    "\n",
    "    circuit.hadamard(d1)\n",
    "    circuit.cnot(d1, d2)\n",
    "    circuit.cnot(d2, d3)\n",
    "    circuit.cnot(d3, d4)\n",
    "    return circuit\n",
    "\n",
    "def measure_data_qubits(circuit: Circuit):\n",
    "    d1, d2, d3, d4 = 0, 1, 2, 3\n",
    "    circuit.measurement(d1, d1)\n",
    "    circuit.measurement(d2, d2)\n",
    "    circuit.measurement(d3, d3)\n",
    "    circuit.measurement(d4, d4)\n",
    "    return circuit \n",
    "\n",
    "circuit = create_GHZ_circuit(4, 4)\n",
    "circuit = measure_data_qubits(circuit)\n",
    "\n",
    "result = QuantumUtil.measure_circuit_bit_register(circuit, 100)\n",
    "QuantumUtil.histogram_of_classical_states(result)\n"
   ]
  },
  {
   "cell_type": "markdown",
   "metadata": {},
   "source": [
    "Surface Codes - X Stabilizer\n",
    "----------------------------\n",
    "X-stabilizers are used in the surface code for detecting phase-flip errors. There are multiple ways of achieving syndrome measurement for detecting phase-flips. The main difference being the use of the CX (CNOT) or CZ gate as shown below.  \n",
    "\n",
    "<img src=\"./pictures/surface_code/surface_code_x_stabilizer.png\" alt=\"X stabilizer\" style=\"width:60%;\"/>"
   ]
  },
  {
   "cell_type": "code",
   "execution_count": null,
   "metadata": {},
   "outputs": [
    {
     "name": "stderr",
     "output_type": "stream",
     "text": [
      "findfont: Font family 'Courier' not found.\n",
      "findfont: Font family 'Courier' not found.\n",
      "findfont: Font family 'Courier' not found.\n",
      "findfont: Font family 'Courier' not found.\n",
      "findfont: Font family 'Courier' not found.\n",
      "findfont: Font family 'Courier' not found.\n",
      "findfont: Font family 'Courier' not found.\n",
      "findfont: Font family 'Courier' not found.\n",
      "findfont: Font family 'Courier' not found.\n",
      "findfont: Font family 'Courier' not found.\n",
      "findfont: Font family 'Courier' not found.\n",
      "findfont: Font family 'Courier' not found.\n",
      "findfont: Font family 'Courier' not found.\n",
      "findfont: Font family 'Courier' not found.\n",
      "findfont: Font family 'Courier' not found.\n",
      "findfont: Font family 'Courier' not found.\n",
      "findfont: Font family 'Courier' not found.\n",
      "findfont: Font family 'Courier' not found.\n",
      "findfont: Font family 'Courier' not found.\n",
      "findfont: Font family 'Courier' not found.\n",
      "findfont: Font family 'Courier' not found.\n",
      "findfont: Font family 'Courier' not found.\n",
      "findfont: Font family 'Courier' not found.\n",
      "findfont: Font family 'Courier' not found.\n",
      "findfont: Font family 'Courier' not found.\n",
      "findfont: Font family 'Courier' not found.\n",
      "findfont: Font family 'Courier' not found.\n",
      "findfont: Font family 'Courier' not found.\n",
      "findfont: Font family 'Courier' not found.\n",
      "findfont: Font family 'Courier' not found.\n",
      "findfont: Font family 'Courier' not found.\n",
      "findfont: Font family 'Courier' not found.\n"
     ]
    },
    {
     "data": {
      "image/png": "[encoded data removed]",
      "text/plain": [
       "<Figure size 640x480 with 1 Axes>"
      ]
     },
     "metadata": {},
     "output_type": "display_data"
    }
   ],
   "source": [
    "d1, d2, d3, d4, x1 = 0, 1, 2, 3, 4\n",
    "circuit = create_GHZ_circuit(5, 1)\n",
    "\n",
    "# Introduce Error\n",
    "circuit.phaseflip_error(d1)\n",
    "\n",
    "# Syndrome extraction\n",
    "circuit.hadamard(x1)\n",
    "circuit.cnot(x1, d3)\n",
    "circuit.cnot(x1, d1)\n",
    "circuit.cnot(x1, d4)\n",
    "circuit.cnot(x1, d2)\n",
    "circuit.hadamard(x1)\n",
    "\n",
    "# Measurement of ancillary qubit x1, if measured as 1, there is a phase-flip, if measured as 0, there is no phase flip\n",
    "circuit.measurement(x1, 0)\n",
    "\n",
    "result = QuantumUtil.measure_circuit_bit_register(circuit, 100)\n",
    "QuantumUtil.histogram_of_classical_states(result)"
   ]
  },
  {
   "cell_type": "markdown",
   "metadata": {},
   "source": [
    "Surface Codes - Z Stabilizer\n",
    "----------------------------\n",
    "Z-stabilizers are used in the surface code for detecting bit-flip errors. There are multiple ways of achieving syndrome measurement for detecting bit-flips. The main difference being the use of the CX (CNOT) or CZ gate as shown below.  \n",
    "\n",
    "<img src=\"./pictures/surface_code/surface_code_z_stabilizer.png\" alt=\"Z stabilizer\" style=\"width:60%;\"/>"
   ]
  },
  {
   "cell_type": "code",
   "execution_count": null,
   "metadata": {},
   "outputs": [],
   "source": [
    "d1, d2, d3, d4, z1 = 0, 1, 2, 3, 4\n",
    "circuit = create_GHZ_circuit(5, 1)\n",
    "\n",
    "# Introduce Error\n",
    "circuit.bitflip_error(d1)\n",
    "\n",
    "# Syndrome extraction\n",
    "circuit.cnot(d3, z1)\n",
    "circuit.cnot(d4, z1)\n",
    "circuit.cnot(d1, z1)\n",
    "circuit.cnot(d2, z1)\n",
    "\n",
    "# Measurement of ancillary qubit x1, if measured as 1, there is a bit-flip, if measured as 0, there is no bit flip\n",
    "circuit.measurement(x1, 0)\n",
    "\n",
    "result = QuantumUtil.measure_circuit_bit_register(circuit, 100)\n",
    "QuantumUtil.histogram_of_classical_states(result)"
   ]
  },
  {
   "cell_type": "markdown",
   "metadata": {},
   "source": [
    "Surface Codes - The Rotated Surface 17 Code - Encoder\n",
    "-----------------------------------------------\n",
    "Logical zero-state encoding of the nine-data-qubit surface code can be achieved using the following circuit. Notice that each operation is marked with a number representing the order of operations. Starting with the initialization of four qubits in the Hadamard basis. The second step, creating bell states and GHZ states using multiple CNOT's. At last, applying two more CNOT's to form the logical zero state.\n",
    "\n",
    "<img src=\"./pictures/surface_code/rotated_surface_17_code_encoder.png\" alt=\"Z stabilizer\" style=\"width:30%;\"/>\n",
    "\n",
    "Surface Codes - The Rotated Surface 17 Code - Syndrome Extraction\n",
    "-----------------------------------------------\n",
    "<img src=\"./pictures/surface_code/rotated_surface_17_code.png\" alt=\"Rotated surface 17 code\" style=\"width:30%;\"/>\n"
   ]
  }
 ],
 "metadata": {
  "kernelspec": {
   "display_name": ".venv",
   "language": "python",
   "name": "python3"
  },
  "language_info": {
   "codemirror_mode": {
    "name": "ipython",
    "version": 3
   },
   "file_extension": ".py",
   "mimetype": "text/x-python",
   "name": "python",
   "nbconvert_exporter": "python",
   "pygments_lexer": "ipython3",
   "version": "3.10.10"
  }
 },
 "nbformat": 4,
 "nbformat_minor": 2
}
