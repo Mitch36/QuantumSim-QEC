{
 "cells": [
  {
   "cell_type": "code",
   "execution_count": 1,
   "metadata": {},
   "outputs": [],
   "source": [
    "from quantumsim import *"
   ]
  },
  {
   "cell_type": "code",
   "execution_count": 431,
   "metadata": {},
   "outputs": [
    {
     "name": "stdout",
     "output_type": "stream",
     "text": [
      "X...\tPauli X on qubit 0\n",
      "..H.\tHadamard on qubit 2\n",
      "...H\tHadamard on qubit 3\n",
      "Z.*.\tControlled Pauli Z with control qubit 2 and target qubit 0\n",
      "..H.\tHadamard on qubit 2\n",
      "...H\tHadamard on qubit 3\n",
      "Measured state:\n",
      "|1010>\n"
     ]
    },
    {
     "data": {
      "text/plain": [
       "'|1010>'"
      ]
     },
     "execution_count": 431,
     "metadata": {},
     "output_type": "execute_result"
    }
   ],
   "source": [
    "circuit = Circuit(4)\n",
    "# Data qubit is 0, 1\n",
    "# Ancillary qubit is 2, 3\n",
    "\n",
    "# Create additional state\n",
    "\n",
    "circuit.pauli_x(0)\n",
    "# circuit.pauli_z(1)\n",
    "\n",
    "circuit.hadamard(2)\n",
    "circuit.hadamard(3)\n",
    "\n",
    "circuit.controlled_pauli_z(2, 0)\n",
    "# circuit.cnot(3, 1)\n",
    "\n",
    "circuit.hadamard(2)\n",
    "circuit.hadamard(3)\n",
    "\n",
    "circuit.execute(print_state=False)\n",
    "circuit.print_gates_and_descriptions()\n",
    "circuit.measure(print_state=True)\n"
   ]
  }
 ],
 "metadata": {
  "kernelspec": {
   "display_name": ".venv",
   "language": "python",
   "name": "python3"
  },
  "language_info": {
   "codemirror_mode": {
    "name": "ipython",
    "version": 3
   },
   "file_extension": ".py",
   "mimetype": "text/x-python",
   "name": "python",
   "nbconvert_exporter": "python",
   "pygments_lexer": "ipython3",
   "version": "3.10.10"
  }
 },
 "nbformat": 4,
 "nbformat_minor": 2
}
