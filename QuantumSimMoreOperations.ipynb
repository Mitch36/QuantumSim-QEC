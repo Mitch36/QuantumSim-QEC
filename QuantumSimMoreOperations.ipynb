{
 "cells": [
  {
   "cell_type": "markdown",
   "metadata": {},
   "source": [
    "# QuantumSim - More operations\n",
    "Author: Nico Kuijpers<br>\n",
    "Date: May 11, 2024"
   ]
  },
  {
   "cell_type": "markdown",
   "metadata": {},
   "source": [
    "In this Jupyter notebook QuantumSim is extended with more operations. Also, some some examples are shown."
   ]
  },
  {
   "cell_type": "code",
   "execution_count": 2,
   "metadata": {},
   "outputs": [],
   "source": [
    "from quantumsim import *"
   ]
  },
  {
   "cell_type": "markdown",
   "metadata": {},
   "source": [
    "## Circuit unitary operations (extended)\n",
    "The class *CircuitUnitaryOperation* to compute the $2^N \\times 2^N$ unitary matrices\n",
    "for Pauli, Hadamard, Phase, and CNOT operations on any combinations of qubits of a circuit of $N$ qubits was introduced QuantumSimIntroduction:\n",
    "\n",
    "https://github.com/nicokuijpers/QuantumSim/blob/main/QuantumSimIntroduction.ipynb\n",
    "\n",
    "Below, this class is extended with controlled qubit operations, a SWAP operation, a controlled-U operation, a controlled-SWAP \n",
    "(or Fredkin) operation, and a controlled-controlled-NOT (or Toffoli) operation. These operations are also included in QuantumSim:\n",
    "\n",
    "https://github.com/nicokuijpers/QuantumSim/blob/main/quantumsim.py"
   ]
  },
  {
   "cell_type": "markdown",
   "metadata": {},
   "source": [
    "### Controlled qubit operation\n",
    "The CNOT operation is in fact a controlled-Pauli_X operation. In a similar fashion, \n",
    "controlled versions the other qubit operations can be created.\n",
    "\n",
    "Below, the class *CircuitUnitaryOperation* is extended with method *get_combined_operation_for_controlled_qubit_operation()* \n",
    "to determine the controlled version of any qubit operation. Using this method the following methods are implemented:\n",
    "* *get_combined_operation_for_cnot()*\n",
    "* *get_combined_operation_for_controlled_pauli_y()*\n",
    "* *get_combined_operation_for_controlled_pauli_z()*\n",
    "* *get_combined_operation_for_controlled_hadamard()*\n",
    "* *get_combined_operation_for_controlled_phase()*"
   ]
  },
  {
   "cell_type": "code",
   "execution_count": 3,
   "metadata": {},
   "outputs": [],
   "source": [
    "\"\"\"\n",
    "Functions to obtain N x N unitary matrices for unitary operations on quantum circuits of N qubits.\n",
    "\"\"\"\n",
    "class CircuitUnitaryOperation:\n",
    "    @staticmethod\n",
    "    def get_combined_operation_for_controlled_qubit_operation(operation, control, target, N):\n",
    "        identity = QubitUnitaryOperation.get_identity()\n",
    "        ket_bra_00 = Dirac.ket_bra(2,0,0)\n",
    "        ket_bra_11 = Dirac.ket_bra(2,1,1)\n",
    "        combined_operation_zero = np.eye(1,1)\n",
    "        combined_operation_one = np.eye(1,1)\n",
    "        for i in range (0, N):\n",
    "            if control == i:\n",
    "                combined_operation_zero = np.kron(combined_operation_zero, ket_bra_00)\n",
    "                combined_operation_one  = np.kron(combined_operation_one, ket_bra_11)\n",
    "            elif target == i:\n",
    "                combined_operation_zero = np.kron(combined_operation_zero, identity)\n",
    "                combined_operation_one  = np.kron(combined_operation_one, operation)\n",
    "            else:\n",
    "                combined_operation_zero = np.kron(combined_operation_zero, identity)\n",
    "                combined_operation_one  = np.kron(combined_operation_one, identity)\n",
    "            \n",
    "        return combined_operation_zero + combined_operation_one\n",
    "    \n",
    "    @staticmethod\n",
    "    def get_combined_operation_for_cnot(control, target, N):\n",
    "        pauli_x = QubitUnitaryOperation.get_pauli_x()     \n",
    "        return CircuitUnitaryOperation.get_combined_operation_for_controlled_qubit_operation(pauli_x, control, target, N)\n",
    "    \n",
    "    @staticmethod\n",
    "    def get_combined_operation_for_controlled_pauli_y(control, target, N):\n",
    "        pauli_y = QubitUnitaryOperation.get_pauli_y()\n",
    "        return CircuitUnitaryOperation.get_combined_operation_for_controlled_qubit_operation(pauli_y, control, target, N)\n",
    "    \n",
    "    @staticmethod\n",
    "    def get_combined_operation_for_controlled_pauli_z(control, target, N):\n",
    "        pauli_z = QubitUnitaryOperation.get_pauli_z()\n",
    "        return CircuitUnitaryOperation.get_combined_operation_for_controlled_qubit_operation(pauli_z, control, target, N)\n",
    "    \n",
    "    @staticmethod\n",
    "    def get_combined_operation_for_controlled_hadamard(control, target, N):\n",
    "        hadamard = QubitUnitaryOperation.get_hadamard()\n",
    "        return CircuitUnitaryOperation.get_combined_operation_for_controlled_qubit_operation(hadamard, control, target, N)\n",
    "    \n",
    "    @staticmethod\n",
    "    def get_combined_operation_for_controlled_phase(theta, control, target, N):\n",
    "        phase_theta = QubitUnitaryOperation.get_phase(theta)\n",
    "        return CircuitUnitaryOperation.get_combined_operation_for_controlled_qubit_operation(phase_theta, control, target, N)\n",
    "    \n",
    "    @staticmethod\n",
    "    def get_combined_operation_for_swap(a, b, N):\n",
    "        combined_operation_cnot_a_b = CircuitUnitaryOperation.get_combined_operation_for_cnot(a, b, N)\n",
    "        combined_operation_cnot_b_a = CircuitUnitaryOperation.get_combined_operation_for_cnot(b, a, N)\n",
    "        return np.dot(np.dot(combined_operation_cnot_a_b,combined_operation_cnot_b_a),combined_operation_cnot_a_b)"
   ]
  },
  {
   "cell_type": "markdown",
   "metadata": {},
   "source": [
    "### SWAP operation\n",
    "The SWAP operation exchanges the states of two qubits. For a circuit of two qubits, the SWAP operation is defined by\n",
    "the following unitary matrix:\n",
    "\n",
    "$\\text{SWAP} = \\begin{pmatrix} 1 & 0 & 0 & 0 \\\\ 0 & 0 & 1 & 0 \\\\ 0 & 1 & 0 & 0 \\\\ 0 & 0 & 0 & 1 \\\\ \\end{pmatrix}$\n",
    "\n",
    "When the SWAP operation is applied on a $2$-qubit circuit, the classical states are transformed as follows:\n",
    "\n",
    "$\\text{SWAP} \\cdot |00\\rangle = |00\\rangle$<br>\n",
    "$\\text{SWAP} \\cdot |01\\rangle = |10\\rangle$<br>\n",
    "$\\text{SWAP} \\cdot |10\\rangle = |01\\rangle$<br>\n",
    "$\\text{SWAP} \\cdot |11\\rangle = |11\\rangle$\n",
    "\n",
    "The four Bell states are transformed as follows:\n",
    "\n",
    "$\\text{SWAP} \\cdot |\\Phi^+\\rangle = \\text{SWAP} \\cdot \\left( \\frac{1}{\\sqrt{2}}(|00\\rangle + |11\\rangle) \\right) = \n",
    "\\frac{1}{\\sqrt{2}}(|00\\rangle + |11\\rangle) =  |\\Phi^+\\rangle$<br>\n",
    "$\\text{SWAP} \\cdot |\\Phi^-\\rangle = \\text{SWAP} \\cdot \\left( \\frac{1}{\\sqrt{2}}(|00\\rangle - |11\\rangle) \\right) = \n",
    "\\frac{1}{\\sqrt{2}}(|00\\rangle - |11\\rangle) =  |\\Phi^-\\rangle$<br>\n",
    "$\\text{SWAP} \\cdot |\\Psi^+\\rangle = \\text{SWAP} \\cdot \\left( \\frac{1}{\\sqrt{2}}(|01\\rangle + |10\\rangle) \\right) = \n",
    "\\frac{1}{\\sqrt{2}}(|10\\rangle + |01\\rangle) =  |\\Psi^+\\rangle$<br>\n",
    "$\\text{SWAP} \\cdot |\\Psi^-\\rangle = \\text{SWAP} \\cdot \\left( \\frac{1}{\\sqrt{2}}(|01\\rangle - |10\\rangle) \\right) = \n",
    "\\frac{1}{\\sqrt{2}}(|10\\rangle - |01\\rangle) = -|\\Psi^-\\rangle$\n",
    "\n",
    "A SWAP operation has the same effect as three times applying the CNOT operation.\n",
    "\n",
    "In QuantumSim, the $\\text{SWAP}(a,b)$ operation is implemented by applying the $\\text{CNOT}$ operation three times as follows:\n",
    "1. $\\text{CNOT}(a,b)$\n",
    "2. $\\text{CNOT}(b,a)$\n",
    "3. $\\text{CNOT}(a,b)$\n",
    "\n",
    "If the unitary matrix for $\\text{CNOT}(a,b)$ is denoted by $U_{\\text{CNOT}(a,b)}$ and the the unitary matrix for \n",
    "$\\text{CNOT}(b,a)$ by $U_{\\text{CNOT}(b,a)}$, then unitary matrix $U_{\\text{SWAP}(a,b)}$ for unitary operation\n",
    "$\\text{SWAP}(a,b)$ is defined by\n",
    "\n",
    "$U_{\\text{SWAP}(a,b)} = U_{\\text{CNOT}(a,b)} \\cdot U_{\\text{CNOT}(b,a)} \\cdot U_{\\text{CNOT}(a,b)}$.\n",
    "\n",
    "Below, the class *CircuitUnitaryOperation* is extended with method *get_combined_operation_for_swap()* to determine\n",
    "$U_{\\text{SWAP}(a,b)}$ for a circuit of $N$ qubits and $0 \\leq a, b < N$."
   ]
  },
  {
   "cell_type": "code",
   "execution_count": 4,
   "metadata": {},
   "outputs": [],
   "source": [
    "\"\"\"\n",
    "Functions to obtain N x N unitary matrices for unitary operations on quantum circuits of N qubits.\n",
    "\"\"\"\n",
    "class CircuitUnitaryOperation:\n",
    "    \n",
    "    @staticmethod\n",
    "    def get_combined_operation_for_swap(a, b, N):\n",
    "        combined_operation_cnot_a_b = CircuitUnitaryOperation.get_combined_operation_for_cnot(a, b, N)\n",
    "        combined_operation_cnot_b_a = CircuitUnitaryOperation.get_combined_operation_for_cnot(b, a, N)\n",
    "        return np.dot(np.dot(combined_operation_cnot_a_b,combined_operation_cnot_b_a),combined_operation_cnot_a_b)"
   ]
  },
  {
   "cell_type": "markdown",
   "metadata": {},
   "source": [
    "### Example\n",
    "In this example a circuit of two qubits is created.\n",
    "The Hadamard gate is applied to qubit $0$ and then the SWAP operation is applied to swap the states of qubit $0$ and $1$\n",
    "During execution, all combined operations and intermidiate quantum states are printed. \n",
    "The circuit collapses to a classical state when measured. This classical state is also printed.\n",
    "\n",
    "Try to run this code several times and observe that sometimes the classiscal state is $|00\\rangle$, and sometimes it is $|01\\rangle$. "
   ]
  },
  {
   "cell_type": "code",
   "execution_count": 5,
   "metadata": {},
   "outputs": [
    {
     "name": "stdout",
     "output_type": "stream",
     "text": [
      "Initial quantum state\n",
      "|00> : (1+0j)\n",
      "|01> : 0j\n",
      "|10> : 0j\n",
      "|11> : 0j\n",
      "Hadamard on qubit 0\n",
      "[[ 0.70710678+0.j  0.        +0.j  0.70710678+0.j  0.        +0.j]\n",
      " [ 0.        +0.j  0.70710678+0.j  0.        +0.j  0.70710678+0.j]\n",
      " [ 0.70710678+0.j  0.        +0.j -0.70710678-0.j  0.        -0.j]\n",
      " [ 0.        +0.j  0.70710678+0.j  0.        -0.j -0.70710678-0.j]]\n",
      "Current quantum state\n",
      "|00> : (0.7071067811865475+0j)\n",
      "|01> : 0j\n",
      "|10> : (0.7071067811865475+0j)\n",
      "|11> : 0j\n",
      "SWAP on qubit 0 and qubit 1\n",
      "[[1.+0.j 0.+0.j 0.+0.j 0.+0.j]\n",
      " [0.+0.j 0.+0.j 1.+0.j 0.+0.j]\n",
      " [0.+0.j 1.+0.j 0.+0.j 0.+0.j]\n",
      " [0.+0.j 0.+0.j 0.+0.j 1.+0.j]]\n",
      "Current quantum state\n",
      "|00> : (0.7071067811865475+0j)\n",
      "|01> : (0.7071067811865475+0j)\n",
      "|10> : 0j\n",
      "|11> : 0j\n",
      "Measured state:\n",
      "|00>\n"
     ]
    }
   ],
   "source": [
    "circuit = Circuit(2)\n",
    "circuit.hadamard(0)\n",
    "circuit.swap(0,1)\n",
    "circuit.execute(print_state=True)\n",
    "circuit.measure(print_state=True)"
   ]
  },
  {
   "cell_type": "markdown",
   "metadata": {},
   "source": [
    "### Example\n",
    "In this example a circuit of $4$ qubits is created. \n",
    "The Hadamard operation is applied on the second qubit and the states of the second and the fourth qubit are swapped.\n",
    "As before, the classical states are stored in a string array and a histogram is plotted."
   ]
  },
  {
   "cell_type": "code",
   "execution_count": 6,
   "metadata": {},
   "outputs": [
    {
     "name": "stderr",
     "output_type": "stream",
     "text": [
      "findfont: Font family 'Courier' not found.\n",
      "findfont: Font family 'Courier' not found.\n",
      "findfont: Font family 'Courier' not found.\n",
      "findfont: Font family 'Courier' not found.\n",
      "findfont: Font family 'Courier' not found.\n",
      "findfont: Font family 'Courier' not found.\n",
      "findfont: Font family 'Courier' not found.\n",
      "findfont: Font family 'Courier' not found.\n",
      "findfont: Font family 'Courier' not found.\n",
      "findfont: Font family 'Courier' not found.\n",
      "findfont: Font family 'Courier' not found.\n",
      "findfont: Font family 'Courier' not found.\n",
      "findfont: Font family 'Courier' not found.\n",
      "findfont: Font family 'Courier' not found.\n",
      "findfont: Font family 'Courier' not found.\n",
      "findfont: Font family 'Courier' not found.\n",
      "findfont: Font family 'Courier' not found.\n",
      "findfont: Font family 'Courier' not found.\n",
      "findfont: Font family 'Courier' not found.\n",
      "findfont: Font family 'Courier' not found.\n",
      "findfont: Font family 'Courier' not found.\n",
      "findfont: Font family 'Courier' not found.\n",
      "findfont: Font family 'Courier' not found.\n",
      "findfont: Font family 'Courier' not found.\n",
      "findfont: Font family 'Courier' not found.\n",
      "findfont: Font family 'Courier' not found.\n",
      "findfont: Font family 'Courier' not found.\n",
      "findfont: Font family 'Courier' not found.\n",
      "findfont: Font family 'Courier' not found.\n",
      "findfont: Font family 'Courier' not found.\n",
      "findfont: Font family 'Courier' not found.\n",
      "findfont: Font family 'Courier' not found.\n",
      "findfont: Font family 'Courier' not found.\n",
      "findfont: Font family 'Courier' not found.\n",
      "findfont: Font family 'Courier' not found.\n",
      "findfont: Font family 'Courier' not found.\n",
      "findfont: Font family 'Courier' not found.\n"
     ]
    },
    {
     "data": {
      "image/png": "[encoded data removed]",
      "text/plain": [
       "<Figure size 640x480 with 1 Axes>"
      ]
     },
     "metadata": {},
     "output_type": "display_data"
    }
   ],
   "source": [
    "circuit = Circuit(4)\n",
    "circuit.hadamard(1)\n",
    "circuit.swap(1,3)\n",
    "result = QuantumUtil.run_circuit(circuit)\n",
    "QuantumUtil.histogram_of_classical_states(result)"
   ]
  },
  {
   "cell_type": "markdown",
   "metadata": {},
   "source": [
    "\n",
    "### Controlled unitary operation\n",
    "A controlled unitary operation is a unitary operation that is applied depending on the state of a control qubit. \n",
    "Assume qubit $0$ is the control qubit and unitary matrix $U$ of size $N-1 \\times N-1$ represents a unatiry operation on\n",
    "qubits $1$ through $N-1$.\n",
    "Then unitary matrix $U_{\\text{control}}$ of size $N \\times N$ for the corresponding controlled unitary operation \n",
    "is defined by:\n",
    "\n",
    "$U_{\\text{control}} = |0\\rangle \\langle 0| \\otimes \\mathbf{I_{N-1 \\times N-1}} + |1\\rangle \\langle 1| \\otimes U$,\n",
    "\n",
    "where $\\mathbf{I}_{N-1 \\times N-1}$ is the identity matrix of the same size as matrix $U$.\n",
    "\n",
    "Below, the class *CircuitUnitaryOperation* is extended with method *get_combined_operation_for_controlled_unitary_operation()* \n",
    "to determine $U_{\\text{control}}$ for a circuit of $N$ qubits where qubit $0$ is the control qubit and $U$ a\n",
    "unitary matrix of size $N-1 \\times N-1$."
   ]
  },
  {
   "cell_type": "code",
   "execution_count": 7,
   "metadata": {},
   "outputs": [],
   "source": [
    "\"\"\"\n",
    "Functions to obtain N x N unitary matrices for unitary operations on quantum circuits of N qubits.\n",
    "\"\"\"\n",
    "class CircuitUnitaryOperation:\n",
    "    \n",
    "    @staticmethod\n",
    "    def get_combined_operation_for_controlled_unitary_operation(operation):\n",
    "        # Qubit 0 is the control\n",
    "        identity = np.eye(*operation.shape)\n",
    "        ket_bra_00 = Dirac.ket_bra(2,0,0)\n",
    "        ket_bra_11 = Dirac.ket_bra(2,1,1)\n",
    "        combined_operation_zero = np.kron(ket_bra_00,identity)\n",
    "        combined_operation_one = np.kron(ket_bra_11,operation)\n",
    "        return combined_operation_zero + combined_operation_one"
   ]
  },
  {
   "cell_type": "markdown",
   "metadata": {},
   "source": [
    "### Fredkin operation\n",
    "The Fredkin operation is a controlled-SWAP operation. \n",
    "Assume qubit $0$ is the control qubit and let unitary matrix $U_{\\text{SWAP}(a-1,b-1)}$ of size $N-1 \\times N-1$ \n",
    "be the unitary matrix corresponding to the SWAP operation on qubits $a$ and $b$, with $0 < a,b < N-1$.\n",
    "The unitary matrix $U_{\\text{fredkin}}$ of size $N \\times N$ for the corresponding controlled-SWAP operation \n",
    "is then defined by:\n",
    "\n",
    "$U_{\\text{fredkin}} = |0\\rangle \\langle 0| \\otimes \\mathbf{I_{N-1 \\times N-1}} + |1\\rangle \\langle 1| \\otimes \\text{SWAP}(a-1,b-1)$,\n",
    "\n",
    "where, $\\mathbf{I}_{N-1 \\times N-1}$ is the identity matrix of the same size as matrix $\\text{SWAP}(a-1,b-1)$.\n",
    "\n",
    "We implement the Fredkin operation by first swapping the control qubit with qubit $0$, then applying $U_{\\text{fredkin}}$\n",
    "as defined above, and finally swapping qubit $0$ with the control qubit.\n",
    "\n",
    "Below, the class *CircuitUnitaryOperation* is extended with method *get_combined_operation_for_fredkin()*. "
   ]
  },
  {
   "cell_type": "code",
   "execution_count": 8,
   "metadata": {},
   "outputs": [],
   "source": [
    "\"\"\"\n",
    "Functions to obtain N x N unitary matrices for unitary operations on quantum circuits of N qubits.\n",
    "\"\"\"\n",
    "class CircuitUnitaryOperation:\n",
    "\n",
    "    @staticmethod\n",
    "    def get_combined_operation_for_fredkin(control, a, b, N):\n",
    "        combined_operation_swap_control_0 = CircuitUnitaryOperation.get_combined_operation_for_swap(control, 0, N)\n",
    "        combined_operation_swap_a_b = CircuitUnitaryOperation.get_combined_operation_for_swap(a-1, b-1, N-1)\n",
    "        combined_operation_fredkin = CircuitUnitaryOperation.get_combined_operation_for_controlled_unitary_operation(combined_operation_swap_a_b)\n",
    "        return np.dot(np.dot(combined_operation_swap_control_0, combined_operation_fredkin), combined_operation_swap_control_0)\n",
    "    "
   ]
  },
  {
   "cell_type": "markdown",
   "metadata": {},
   "source": [
    "### Example\n",
    "In this example a circuit of $5$ qubits is created. The Hadamard operation is applied on qubit $1$ and the Pauli X operation on qubit $3$.\n",
    "Next, the Fredkin operation is applied, which is a controlled-SWAP operation. Qubits $3$ and $4$ will be swapped depending on the value of qubit $1$."
   ]
  },
  {
   "cell_type": "code",
   "execution_count": 9,
   "metadata": {},
   "outputs": [
    {
     "name": "stderr",
     "output_type": "stream",
     "text": [
      "findfont: Font family 'Courier' not found.\n",
      "findfont: Font family 'Courier' not found.\n",
      "findfont: Font family 'Courier' not found.\n",
      "findfont: Font family 'Courier' not found.\n",
      "findfont: Font family 'Courier' not found.\n",
      "findfont: Font family 'Courier' not found.\n",
      "findfont: Font family 'Courier' not found.\n",
      "findfont: Font family 'Courier' not found.\n",
      "findfont: Font family 'Courier' not found.\n",
      "findfont: Font family 'Courier' not found.\n",
      "findfont: Font family 'Courier' not found.\n",
      "findfont: Font family 'Courier' not found.\n",
      "findfont: Font family 'Courier' not found.\n",
      "findfont: Font family 'Courier' not found.\n",
      "findfont: Font family 'Courier' not found.\n",
      "findfont: Font family 'Courier' not found.\n",
      "findfont: Font family 'Courier' not found.\n",
      "findfont: Font family 'Courier' not found.\n",
      "findfont: Font family 'Courier' not found.\n",
      "findfont: Font family 'Courier' not found.\n",
      "findfont: Font family 'Courier' not found.\n",
      "findfont: Font family 'Courier' not found.\n",
      "findfont: Font family 'Courier' not found.\n",
      "findfont: Font family 'Courier' not found.\n",
      "findfont: Font family 'Courier' not found.\n",
      "findfont: Font family 'Courier' not found.\n",
      "findfont: Font family 'Courier' not found.\n",
      "findfont: Font family 'Courier' not found.\n",
      "findfont: Font family 'Courier' not found.\n",
      "findfont: Font family 'Courier' not found.\n",
      "findfont: Font family 'Courier' not found.\n",
      "findfont: Font family 'Courier' not found.\n",
      "findfont: Font family 'Courier' not found.\n",
      "findfont: Font family 'Courier' not found.\n",
      "findfont: Font family 'Courier' not found.\n",
      "findfont: Font family 'Courier' not found.\n",
      "findfont: Font family 'Courier' not found.\n"
     ]
    },
    {
     "data": {
      "image/png": "[encoded data removed]",
      "text/plain": [
       "<Figure size 640x480 with 1 Axes>"
      ]
     },
     "metadata": {},
     "output_type": "display_data"
    }
   ],
   "source": [
    "circuit = Circuit(5)\n",
    "circuit.hadamard(1)\n",
    "circuit.pauli_x(3)\n",
    "circuit.fredkin(1,3,4)\n",
    "result = QuantumUtil.run_circuit(circuit)\n",
    "QuantumUtil.histogram_of_classical_states(result)"
   ]
  },
  {
   "cell_type": "markdown",
   "metadata": {},
   "source": [
    "\n",
    "### Toffoli operation\n",
    "The Toffoli operation is a controlled-CNOT operation. \n",
    "Assume qubit $0$ is the control qubit and let unitary matrix $U_{\\text{CNOT}(a-1,b-1)}$ of size $N-1 \\times N-1$ \n",
    "be the unitary matrix corresponding to the CNOT operation on qubits $a$ and $b$, with $0 < a,b < N-1$.\n",
    "The unitary matrix $U_{\\text{toffoli}}$ of size $N \\times N$ for the corresponding controlled-CNOT operation \n",
    "is then defined by:\n",
    "\n",
    "$U_{\\text{toffoli}} = |0\\rangle \\langle 0| \\otimes \\mathbf{I_{N-1 \\times N-1}} + |1\\rangle \\langle 1| \\otimes \\text{CNOT}(a-1,b-1)$,\n",
    "\n",
    "where, $\\mathbf{I}_{N-1 \\times N-1}$ is the identity matrix of the same size as matrix $\\text{CNOT}(a-1,b-1)$.\n",
    "\n",
    "In QuantumSim, the Toffoli operation is implemented by first swapping the control qubit with qubit $0$, then applying $U_{\\text{toffoli}}$\n",
    "as defined above, and finally swapping qubit $0$ with the control qubit.\n",
    "\n",
    "Below, the class *CircuitUnitaryOperation* is extended with method *get_combined_operation_for_toffoli()*."
   ]
  },
  {
   "cell_type": "code",
   "execution_count": 10,
   "metadata": {},
   "outputs": [],
   "source": [
    "\"\"\"\n",
    "Functions to obtain N x N unitary matrices for unitary operations on quantum circuits of N qubits.\n",
    "\"\"\"\n",
    "class CircuitUnitaryOperation:\n",
    "    \n",
    "    @staticmethod\n",
    "    def get_combined_operation_for_toffoli(control, a, b, N):\n",
    "        combined_operation_swap_control_0 = CircuitUnitaryOperation.get_combined_operation_for_swap(control, 0, N)\n",
    "        combined_operation_cnot_a_b = CircuitUnitaryOperation.get_combined_operation_for_cnot(a-1, b-1, N-1)\n",
    "        combined_operation_toffoli = CircuitUnitaryOperation.get_combined_operation_for_controlled_unitary_operation(combined_operation_cnot_a_b)\n",
    "        return np.dot(np.dot(combined_operation_swap_control_0, combined_operation_toffoli), combined_operation_swap_control_0)\n",
    "    "
   ]
  },
  {
   "cell_type": "markdown",
   "metadata": {},
   "source": [
    "### Example\n",
    "In this example a circuit of $5$ qubits is created. The Hadamard operation is applied on qubit $1$ and the Pauli X operation on qubit $3$.\n",
    "Next, the Toffoli operation is applied, which is a controlled-CNOT operation. Qubit $4$ will be inverted when\n",
    "both qubit $1$ and qubit $3$ have state $|1\\rangle$."
   ]
  },
  {
   "cell_type": "code",
   "execution_count": 11,
   "metadata": {},
   "outputs": [
    {
     "name": "stderr",
     "output_type": "stream",
     "text": [
      "findfont: Font family 'Courier' not found.\n",
      "findfont: Font family 'Courier' not found.\n",
      "findfont: Font family 'Courier' not found.\n",
      "findfont: Font family 'Courier' not found.\n",
      "findfont: Font family 'Courier' not found.\n",
      "findfont: Font family 'Courier' not found.\n",
      "findfont: Font family 'Courier' not found.\n",
      "findfont: Font family 'Courier' not found.\n",
      "findfont: Font family 'Courier' not found.\n",
      "findfont: Font family 'Courier' not found.\n",
      "findfont: Font family 'Courier' not found.\n",
      "findfont: Font family 'Courier' not found.\n",
      "findfont: Font family 'Courier' not found.\n",
      "findfont: Font family 'Courier' not found.\n",
      "findfont: Font family 'Courier' not found.\n",
      "findfont: Font family 'Courier' not found.\n",
      "findfont: Font family 'Courier' not found.\n",
      "findfont: Font family 'Courier' not found.\n",
      "findfont: Font family 'Courier' not found.\n",
      "findfont: Font family 'Courier' not found.\n",
      "findfont: Font family 'Courier' not found.\n",
      "findfont: Font family 'Courier' not found.\n",
      "findfont: Font family 'Courier' not found.\n",
      "findfont: Font family 'Courier' not found.\n",
      "findfont: Font family 'Courier' not found.\n",
      "findfont: Font family 'Courier' not found.\n",
      "findfont: Font family 'Courier' not found.\n",
      "findfont: Font family 'Courier' not found.\n",
      "findfont: Font family 'Courier' not found.\n",
      "findfont: Font family 'Courier' not found.\n",
      "findfont: Font family 'Courier' not found.\n",
      "findfont: Font family 'Courier' not found.\n",
      "findfont: Font family 'Courier' not found.\n",
      "findfont: Font family 'Courier' not found.\n",
      "findfont: Font family 'Courier' not found.\n",
      "findfont: Font family 'Courier' not found.\n",
      "findfont: Font family 'Courier' not found.\n"
     ]
    },
    {
     "data": {
      "image/png": "[encoded data removed]",
      "text/plain": [
       "<Figure size 640x480 with 1 Axes>"
      ]
     },
     "metadata": {},
     "output_type": "display_data"
    }
   ],
   "source": [
    "circuit = Circuit(5)\n",
    "circuit.hadamard(1)\n",
    "circuit.pauli_x(3)\n",
    "circuit.toffoli(1,3,4)\n",
    "result = QuantumUtil.run_circuit(circuit)\n",
    "QuantumUtil.histogram_of_classical_states(result)"
   ]
  },
  {
   "cell_type": "markdown",
   "metadata": {},
   "source": [
    "### Example\n",
    "In this example a circuit of $5$ qubits is created. The Hadamard operation is applied on qubit $1$ and on qubit $3$.\n",
    "Next, the Toffoli operation is applied, which is a controlled-CNOT operation. As before, qubit $4$ will be inverted when\n",
    "both qubit $1$ and qubit $3$ have state $|1\\rangle$."
   ]
  },
  {
   "cell_type": "code",
   "execution_count": 12,
   "metadata": {},
   "outputs": [
    {
     "name": "stderr",
     "output_type": "stream",
     "text": [
      "findfont: Font family 'Courier' not found.\n",
      "findfont: Font family 'Courier' not found.\n",
      "findfont: Font family 'Courier' not found.\n",
      "findfont: Font family 'Courier' not found.\n",
      "findfont: Font family 'Courier' not found.\n",
      "findfont: Font family 'Courier' not found.\n",
      "findfont: Font family 'Courier' not found.\n",
      "findfont: Font family 'Courier' not found.\n",
      "findfont: Font family 'Courier' not found.\n",
      "findfont: Font family 'Courier' not found.\n",
      "findfont: Font family 'Courier' not found.\n",
      "findfont: Font family 'Courier' not found.\n",
      "findfont: Font family 'Courier' not found.\n",
      "findfont: Font family 'Courier' not found.\n",
      "findfont: Font family 'Courier' not found.\n",
      "findfont: Font family 'Courier' not found.\n",
      "findfont: Font family 'Courier' not found.\n",
      "findfont: Font family 'Courier' not found.\n",
      "findfont: Font family 'Courier' not found.\n",
      "findfont: Font family 'Courier' not found.\n",
      "findfont: Font family 'Courier' not found.\n",
      "findfont: Font family 'Courier' not found.\n",
      "findfont: Font family 'Courier' not found.\n",
      "findfont: Font family 'Courier' not found.\n",
      "findfont: Font family 'Courier' not found.\n",
      "findfont: Font family 'Courier' not found.\n",
      "findfont: Font family 'Courier' not found.\n",
      "findfont: Font family 'Courier' not found.\n",
      "findfont: Font family 'Courier' not found.\n",
      "findfont: Font family 'Courier' not found.\n",
      "findfont: Font family 'Courier' not found.\n",
      "findfont: Font family 'Courier' not found.\n",
      "findfont: Font family 'Courier' not found.\n",
      "findfont: Font family 'Courier' not found.\n",
      "findfont: Font family 'Courier' not found.\n",
      "findfont: Font family 'Courier' not found.\n",
      "findfont: Font family 'Courier' not found.\n",
      "findfont: Font family 'Courier' not found.\n",
      "findfont: Font family 'Courier' not found.\n",
      "findfont: Font family 'Courier' not found.\n",
      "findfont: Font family 'Courier' not found.\n",
      "findfont: Font family 'Courier' not found.\n",
      "findfont: Font family 'Courier' not found.\n"
     ]
    },
    {
     "data": {
      "image/png": "[encoded data removed]",
      "text/plain": [
       "<Figure size 640x480 with 1 Axes>"
      ]
     },
     "metadata": {},
     "output_type": "display_data"
    }
   ],
   "source": [
    "circuit = Circuit(5)\n",
    "circuit.hadamard(1)\n",
    "circuit.hadamard(3)\n",
    "circuit.toffoli(1,3,4)\n",
    "result = QuantumUtil.run_circuit(circuit)\n",
    "QuantumUtil.histogram_of_classical_states(result)"
   ]
  }
 ],
 "metadata": {
  "kernelspec": {
   "display_name": "Python 3",
   "language": "python",
   "name": "python3"
  },
  "language_info": {
   "codemirror_mode": {
    "name": "ipython",
    "version": 3
   },
   "file_extension": ".py",
   "mimetype": "text/x-python",
   "name": "python",
   "nbconvert_exporter": "python",
   "pygments_lexer": "ipython3",
   "version": "3.10.10"
  }
 },
 "nbformat": 4,
 "nbformat_minor": 2
}
