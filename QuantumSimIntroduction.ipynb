{
 "cells": [
  {
   "cell_type": "markdown",
   "metadata": {},
   "source": [
    "# QuantumSim - Introduction\n",
    "Author: Nico Kuijpers<br>\n",
    "Date: May 5, 2024"
   ]
  },
  {
   "cell_type": "markdown",
   "metadata": {},
   "source": [
    "In this Jupyter notebook we introduce QuantumSim, a simple quantum computer simulator."
   ]
  },
  {
   "cell_type": "markdown",
   "metadata": {},
   "source": [
    "## Required imports\n",
    "For this notebook, the following Python packages are required:\n",
    "* NumPy, a package for scientific computing in Python. See https://numpy.org/\n",
    "* Matplotlib, a library for visualizations in Python. See https://matplotlib.org/\n",
    "* Random, a module that implements pseudo-random number generators for various distributions. See https://docs.python.org/3/library/random.html\n",
    "* Counter, a container in which elements are stored as dictionary keys, and their counts are stored as dictionary values"
   ]
  },
  {
   "cell_type": "code",
   "execution_count": 1,
   "metadata": {},
   "outputs": [],
   "source": [
    "import numpy as np\n",
    "import matplotlib.pyplot as plt\n",
    "import random\n",
    "from collections import Counter"
   ]
  },
  {
   "cell_type": "markdown",
   "metadata": {},
   "source": [
    "## Dirac notation\n",
    "We will make use of the Dirac notation to describe (quantum) states and (quantum) operators. The following notation will be used:\n",
    "* $|a\\rangle$ is called *ket* and represents a column vector with $1$ in entry $a$ and $0$ everywhere else.\n",
    "* $\\langle a|$ is called *bra* and represents a row vector with $1$ in entry $a$ and $0$ everywhere else.\n",
    "* $\\langle a||b\\rangle$ or $\\langle a | b \\rangle$ is the *inner product* of $\\langle a|$ and $|b\\rangle$, which is $1$ if $a=b$ and $0$ if $a\\neq b$.\n",
    "* $|a\\rangle \\langle b|$ is the *outer product* of $|a\\rangle$ and $\\langle b|$, which is a matrix with $1$ in entry $(a,b)$ and $0$ everywhere else.\n",
    "\n",
    "Below, these functions are defined in Python for row and column vectors of length $N$."
   ]
  },
  {
   "cell_type": "code",
   "execution_count": 2,
   "metadata": {},
   "outputs": [],
   "source": [
    "\"\"\"\n",
    "Functions for the Dirac notation to describe (quantum) states and (quantum) operators.\n",
    "|a> is called 'ket' and represents a column vector with 1 in entry a and 0 everywhere else.\n",
    "<a| is called 'bra' and represents a row vector with 1 in entry a and 0 everywhere else.\n",
    "<a||b> is the inner product of <a| and |b>, which is 1 if a = b and 0 if a != b.\n",
    "|a><b| is the outer product of |a> and <b|, which is a matrix with 1 in entry (a,b) and 0 everywhere else.\n",
    "\"\"\"\n",
    "class Dirac:\n",
    "    \n",
    "    @staticmethod\n",
    "    def ket(N, a):\n",
    "        ket = np.zeros((N, 1))\n",
    "        ket[a, 0] = 1\n",
    "        return ket\n",
    "\n",
    "    @staticmethod\n",
    "    def bra(N, a):\n",
    "        bra = np.zeros((1, N))\n",
    "        bra[0, a] = 1\n",
    "        return bra\n",
    "\n",
    "    @staticmethod\n",
    "    def bra_ket(N, a, b):\n",
    "        bra = Dirac.bra(N, a)\n",
    "        ket = Dirac.ket(N, b)\n",
    "        return np.inner(bra, ket.T)\n",
    "\n",
    "    @staticmethod\n",
    "    def ket_bra(N, a, b):\n",
    "        ket = Dirac.ket(N, a)\n",
    "        bra = Dirac.bra(N, b)\n",
    "        return np.outer(ket, bra)"
   ]
  },
  {
   "cell_type": "markdown",
   "metadata": {},
   "source": [
    "### Example\n",
    "Below are some examples of how functions *ket()*, *bra()*, *bra_ket()*, and *ket_bra()* can be used in Python."
   ]
  },
  {
   "cell_type": "code",
   "execution_count": 3,
   "metadata": {},
   "outputs": [
    {
     "name": "stdout",
     "output_type": "stream",
     "text": [
      "|a> = \n",
      "[[0.]\n",
      " [0.]\n",
      " [1.]]\n",
      "\n",
      "<b| = [[0. 0. 1.]]\n",
      "\n",
      "<a|b> = [[1.]]\n",
      "\n",
      "|a><b| = \n",
      "[[0. 0. 0.]\n",
      " [0. 0. 0.]\n",
      " [0. 0. 1.]]\n",
      "\n"
     ]
    }
   ],
   "source": [
    "N = 3\n",
    "a = 2\n",
    "b = 2\n",
    "print(f\"|a> = \\n{Dirac.ket(N, a)}\\n\")\n",
    "print(f\"<b| = {Dirac.bra(N, b)}\\n\")\n",
    "print(f\"<a|b> = {Dirac.bra_ket(N, a, b)}\\n\")\n",
    "print(f\"|a><b| = \\n{Dirac.ket_bra(N, a, b)}\\n\")\n"
   ]
  },
  {
   "cell_type": "markdown",
   "metadata": {},
   "source": [
    "## Qubit unitary operations\n",
    "In QuantumSim, the following qubit unitary operations will be supported:\n",
    "\n",
    "Pauli operations $\\mathbf{I}$, $X = \\sigma_x$, $Y = \\sigma_y$, and $Z = \\sigma_z$ are quantum operations represented by the Pauli matrices:\n",
    "\n",
    "$\\mathbf{I} = \\begin{pmatrix} 1 & 0 \\\\ 0 & 1 \\end{pmatrix}$\n",
    "\n",
    "$\\sigma_x = \\begin{pmatrix} 0 & 1 \\\\ 1 & 0 \\end{pmatrix}$\n",
    "\n",
    "$\\sigma_y = \\begin{pmatrix} 0 & -i \\\\ i & 0 \\end{pmatrix}$\n",
    "\n",
    "$\\sigma_z = \\begin{pmatrix} 1 & 0 \\\\ 0 & -1 \\end{pmatrix}$\n",
    "\n",
    "The Hadamard operation $H$ is represented by\n",
    "\n",
    "$H = \\frac{1}{\\sqrt{2}} \\begin{pmatrix} 1 & 1 \\\\ 1 & -1 \\end{pmatrix}$\n",
    "\n",
    "Phase operations $P_\\theta$ are described by\n",
    "\n",
    "$P_\\theta = \\begin{pmatrix} 1 & 0 \\\\ 0 & e^{i\\theta} \\end{pmatrix}$\n",
    "\n",
    "These unitary operations are defined below in Python as static methods of class QubitUnitaryOperation."
   ]
  },
  {
   "cell_type": "code",
   "execution_count": 4,
   "metadata": {},
   "outputs": [],
   "source": [
    "\"\"\"\n",
    "Functions to obtain 2 x 2 unitary matrices for unitary qubit operations.\n",
    "\"\"\"\n",
    "class QubitUnitaryOperation:\n",
    "    \n",
    "    @staticmethod\n",
    "    def get_identity():\n",
    "        return np.array([[1,0],[0,1]],dtype=complex)\n",
    "    \n",
    "    @staticmethod\n",
    "    def get_pauli_x():\n",
    "        return np.array([[0,1],[1,0]],dtype=complex)\n",
    "    \n",
    "    @staticmethod\n",
    "    def get_pauli_y():\n",
    "        return np.array([[0,complex(0,-1)],[complex(0,1),0]])\n",
    "    \n",
    "    @staticmethod\n",
    "    def get_pauli_z():\n",
    "        return np.array([[1,0],[0,-1]],dtype=complex)\n",
    "    \n",
    "    @staticmethod\n",
    "    def get_hadamard():\n",
    "        c = complex(1/np.sqrt(2),0)\n",
    "        return np.array([[c,c],[c,-c]])\n",
    "    \n",
    "    @staticmethod\n",
    "    def get_phase(theta):\n",
    "        c = complex(np.cos(theta),np.sin(theta))\n",
    "        return np.array([[1,0],[0,c]])"
   ]
  },
  {
   "cell_type": "markdown",
   "metadata": {},
   "source": [
    "### Example\n",
    "Below are some examples of how qubit unitary operations can be created in Python."
   ]
  },
  {
   "cell_type": "code",
   "execution_count": 5,
   "metadata": {},
   "outputs": [
    {
     "name": "stdout",
     "output_type": "stream",
     "text": [
      "Pauli Y =\n",
      "[[0.+0.j 0.-1.j]\n",
      " [0.+1.j 0.+0.j]]\n",
      "\n",
      "Hadamard =\n",
      "[[ 0.70710678+0.j  0.70710678+0.j]\n",
      " [ 0.70710678+0.j -0.70710678-0.j]]\n",
      "\n",
      "Phase(0.7853981633974483) =\n",
      "[[1.        +0.j         0.        +0.j        ]\n",
      " [0.        +0.j         0.70710678+0.70710678j]]\n",
      "\n"
     ]
    }
   ],
   "source": [
    "print(f\"Pauli Y =\\n{QubitUnitaryOperation.get_pauli_y()}\\n\")\n",
    "print(f\"Hadamard =\\n{QubitUnitaryOperation.get_hadamard()}\\n\")\n",
    "theta = np.pi/4\n",
    "print(f\"Phase({theta}) =\\n{QubitUnitaryOperation.get_phase(theta)}\\n\")"
   ]
  },
  {
   "cell_type": "markdown",
   "metadata": {},
   "source": [
    "## Quantum states\n",
    "A single qubit can be in a superpostion of two basis states, here denoted by $|0\\rangle$ and $|1\\rangle$. \n",
    "The quantum state of a single qubit in super position can be represented as\n",
    "\n",
    "$|\\psi\\rangle = \\alpha|0\\rangle + \\beta|1\\rangle$,\n",
    "\n",
    "where $\\alpha$ is a complex number representing the probability that the qubit would be in state $|0\\rangle$ and \n",
    "$\\beta$ is a complex number representing the probability that the qubit would be in state $|1\\rangle$.\n",
    "To ensure that the total probalibility is equal to $1$, the coefficients $\\alpha$ and $\\beta$ should satisfy the\n",
    "normalization condition, i.e.,\n",
    "\n",
    "$|\\alpha|^2 + |\\beta|^2 = 1$.\n",
    "\n",
    "Here, $|\\alpha|$ and $|\\beta|$ represent the magnitude (or absolute value) of probability amplitudes $\\alpha$ and $\\beta$, respectively.\n",
    "The square of the magnitude represents the probability of measuring the qubit to be in the corresponding basis state.\n",
    "\n",
    "The basis states of a quantum circuit of $N$ qubits is represented by a column vector of length $N$ with entries $0$ and $1$.\n",
    "The first entry represents the state of the first qubit, $q_0$, the second entry the state of the second qubit, $q_1$, etc.\n",
    "Since each entry can be either $0$ or $1$, there are $2^N$ possible basis states. \n",
    "The quantum state of a quantum circuit of $N$ qubits is therefore represented by a column vector of complex numbers of length $2^N$, where\n",
    "the $i$-th entry in the state vector represents the probability amplitude associated with the $i$-th basis state of the system. \n",
    "\n",
    "In general, the quantum state of a circuit of $N$ qubits can be represented as\n",
    "\n",
    "$|\\psi\\rangle = \\sum_{i=0}^{2^N-1} \\alpha_i |i\\rangle$,\n",
    "\n",
    "where $|i\\rangle$ represents the $i$-th basis state and $\\alpha_i$ the probability amplitude corresponding to that basis state.\n",
    "\n",
    "As before, the coefficients $\\alpha_i$ are complex numbers and satisfy the normalization condition, i.e.,\n",
    "\n",
    "$\\sum_{i=0}^{2^N-1} |\\alpha_i|^2 = 1$. \n",
    "\n",
    "A quantum circuit of $2$ qubits has the following $4$ basis states for $0 \\leq i < 4$:\n",
    "* $i=0$: $|00\\rangle$\n",
    "* $i=1$: $|01\\rangle$\n",
    "* $i=2$: $|10\\rangle$\n",
    "* $i=3$: $|11\\rangle$\n",
    "\n",
    "Below, a function is defined to convert basis state $i$, $0 \\leq i < 2^N$, for a circuit of $N$ qubits to this notation."
   ]
  },
  {
   "cell_type": "code",
   "execution_count": 6,
   "metadata": {},
   "outputs": [],
   "source": [
    "\"\"\"\n",
    "Function to convert integer i, 0 <= i < N, to a quantum state in Dirac notation.\n",
    "\"\"\"\n",
    "def state_as_string(i,N):\n",
    "    # Check if 0 <= i < 2^N\n",
    "    if i < 0 or i >= 2**N:\n",
    "        raise ValueError(\"Input i and N must satisfy 0 <= i < 2^N\")\n",
    "    \n",
    "    binary_string = bin(i)\n",
    "    state_as_string = binary_string[2:]\n",
    "    state_as_string = state_as_string.zfill(N)\n",
    "    return \"|\" + state_as_string + \">\"\n"
   ]
  },
  {
   "cell_type": "markdown",
   "metadata": {},
   "source": [
    "### Example\n",
    "In this example we show all basis states of a circuit of $3$ qubits. "
   ]
  },
  {
   "cell_type": "code",
   "execution_count": 7,
   "metadata": {},
   "outputs": [
    {
     "name": "stdout",
     "output_type": "stream",
     "text": [
      "|000>\n",
      "|001>\n",
      "|010>\n",
      "|011>\n",
      "|100>\n",
      "|101>\n",
      "|110>\n",
      "|111>\n"
     ]
    }
   ],
   "source": [
    "N = 3\n",
    "for i in range(2**N):\n",
    "    print(state_as_string(i,N))\n"
   ]
  },
  {
   "cell_type": "markdown",
   "metadata": {},
   "source": [
    "## Unitary operations\n",
    "A unitary operation on a quantum circuit of $N$ qubits is represented by a $N \\times N$ unitary matrix of complex numbers.\n",
    "A square matrix of complex numbers $U$ is unitary if the following equalities are satisfied:\n",
    "\n",
    "$U^\\dagger U = \\mathbf{I} = U U^\\dagger$,\n",
    "\n",
    "where matrix $U^\\dagger$ represents the conjugate transpose of matrix $U$ and $\\mathbf{I}$ is the identity matrix of the same size.\n",
    "\n",
    "Below, we define a Python class StateVector representing the quantum state of a quantum circuit of $N$ qubits. \n",
    "\n",
    "Upon initialization, a quantum state vector of length $2^N$ will be created with first entry $1$ and all other entries $0$.\n",
    "Thus, the initial state represents quantum state $|0^N\\rangle$, where $0^N$ denotes $N$ consecutive zeros.\n",
    "\n",
    "With a method call of *apply_unitary_operation()* a unitary operation can be applied to the quantum state for unitary matrix \n",
    "$U$ of size $2^N \\times 2^N$. This operation will only be performed when $U$ satisfies $U^\\dagger U = \\mathbf{I}$, \n",
    "otherwise an error message will be printed.\n",
    "\n",
    "Upon method call *measure()*, the quantum state vector collapses to a classical state. \n",
    "When the state vector is measured, one of the $2^N$ possible basis states will chosen at random with probabilities $|\\alpha_i|^2$, where\n",
    "$\\alpha_i$ indicates the probability amplitude of basis state $i$. The chosen basis state is stored in instance variable *index*.\n",
    "\n",
    "Upon method call *print()*, the state vector will be printed to screen."
   ]
  },
  {
   "cell_type": "code",
   "execution_count": 8,
   "metadata": {},
   "outputs": [],
   "source": [
    "\"\"\"\n",
    "Class representing a quantum circuit of N qubits.\n",
    "\"\"\"\n",
    "class StateVector:\n",
    "    \n",
    "    def __init__(self, N):\n",
    "        self.N = N\n",
    "        self.index = 0\n",
    "        self.state_vector = np.zeros((2**self.N, 1), dtype=complex)\n",
    "        self.state_vector[self.index] = 1\n",
    "\n",
    "    def apply_unitary_operation(self, operation):\n",
    "        # Check if operation is a unitary matrix\n",
    "        if not np.allclose(np.eye(2**self.N), np.dot(np.conj(operation.T), operation)):\n",
    "            raise ValueError(\"Input matrix is not unitary\")\n",
    "        self.state_vector = np.dot(operation, self.state_vector)\n",
    "\n",
    "    def measure(self):\n",
    "        probalities = np.square(np.abs(self.state_vector)).flatten()\n",
    "        self.index = np.random.choice(len(probalities), p=probalities)\n",
    "\n",
    "    def get_quantum_state(self):\n",
    "        return self.state_vector\n",
    "    \n",
    "    def get_classical_state_as_string(self):\n",
    "        return state_as_string(self.index, self.N)\n",
    "    \n",
    "    def print(self):\n",
    "        for i, val in enumerate(self.state_vector):\n",
    "            print(f\"{state_as_string(i,self.N)} : {val[0]}\")"
   ]
  },
  {
   "cell_type": "markdown",
   "metadata": {},
   "source": [
    "### Example\n",
    "In this example, we create a quantum state vector for a single qubit and apply the Pauli X operation."
   ]
  },
  {
   "cell_type": "code",
   "execution_count": 9,
   "metadata": {},
   "outputs": [
    {
     "name": "stdout",
     "output_type": "stream",
     "text": [
      "Initial state\n",
      "|0> : (1+0j)\n",
      "|1> : 0j\n",
      "State after applying Pauli X operation\n",
      "|0> : 0j\n",
      "|1> : (1+0j)\n"
     ]
    }
   ],
   "source": [
    "state_vector = StateVector(1)\n",
    "print(\"Initial state\")\n",
    "state_vector.print()\n",
    "state_vector.apply_unitary_operation(QubitUnitaryOperation.get_pauli_x())\n",
    "print(\"State after applying Pauli X operation\")\n",
    "state_vector.print()"
   ]
  },
  {
   "cell_type": "markdown",
   "metadata": {},
   "source": [
    "### Circuit unitary operations\n",
    "Suppose we want to apply a qubit unitary operation on one of the qubits of a circuit of $N$ qubits and leave the other qubits alone.\n",
    "To do this, we first compute the corresponding $2^N \\times 2^N$ unitary matrix $U$ and then multiply $U$ with the state vector of length $2^N$.\n",
    "\n",
    "For example, suppose we have a circuit of $2$ qubits and we want to apply the Pauli X operator on the second qubit, leaving the first\n",
    "qubit alone.\n",
    "The $4 \\times 4$ unitary matrix $U$ representing the combined operation is the tensor product of the $2 \\times 2$ $\\mathbf{I}$ \n",
    "with the $2 \\times $ matrix $X$, i.e.,\n",
    "\n",
    "$U = \\mathbf{I} \\otimes X$.\n",
    "\n",
    "If we would have $4$ qubits and want to apply the Pauli X operation on the third qubit, then the unitary matrix $U$ would be of size\n",
    "$16 \\times 16$ and be defined by\n",
    "\n",
    "$U = \\mathbf{I} \\otimes \\mathbf{I} \\otimes X \\otimes \\mathbf{I}$.\n",
    "\n",
    "Quantum computing becomes interesting when an operation is applied to two or more qubits simultaneously. For example, \n",
    "in the case of a circuit of $2$ qubits, the controlled-NOT (or CNOT) operator is defined by\n",
    "\n",
    "$\\text{CNOT} = |0\\rangle \\langle 0| \\otimes \\mathbf{I} + |1\\rangle \\langle 1| \\otimes X = \n",
    "\\begin{pmatrix} 1 & 0 & 0 & 0 \\\\ 0 & 1 & 0 & 0 \\\\ 0 & 0 & 0 & 1 \\\\ 0 & 0 & 1 & 0 \\end{pmatrix}$\n",
    "\n",
    "Suppose we would have a circuit of $4$ qubits and we want to apply the CNOT operation with the second qubit as control and the fourth\n",
    "as target. Then the unitary matrix $U$ would be of size $16 \\times 16$ and be defined by\n",
    "\n",
    "$U = \n",
    "\\mathbf{I} \\otimes |0\\rangle \\langle 0| \\otimes \\mathbf{I} \\otimes \\mathbf{I} +\n",
    "\\mathbf{I} \\otimes |1\\rangle \\langle 1| \\otimes \\mathbf{I} \\otimes \\mathbf{X}$.\n",
    "\n",
    "Below we define the class CircuitUnitaryOperation which can be used to compute the $2^N \\times 2^N$ unitary matrices \n",
    "for Pauli, Hadamard, Phase, and CNOT operations on any combinations of qubits of a circuit of $N$ qubits."
   ]
  },
  {
   "cell_type": "code",
   "execution_count": 10,
   "metadata": {},
   "outputs": [],
   "source": [
    "\"\"\"\n",
    "Functions to obtain N x N unitary matrices for unitary operations on quantum circuits of N qubits.\n",
    "\"\"\"\n",
    "class CircuitUnitaryOperation:\n",
    "    \n",
    "    @staticmethod\n",
    "    def get_combined_operation_for_qubit(operation, q, N):\n",
    "        identity = QubitUnitaryOperation.get_identity()\n",
    "        combined_operation = np.eye(1,1)\n",
    "        for i in range(0, N):\n",
    "            if i == q:\n",
    "                combined_operation = np.kron(combined_operation, operation)\n",
    "            else:\n",
    "                combined_operation = np.kron(combined_operation, identity)\n",
    "        return combined_operation\n",
    "\n",
    "    @staticmethod\n",
    "    def get_combined_operation_for_identity(q, N):\n",
    "        return np.array(np.eye(2**N),dtype=complex)\n",
    "    \n",
    "    @staticmethod\n",
    "    def get_combined_operation_for_pauli_x(q, N):\n",
    "        pauli_x = QubitUnitaryOperation.get_pauli_x()\n",
    "        return CircuitUnitaryOperation.get_combined_operation_for_qubit(pauli_x, q, N)\n",
    "    \n",
    "    @staticmethod\n",
    "    def get_combined_operation_for_pauli_y(q, N):\n",
    "        pauli_y = QubitUnitaryOperation.get_pauli_y()\n",
    "        return CircuitUnitaryOperation.get_combined_operation_for_qubit(pauli_y, q, N)\n",
    "    \n",
    "    @staticmethod\n",
    "    def get_combined_operation_for_pauli_z(q, N):\n",
    "        pauli_z = QubitUnitaryOperation.get_pauli_z()\n",
    "        return CircuitUnitaryOperation.get_combined_operation_for_qubit(pauli_z, q, N)\n",
    "    \n",
    "    @staticmethod\n",
    "    def get_combined_operation_for_hadamard(q, N):\n",
    "        hadamard = QubitUnitaryOperation.get_hadamard()\n",
    "        return CircuitUnitaryOperation.get_combined_operation_for_qubit(hadamard, q, N)\n",
    "    \n",
    "    @staticmethod\n",
    "    def get_combined_operation_for_phase(theta, q, N):\n",
    "        phase = QubitUnitaryOperation.get_phase(theta)\n",
    "        return CircuitUnitaryOperation.get_combined_operation_for_qubit(phase, q, N)\n",
    "    \n",
    "    @staticmethod\n",
    "    def get_combined_operation_for_cnot(control, target, N):\n",
    "        identity = QubitUnitaryOperation.get_identity()\n",
    "        pauli_x = QubitUnitaryOperation.get_pauli_x()\n",
    "        ket_bra_00 = Dirac.ket_bra(2,0,0)\n",
    "        ket_bra_11 = Dirac.ket_bra(2,1,1)\n",
    "        combined_operation_zero = np.eye(1,1)\n",
    "        combined_operation_one = np.eye(1,1)\n",
    "        for i in range (0, N):\n",
    "            if control == i:\n",
    "                combined_operation_zero = np.kron(combined_operation_zero, ket_bra_00)\n",
    "                combined_operation_one  = np.kron(combined_operation_one, ket_bra_11)\n",
    "            elif target == i:\n",
    "                combined_operation_zero = np.kron(combined_operation_zero, identity)\n",
    "                combined_operation_one  = np.kron(combined_operation_one, pauli_x)\n",
    "            else:\n",
    "                combined_operation_zero = np.kron(combined_operation_zero, identity)\n",
    "                combined_operation_one  = np.kron(combined_operation_one, identity)\n",
    "            \n",
    "        return combined_operation_zero + combined_operation_one"
   ]
  },
  {
   "cell_type": "markdown",
   "metadata": {},
   "source": [
    "### Example\n",
    "In this example, we create the combined operation for the CNOT operator on a circuit of $2$ qubits. The first qubit is the control and the second is the target."
   ]
  },
  {
   "cell_type": "code",
   "execution_count": 11,
   "metadata": {},
   "outputs": [
    {
     "name": "stdout",
     "output_type": "stream",
     "text": [
      "[[1.+0.j 0.+0.j 0.+0.j 0.+0.j]\n",
      " [0.+0.j 1.+0.j 0.+0.j 0.+0.j]\n",
      " [0.+0.j 0.+0.j 0.+0.j 1.+0.j]\n",
      " [0.+0.j 0.+0.j 1.+0.j 0.+0.j]]\n"
     ]
    }
   ],
   "source": [
    "combined_operation = CircuitUnitaryOperation.get_combined_operation_for_cnot(0,1,2)\n",
    "print(combined_operation)"
   ]
  },
  {
   "cell_type": "markdown",
   "metadata": {},
   "source": [
    "### Example\n",
    "In this example, we create the combined operation for the CNOT operator on a circuit of $2$ qubits. The second qubit is the control and the first is the target."
   ]
  },
  {
   "cell_type": "code",
   "execution_count": 12,
   "metadata": {},
   "outputs": [
    {
     "name": "stdout",
     "output_type": "stream",
     "text": [
      "[[1.+0.j 0.+0.j 0.+0.j 0.+0.j]\n",
      " [0.+0.j 0.+0.j 0.+0.j 1.+0.j]\n",
      " [0.+0.j 0.+0.j 1.+0.j 0.+0.j]\n",
      " [0.+0.j 1.+0.j 0.+0.j 0.+0.j]]\n"
     ]
    }
   ],
   "source": [
    "combined_operation = CircuitUnitaryOperation.get_combined_operation_for_cnot(1,0,2)\n",
    "print(combined_operation)"
   ]
  },
  {
   "cell_type": "markdown",
   "metadata": {},
   "source": [
    "## Quantum Circuit\n",
    "A quantum circuit consists of $N$ qubits. \n",
    "It's quantum state is represented by a StateVector of length $2^N$ on which unitary operations can be applied. \n",
    "\n",
    "Below we define the class Circuit. In addition to the state vector it also has a list of operations and a list of\n",
    "descriptions describing each of the operations.\n",
    "Upon calling one of the \"apply_\" methods, the corresponding combined operation is computed and appended to the list of operations. \n",
    "Also an appropriate description is appended to the list of descriptions.\n",
    "\n",
    "Upon calling the method *execute()* all operations in the list are applied to the state vector, one after each other.\n",
    "By setting the *print_state* flag to True, the combined operations as well as all intermediate states as will be printed.\n",
    "\n",
    "Upon calling the method *measure()*, the quantum state collapses and a classical state will be determined. \n",
    "By settting the *print_state* flag to True, the measured (classical) state will be printed. The classical state\n",
    "can also be obtained by calling the method *get_classical_state_as_string()*."
   ]
  },
  {
   "cell_type": "code",
   "execution_count": 13,
   "metadata": {},
   "outputs": [],
   "source": [
    "\"\"\"\n",
    "Class representing a quantum circuit of N qubits.\n",
    "\"\"\"\n",
    "class Circuit:\n",
    "    \n",
    "    def __init__(self,N):\n",
    "        self.N = N\n",
    "        self.state_vector = StateVector(self.N)\n",
    "        self.quantum_states = [self.state_vector.get_quantum_state()]\n",
    "        self.descriptions = []\n",
    "        self.operations = []\n",
    "\n",
    "    def identity(self, q):\n",
    "        combined_operation = CircuitUnitaryOperation.get_combined_operation_for_identity(q, self.N)\n",
    "        self.descriptions.append(f\"Apply identity on qubit {q}\")\n",
    "        self.operations.append(combined_operation)\n",
    "\n",
    "    def pauli_x(self, q):\n",
    "        combined_operation = CircuitUnitaryOperation.get_combined_operation_for_pauli_x(q, self.N)\n",
    "        self.descriptions.append(f\"Apply Pauli X on qubit {q}\")\n",
    "        self.operations.append(combined_operation)\n",
    "\n",
    "    def pauli_y(self, q):\n",
    "        combined_operation = CircuitUnitaryOperation.get_combined_operation_for_pauli_y(q, self.N)\n",
    "        self.descriptions.append(f\"Apply Pauli Y on qubit {q}\")\n",
    "        self.operations.append(combined_operation)\n",
    "\n",
    "    def pauli_z(self, q):\n",
    "        combined_operation = CircuitUnitaryOperation.get_combined_operation_for_pauli_z(q, self.N)\n",
    "        self.descriptions.append(f\"Apply Pauli Z on qubit {q}\")\n",
    "        self.operations.append(combined_operation)\n",
    "\n",
    "    def hadamard(self, q):\n",
    "        combined_operation = CircuitUnitaryOperation.get_combined_operation_for_hadamard(q, self.N)\n",
    "        self.descriptions.append(f\"Apply Hadamard on qubit {q}\")\n",
    "        self.operations.append(combined_operation)\n",
    "\n",
    "    def phase(self, theta, q):\n",
    "        combined_operation = CircuitUnitaryOperation.get_combined_operation_for_phase(theta, q, self.N)\n",
    "        self.descriptions.append(f\"Apply Phase with theta = {theta} on qubit {q}\")\n",
    "        self.operations.append(combined_operation)\n",
    "\n",
    "    def cnot(self, control, target):\n",
    "        combined_operation = CircuitUnitaryOperation.get_combined_operation_for_cnot(control, target, self.N)\n",
    "        self.descriptions.append(f\"Apply CNOT with control qubit {control} and target qubit {target}\")\n",
    "        self.operations.append(combined_operation)\n",
    "\n",
    "    def execute(self, print_state=False):\n",
    "        self.state_vector = StateVector(self.N)\n",
    "        if print_state:\n",
    "            print(\"Initial quantum state\")\n",
    "            self.state_vector.print()\n",
    "        for operation, description in zip(self.operations, self.descriptions):\n",
    "            self.state_vector.apply_unitary_operation(operation)\n",
    "            self.quantum_states.append(self.state_vector.get_quantum_state())\n",
    "            if print_state:\n",
    "                print(description)\n",
    "                print(operation)\n",
    "                print(\"Current quantum state\")\n",
    "                self.state_vector.print()\n",
    "\n",
    "    def measure(self, print_state=False):\n",
    "        self.state_vector.measure()\n",
    "        if print_state:\n",
    "            print(\"Measured state:\")\n",
    "            print(self.state_vector.get_classical_state_as_string())\n",
    "\n",
    "    def get_classical_state_as_string(self):\n",
    "        return self.state_vector.get_classical_state_as_string()\n"
   ]
  },
  {
   "cell_type": "markdown",
   "metadata": {},
   "source": [
    "### Example\n",
    "In this example we create a circuit of two qubits. \n",
    "The Hadamard gate is applied to qubit $0$ and then the CNOT operation is applied with control qubit $0$ and target qubit $1$. \n",
    "During execution, all combined operations and intermidiate quantum states are printed. \n",
    "The circuit collapses to a classical state when measured. This classical state is also printed.\n",
    "\n",
    "Try to run this code several times and observe that sometimes the classiscal state is $|00\\rangle$, and sometimes it is $|11\\rangle$. \n",
    "\n",
    "As we will see later, this circuit implements one of the so-called Bell states. \n",
    "In this case, the Bell state $|\\Phi^+\\rangle$ (Phi plus state) is implemented."
   ]
  },
  {
   "cell_type": "code",
   "execution_count": 14,
   "metadata": {},
   "outputs": [
    {
     "name": "stdout",
     "output_type": "stream",
     "text": [
      "Initial quantum state\n",
      "|00> : (1+0j)\n",
      "|01> : 0j\n",
      "|10> : 0j\n",
      "|11> : 0j\n",
      "Apply Hadamard on qubit 0\n",
      "[[ 0.70710678+0.j  0.        +0.j  0.70710678+0.j  0.        +0.j]\n",
      " [ 0.        +0.j  0.70710678+0.j  0.        +0.j  0.70710678+0.j]\n",
      " [ 0.70710678+0.j  0.        +0.j -0.70710678-0.j  0.        -0.j]\n",
      " [ 0.        +0.j  0.70710678+0.j  0.        -0.j -0.70710678-0.j]]\n",
      "Current quantum state\n",
      "|00> : (0.7071067811865475+0j)\n",
      "|01> : 0j\n",
      "|10> : (0.7071067811865475+0j)\n",
      "|11> : 0j\n",
      "Apply CNOT with control qubit 0 and target qubit 1\n",
      "[[1.+0.j 0.+0.j 0.+0.j 0.+0.j]\n",
      " [0.+0.j 1.+0.j 0.+0.j 0.+0.j]\n",
      " [0.+0.j 0.+0.j 0.+0.j 1.+0.j]\n",
      " [0.+0.j 0.+0.j 1.+0.j 0.+0.j]]\n",
      "Current quantum state\n",
      "|00> : (0.7071067811865475+0j)\n",
      "|01> : 0j\n",
      "|10> : 0j\n",
      "|11> : (0.7071067811865475+0j)\n",
      "Measured state:\n",
      "|11>\n"
     ]
    }
   ],
   "source": [
    "circuit = Circuit(2)\n",
    "circuit.hadamard(0)\n",
    "circuit.cnot(0,1)\n",
    "circuit.execute(print_state=True)\n",
    "circuit.measure(print_state=True)"
   ]
  },
  {
   "cell_type": "markdown",
   "metadata": {},
   "source": [
    "### Example\n",
    "In this example we build the circuit implementing the $\\Phi^+$ Bell state once more, but now we run it $100$ times.\n",
    "The resulting classical states are stored in a string array. This string array is then printed. "
   ]
  },
  {
   "cell_type": "code",
   "execution_count": 15,
   "metadata": {},
   "outputs": [
    {
     "name": "stdout",
     "output_type": "stream",
     "text": [
      "['|00>', '|00>', '|11>', '|11>', '|00>', '|11>', '|00>', '|11>', '|11>', '|00>', '|11>', '|11>', '|00>', '|00>', '|11>', '|00>', '|11>', '|00>', '|00>', '|11>', '|00>', '|00>', '|11>', '|11>', '|00>', '|00>', '|11>', '|11>', '|11>', '|00>', '|11>', '|00>', '|00>', '|00>', '|00>', '|11>', '|00>', '|00>', '|11>', '|11>', '|00>', '|00>', '|11>', '|11>', '|11>', '|00>', '|00>', '|11>', '|11>', '|11>', '|11>', '|11>', '|11>', '|00>', '|11>', '|11>', '|00>', '|11>', '|11>', '|11>', '|00>', '|00>', '|00>', '|11>', '|11>', '|11>', '|11>', '|00>', '|11>', '|00>', '|11>', '|00>', '|11>', '|00>', '|00>', '|00>', '|11>', '|00>', '|11>', '|00>', '|00>', '|00>', '|00>', '|00>', '|00>', '|00>', '|00>', '|11>', '|00>', '|11>', '|11>', '|11>', '|00>', '|00>', '|11>', '|00>', '|11>', '|11>', '|00>', '|00>']\n"
     ]
    }
   ],
   "source": [
    "# Build the circuit\n",
    "circuit = Circuit(2)\n",
    "circuit.hadamard(0)\n",
    "circuit.cnot(0,1)\n",
    "# Execute and measure the circuit 100 times\n",
    "result = []\n",
    "for i in range(100):\n",
    "    circuit.execute()\n",
    "    circuit.measure()\n",
    "    result.append(circuit.get_classical_state_as_string())\n",
    "# Print the array of classical states\n",
    "print(result)"
   ]
  },
  {
   "cell_type": "markdown",
   "metadata": {},
   "source": [
    "## Histogram\n",
    "Below, a function is defined to plot a histogram for an array of strings. \n",
    "This function is then used to plot the number of occurrences of each classical state after measurement."
   ]
  },
  {
   "cell_type": "code",
   "execution_count": 16,
   "metadata": {},
   "outputs": [],
   "source": [
    "\"\"\"\n",
    "Function to plot a histogram of all classical states after executing the circuit multiple times.\n",
    "\"\"\"\n",
    "def histogram_of_classical_states(string_array):\n",
    "    histogram = Counter(string_array)\n",
    "    unique_strings = sorted(list(histogram.keys()))\n",
    "    counts = [histogram[string] for string in unique_strings]\n",
    "    plt.bar(unique_strings, counts)\n",
    "    if len(histogram) > 8:\n",
    "        plt.xticks(rotation='vertical')\n",
    "    plt.xlabel('Classical states')\n",
    "    plt.ylabel('Nr occurrences')\n",
    "    plt.title('Number of occurrences of classical states')\n",
    "    plt.show()\n"
   ]
  },
  {
   "cell_type": "code",
   "execution_count": 17,
   "metadata": {},
   "outputs": [
    {
     "data": {
      "image/png": "[encoded data removed]",
      "text/plain": [
       "<Figure size 640x480 with 1 Axes>"
      ]
     },
     "metadata": {},
     "output_type": "display_data"
    }
   ],
   "source": [
    "histogram_of_classical_states(result)"
   ]
  },
  {
   "cell_type": "markdown",
   "metadata": {},
   "source": [
    "## A function to run a circuit\n",
    "Below, we define a function to run a circuit a number of times and return an array of strings with the classical states."
   ]
  },
  {
   "cell_type": "code",
   "execution_count": 18,
   "metadata": {},
   "outputs": [],
   "source": [
    "\"\"\"\n",
    "Function to run a quantum circuit and measure the classical state.\n",
    "\"\"\"\n",
    "def run_circuit(circuit:Circuit, nr_runs=1000):\n",
    "    result = []\n",
    "    for i in range(nr_runs):\n",
    "        circuit.execute()\n",
    "        circuit.measure()\n",
    "        result.append(circuit.get_classical_state_as_string())\n",
    "    return result"
   ]
  },
  {
   "cell_type": "markdown",
   "metadata": {},
   "source": [
    "### Example\n",
    "Next, we create a circuit of $3$ qubits with one Hadamard gate and two CNOT operations. We run this circuit $1000$ times using the function *run_circuit()*.\n",
    "A histogram showing the occurrences of classical states is then created using the function *histogram_of_classical_states()*."
   ]
  },
  {
   "cell_type": "code",
   "execution_count": 19,
   "metadata": {},
   "outputs": [],
   "source": [
    "c = Circuit(3)\n",
    "c.hadamard(0)\n",
    "c.cnot(0,1)\n",
    "c.cnot(1,2)\n",
    "result = run_circuit(c)"
   ]
  },
  {
   "cell_type": "code",
   "execution_count": 20,
   "metadata": {},
   "outputs": [
    {
     "data": {
      "image/png": "[encoded data removed]",
      "text/plain": [
       "<Figure size 640x480 with 1 Axes>"
      ]
     },
     "metadata": {},
     "output_type": "display_data"
    }
   ],
   "source": [
    "histogram_of_classical_states(result)"
   ]
  },
  {
   "cell_type": "markdown",
   "metadata": {},
   "source": [
    "All classes and functions introduced in this notebook are also defined in Python program *quantumsim.py*. Subsequent notebooks will rely on this code. We therefore recommmend to download this file to your own computer and study its contents. \n",
    "Here is a direct link: https://github.com/nicokuijpers/QuantumSim/blob/main/quantumsim.py"
   ]
  },
  {
   "cell_type": "markdown",
   "metadata": {},
   "source": []
  }
 ],
 "metadata": {
  "kernelspec": {
   "display_name": "Python 3 (ipykernel)",
   "language": "python",
   "name": "python3"
  },
  "language_info": {
   "codemirror_mode": {
    "name": "ipython",
    "version": 3
   },
   "file_extension": ".py",
   "mimetype": "text/x-python",
   "name": "python",
   "nbconvert_exporter": "python",
   "pygments_lexer": "ipython3",
   "version": "3.10.8"
  }
 },
 "nbformat": 4,
 "nbformat_minor": 2
}
